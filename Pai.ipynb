{
 "cells": [
  {
   "cell_type": "code",
   "execution_count": 97,
   "metadata": {
    "collapsed": true
   },
   "outputs": [
    {
     "data": {
      "text/plain": [
       "Index(['date', 'precipitation', 'temp_max', 'temp_min', 'wind', 'weather'], dtype='object')"
      ]
     },
     "execution_count": 97,
     "metadata": {},
     "output_type": "execute_result"
    }
   ],
   "source": [
    "import pandas as pd\n",
    "import matplotlib.pyplot as plt\n",
    "import plotly.express as px\n",
    "import seaborn as sns\n",
    "\n",
    "data= pd.read_csv(\"weatherdata.csv\")\n",
    "data.columns"
   ]
  },
  {
   "cell_type": "code",
   "execution_count": 98,
   "metadata": {
    "collapsed": false
   },
   "outputs": [],
   "source": [
    "data.drop(['date'],axis=1,inplace=True)"
   ]
  },
  {
   "cell_type": "code",
   "execution_count": 99,
   "metadata": {
    "collapsed": false
   },
   "outputs": [],
   "source": [
    "dataset=data.sample(frac=1).reset_index()"
   ]
  },
  {
   "cell_type": "code",
   "execution_count": 100,
   "metadata": {
    "collapsed": false
   },
   "outputs": [
    {
     "data": {
      "text/html": [
       "<div>\n",
       "<style scoped>\n",
       "    .dataframe tbody tr th:only-of-type {\n",
       "        vertical-align: middle;\n",
       "    }\n",
       "\n",
       "    .dataframe tbody tr th {\n",
       "        vertical-align: top;\n",
       "    }\n",
       "\n",
       "    .dataframe thead th {\n",
       "        text-align: right;\n",
       "    }\n",
       "</style>\n",
       "<table border=\"1\" class=\"dataframe\">\n",
       "  <thead>\n",
       "    <tr style=\"text-align: right;\">\n",
       "      <th></th>\n",
       "      <th>index</th>\n",
       "      <th>precipitation</th>\n",
       "      <th>temp_max</th>\n",
       "      <th>temp_min</th>\n",
       "      <th>wind</th>\n",
       "      <th>weather</th>\n",
       "    </tr>\n",
       "  </thead>\n",
       "  <tbody>\n",
       "    <tr>\n",
       "      <th>0</th>\n",
       "      <td>282</td>\n",
       "      <td>0.0</td>\n",
       "      <td>16.1</td>\n",
       "      <td>8.9</td>\n",
       "      <td>1.6</td>\n",
       "      <td>drizzle</td>\n",
       "    </tr>\n",
       "    <tr>\n",
       "      <th>1</th>\n",
       "      <td>434</td>\n",
       "      <td>0.8</td>\n",
       "      <td>7.8</td>\n",
       "      <td>3.9</td>\n",
       "      <td>1.6</td>\n",
       "      <td>rain</td>\n",
       "    </tr>\n",
       "    <tr>\n",
       "      <th>2</th>\n",
       "      <td>449</td>\n",
       "      <td>0.0</td>\n",
       "      <td>16.7</td>\n",
       "      <td>4.4</td>\n",
       "      <td>2.8</td>\n",
       "      <td>sun</td>\n",
       "    </tr>\n",
       "    <tr>\n",
       "      <th>3</th>\n",
       "      <td>306</td>\n",
       "      <td>5.6</td>\n",
       "      <td>15.0</td>\n",
       "      <td>10.6</td>\n",
       "      <td>1.0</td>\n",
       "      <td>rain</td>\n",
       "    </tr>\n",
       "    <tr>\n",
       "      <th>4</th>\n",
       "      <td>992</td>\n",
       "      <td>0.0</td>\n",
       "      <td>23.9</td>\n",
       "      <td>16.1</td>\n",
       "      <td>2.8</td>\n",
       "      <td>sun</td>\n",
       "    </tr>\n",
       "  </tbody>\n",
       "</table>\n",
       "</div>"
      ],
      "text/plain": [
       "   index  precipitation  temp_max  temp_min  wind  weather\n",
       "0    282            0.0      16.1       8.9   1.6  drizzle\n",
       "1    434            0.8       7.8       3.9   1.6     rain\n",
       "2    449            0.0      16.7       4.4   2.8      sun\n",
       "3    306            5.6      15.0      10.6   1.0     rain\n",
       "4    992            0.0      23.9      16.1   2.8      sun"
      ]
     },
     "execution_count": 100,
     "metadata": {},
     "output_type": "execute_result"
    }
   ],
   "source": [
    "dataset.head()"
   ]
  },
  {
   "cell_type": "code",
   "execution_count": 101,
   "metadata": {
    "collapsed": false
   },
   "outputs": [
    {
     "name": "stdout",
     "output_type": "stream",
     "text": [
      "<class 'pandas.core.frame.DataFrame'>\n",
      "RangeIndex: 1461 entries, 0 to 1460\n",
      "Data columns (total 6 columns):\n",
      " #   Column         Non-Null Count  Dtype  \n",
      "---  ------         --------------  -----  \n",
      " 0   index          1461 non-null   int64  \n",
      " 1   precipitation  1461 non-null   float64\n",
      " 2   temp_max       1461 non-null   float64\n",
      " 3   temp_min       1461 non-null   float64\n",
      " 4   wind           1461 non-null   float64\n",
      " 5   weather        1461 non-null   object \n",
      "dtypes: float64(4), int64(1), object(1)\n",
      "memory usage: 68.6+ KB\n"
     ]
    }
   ],
   "source": [
    "dataset.info()"
   ]
  },
  {
   "cell_type": "code",
   "execution_count": 102,
   "metadata": {
    "collapsed": false
   },
   "outputs": [
    {
     "data": {
      "text/plain": [
       "(1461, 6)"
      ]
     },
     "execution_count": 102,
     "metadata": {},
     "output_type": "execute_result"
    }
   ],
   "source": [
    "dataset.shape"
   ]
  },
  {
   "cell_type": "code",
   "execution_count": 103,
   "metadata": {
    "collapsed": false
   },
   "outputs": [
    {
     "data": {
      "text/plain": [
       "index            0\n",
       "precipitation    0\n",
       "temp_max         0\n",
       "temp_min         0\n",
       "wind             0\n",
       "weather          0\n",
       "dtype: int64"
      ]
     },
     "execution_count": 103,
     "metadata": {},
     "output_type": "execute_result"
    }
   ],
   "source": [
    "dataset.isna().sum()"
   ]
  },
  {
   "cell_type": "code",
   "execution_count": 104,
   "metadata": {
    "collapsed": false
   },
   "outputs": [
    {
     "data": {
      "text/plain": [
       "index            1461\n",
       "precipitation     111\n",
       "temp_max           67\n",
       "temp_min           55\n",
       "wind               79\n",
       "weather             5\n",
       "dtype: int64"
      ]
     },
     "execution_count": 104,
     "metadata": {},
     "output_type": "execute_result"
    }
   ],
   "source": [
    "dataset.nunique()"
   ]
  },
  {
   "cell_type": "code",
   "execution_count": 105,
   "metadata": {
    "collapsed": false
   },
   "outputs": [
    {
     "data": {
      "text/plain": [
       "array(['drizzle', 'rain', 'sun', 'fog', 'snow'], dtype=object)"
      ]
     },
     "execution_count": 105,
     "metadata": {},
     "output_type": "execute_result"
    }
   ],
   "source": [
    "dataset[\"weather\"].unique()"
   ]
  },
  {
   "cell_type": "code",
   "execution_count": 106,
   "metadata": {
    "collapsed": false
   },
   "outputs": [
    {
     "data": {
      "text/plain": [
       "rain       641\n",
       "sun        640\n",
       "fog        101\n",
       "drizzle     53\n",
       "snow        26\n",
       "Name: weather, dtype: int64"
      ]
     },
     "execution_count": 106,
     "metadata": {},
     "output_type": "execute_result"
    }
   ],
   "source": [
    "dataset.weather.value_counts()"
   ]
  },
  {
   "cell_type": "code",
   "execution_count": 107,
   "metadata": {
    "collapsed": false
   },
   "outputs": [
    {
     "data": {
      "application/vnd.plotly.v1+json": {
       "config": {
        "plotlyServerURL": "https://plot.ly"
       },
       "data": [
        {
         "alignmentgroup": "True",
         "bingroup": "x",
         "hovertemplate": "weather=%{x}<br>count=%{y}<extra></extra>",
         "legendgroup": "drizzle",
         "marker": {
          "color": "#636efa",
          "pattern": {
           "shape": ""
          }
         },
         "name": "drizzle",
         "offsetgroup": "drizzle",
         "orientation": "v",
         "showlegend": true,
         "texttemplate": "%{value}",
         "type": "histogram",
         "x": [
          "drizzle",
          "drizzle",
          "drizzle",
          "drizzle",
          "drizzle",
          "drizzle",
          "drizzle",
          "drizzle",
          "drizzle",
          "drizzle",
          "drizzle",
          "drizzle",
          "drizzle",
          "drizzle",
          "drizzle",
          "drizzle",
          "drizzle",
          "drizzle",
          "drizzle",
          "drizzle",
          "drizzle",
          "drizzle",
          "drizzle",
          "drizzle",
          "drizzle",
          "drizzle",
          "drizzle",
          "drizzle",
          "drizzle",
          "drizzle",
          "drizzle",
          "drizzle",
          "drizzle",
          "drizzle",
          "drizzle",
          "drizzle",
          "drizzle",
          "drizzle",
          "drizzle",
          "drizzle",
          "drizzle",
          "drizzle",
          "drizzle",
          "drizzle",
          "drizzle",
          "drizzle",
          "drizzle",
          "drizzle",
          "drizzle",
          "drizzle",
          "drizzle",
          "drizzle",
          "drizzle"
         ],
         "xaxis": "x",
         "yaxis": "y"
        },
        {
         "alignmentgroup": "True",
         "bingroup": "x",
         "hovertemplate": "weather=%{x}<br>count=%{y}<extra></extra>",
         "legendgroup": "rain",
         "marker": {
          "color": "#EF553B",
          "pattern": {
           "shape": ""
          }
         },
         "name": "rain",
         "offsetgroup": "rain",
         "orientation": "v",
         "showlegend": true,
         "texttemplate": "%{value}",
         "type": "histogram",
         "x": [
          "rain",
          "rain",
          "rain",
          "rain",
          "rain",
          "rain",
          "rain",
          "rain",
          "rain",
          "rain",
          "rain",
          "rain",
          "rain",
          "rain",
          "rain",
          "rain",
          "rain",
          "rain",
          "rain",
          "rain",
          "rain",
          "rain",
          "rain",
          "rain",
          "rain",
          "rain",
          "rain",
          "rain",
          "rain",
          "rain",
          "rain",
          "rain",
          "rain",
          "rain",
          "rain",
          "rain",
          "rain",
          "rain",
          "rain",
          "rain",
          "rain",
          "rain",
          "rain",
          "rain",
          "rain",
          "rain",
          "rain",
          "rain",
          "rain",
          "rain",
          "rain",
          "rain",
          "rain",
          "rain",
          "rain",
          "rain",
          "rain",
          "rain",
          "rain",
          "rain",
          "rain",
          "rain",
          "rain",
          "rain",
          "rain",
          "rain",
          "rain",
          "rain",
          "rain",
          "rain",
          "rain",
          "rain",
          "rain",
          "rain",
          "rain",
          "rain",
          "rain",
          "rain",
          "rain",
          "rain",
          "rain",
          "rain",
          "rain",
          "rain",
          "rain",
          "rain",
          "rain",
          "rain",
          "rain",
          "rain",
          "rain",
          "rain",
          "rain",
          "rain",
          "rain",
          "rain",
          "rain",
          "rain",
          "rain",
          "rain",
          "rain",
          "rain",
          "rain",
          "rain",
          "rain",
          "rain",
          "rain",
          "rain",
          "rain",
          "rain",
          "rain",
          "rain",
          "rain",
          "rain",
          "rain",
          "rain",
          "rain",
          "rain",
          "rain",
          "rain",
          "rain",
          "rain",
          "rain",
          "rain",
          "rain",
          "rain",
          "rain",
          "rain",
          "rain",
          "rain",
          "rain",
          "rain",
          "rain",
          "rain",
          "rain",
          "rain",
          "rain",
          "rain",
          "rain",
          "rain",
          "rain",
          "rain",
          "rain",
          "rain",
          "rain",
          "rain",
          "rain",
          "rain",
          "rain",
          "rain",
          "rain",
          "rain",
          "rain",
          "rain",
          "rain",
          "rain",
          "rain",
          "rain",
          "rain",
          "rain",
          "rain",
          "rain",
          "rain",
          "rain",
          "rain",
          "rain",
          "rain",
          "rain",
          "rain",
          "rain",
          "rain",
          "rain",
          "rain",
          "rain",
          "rain",
          "rain",
          "rain",
          "rain",
          "rain",
          "rain",
          "rain",
          "rain",
          "rain",
          "rain",
          "rain",
          "rain",
          "rain",
          "rain",
          "rain",
          "rain",
          "rain",
          "rain",
          "rain",
          "rain",
          "rain",
          "rain",
          "rain",
          "rain",
          "rain",
          "rain",
          "rain",
          "rain",
          "rain",
          "rain",
          "rain",
          "rain",
          "rain",
          "rain",
          "rain",
          "rain",
          "rain",
          "rain",
          "rain",
          "rain",
          "rain",
          "rain",
          "rain",
          "rain",
          "rain",
          "rain",
          "rain",
          "rain",
          "rain",
          "rain",
          "rain",
          "rain",
          "rain",
          "rain",
          "rain",
          "rain",
          "rain",
          "rain",
          "rain",
          "rain",
          "rain",
          "rain",
          "rain",
          "rain",
          "rain",
          "rain",
          "rain",
          "rain",
          "rain",
          "rain",
          "rain",
          "rain",
          "rain",
          "rain",
          "rain",
          "rain",
          "rain",
          "rain",
          "rain",
          "rain",
          "rain",
          "rain",
          "rain",
          "rain",
          "rain",
          "rain",
          "rain",
          "rain",
          "rain",
          "rain",
          "rain",
          "rain",
          "rain",
          "rain",
          "rain",
          "rain",
          "rain",
          "rain",
          "rain",
          "rain",
          "rain",
          "rain",
          "rain",
          "rain",
          "rain",
          "rain",
          "rain",
          "rain",
          "rain",
          "rain",
          "rain",
          "rain",
          "rain",
          "rain",
          "rain",
          "rain",
          "rain",
          "rain",
          "rain",
          "rain",
          "rain",
          "rain",
          "rain",
          "rain",
          "rain",
          "rain",
          "rain",
          "rain",
          "rain",
          "rain",
          "rain",
          "rain",
          "rain",
          "rain",
          "rain",
          "rain",
          "rain",
          "rain",
          "rain",
          "rain",
          "rain",
          "rain",
          "rain",
          "rain",
          "rain",
          "rain",
          "rain",
          "rain",
          "rain",
          "rain",
          "rain",
          "rain",
          "rain",
          "rain",
          "rain",
          "rain",
          "rain",
          "rain",
          "rain",
          "rain",
          "rain",
          "rain",
          "rain",
          "rain",
          "rain",
          "rain",
          "rain",
          "rain",
          "rain",
          "rain",
          "rain",
          "rain",
          "rain",
          "rain",
          "rain",
          "rain",
          "rain",
          "rain",
          "rain",
          "rain",
          "rain",
          "rain",
          "rain",
          "rain",
          "rain",
          "rain",
          "rain",
          "rain",
          "rain",
          "rain",
          "rain",
          "rain",
          "rain",
          "rain",
          "rain",
          "rain",
          "rain",
          "rain",
          "rain",
          "rain",
          "rain",
          "rain",
          "rain",
          "rain",
          "rain",
          "rain",
          "rain",
          "rain",
          "rain",
          "rain",
          "rain",
          "rain",
          "rain",
          "rain",
          "rain",
          "rain",
          "rain",
          "rain",
          "rain",
          "rain",
          "rain",
          "rain",
          "rain",
          "rain",
          "rain",
          "rain",
          "rain",
          "rain",
          "rain",
          "rain",
          "rain",
          "rain",
          "rain",
          "rain",
          "rain",
          "rain",
          "rain",
          "rain",
          "rain",
          "rain",
          "rain",
          "rain",
          "rain",
          "rain",
          "rain",
          "rain",
          "rain",
          "rain",
          "rain",
          "rain",
          "rain",
          "rain",
          "rain",
          "rain",
          "rain",
          "rain",
          "rain",
          "rain",
          "rain",
          "rain",
          "rain",
          "rain",
          "rain",
          "rain",
          "rain",
          "rain",
          "rain",
          "rain",
          "rain",
          "rain",
          "rain",
          "rain",
          "rain",
          "rain",
          "rain",
          "rain",
          "rain",
          "rain",
          "rain",
          "rain",
          "rain",
          "rain",
          "rain",
          "rain",
          "rain",
          "rain",
          "rain",
          "rain",
          "rain",
          "rain",
          "rain",
          "rain",
          "rain",
          "rain",
          "rain",
          "rain",
          "rain",
          "rain",
          "rain",
          "rain",
          "rain",
          "rain",
          "rain",
          "rain",
          "rain",
          "rain",
          "rain",
          "rain",
          "rain",
          "rain",
          "rain",
          "rain",
          "rain",
          "rain",
          "rain",
          "rain",
          "rain",
          "rain",
          "rain",
          "rain",
          "rain",
          "rain",
          "rain",
          "rain",
          "rain",
          "rain",
          "rain",
          "rain",
          "rain",
          "rain",
          "rain",
          "rain",
          "rain",
          "rain",
          "rain",
          "rain",
          "rain",
          "rain",
          "rain",
          "rain",
          "rain",
          "rain",
          "rain",
          "rain",
          "rain",
          "rain",
          "rain",
          "rain",
          "rain",
          "rain",
          "rain",
          "rain",
          "rain",
          "rain",
          "rain",
          "rain",
          "rain",
          "rain",
          "rain",
          "rain",
          "rain",
          "rain",
          "rain",
          "rain",
          "rain",
          "rain",
          "rain",
          "rain",
          "rain",
          "rain",
          "rain",
          "rain",
          "rain",
          "rain",
          "rain",
          "rain",
          "rain",
          "rain",
          "rain",
          "rain",
          "rain",
          "rain",
          "rain",
          "rain",
          "rain",
          "rain",
          "rain",
          "rain",
          "rain",
          "rain",
          "rain",
          "rain",
          "rain",
          "rain",
          "rain",
          "rain",
          "rain",
          "rain",
          "rain",
          "rain",
          "rain",
          "rain",
          "rain",
          "rain",
          "rain",
          "rain",
          "rain",
          "rain",
          "rain",
          "rain",
          "rain",
          "rain",
          "rain",
          "rain",
          "rain",
          "rain",
          "rain",
          "rain",
          "rain",
          "rain",
          "rain",
          "rain",
          "rain",
          "rain",
          "rain",
          "rain",
          "rain",
          "rain",
          "rain",
          "rain",
          "rain",
          "rain",
          "rain",
          "rain",
          "rain",
          "rain",
          "rain",
          "rain",
          "rain",
          "rain",
          "rain",
          "rain",
          "rain",
          "rain",
          "rain",
          "rain",
          "rain",
          "rain",
          "rain",
          "rain",
          "rain",
          "rain",
          "rain",
          "rain",
          "rain",
          "rain",
          "rain",
          "rain",
          "rain",
          "rain",
          "rain",
          "rain",
          "rain",
          "rain",
          "rain",
          "rain",
          "rain"
         ],
         "xaxis": "x",
         "yaxis": "y"
        },
        {
         "alignmentgroup": "True",
         "bingroup": "x",
         "hovertemplate": "weather=%{x}<br>count=%{y}<extra></extra>",
         "legendgroup": "sun",
         "marker": {
          "color": "#00cc96",
          "pattern": {
           "shape": ""
          }
         },
         "name": "sun",
         "offsetgroup": "sun",
         "orientation": "v",
         "showlegend": true,
         "texttemplate": "%{value}",
         "type": "histogram",
         "x": [
          "sun",
          "sun",
          "sun",
          "sun",
          "sun",
          "sun",
          "sun",
          "sun",
          "sun",
          "sun",
          "sun",
          "sun",
          "sun",
          "sun",
          "sun",
          "sun",
          "sun",
          "sun",
          "sun",
          "sun",
          "sun",
          "sun",
          "sun",
          "sun",
          "sun",
          "sun",
          "sun",
          "sun",
          "sun",
          "sun",
          "sun",
          "sun",
          "sun",
          "sun",
          "sun",
          "sun",
          "sun",
          "sun",
          "sun",
          "sun",
          "sun",
          "sun",
          "sun",
          "sun",
          "sun",
          "sun",
          "sun",
          "sun",
          "sun",
          "sun",
          "sun",
          "sun",
          "sun",
          "sun",
          "sun",
          "sun",
          "sun",
          "sun",
          "sun",
          "sun",
          "sun",
          "sun",
          "sun",
          "sun",
          "sun",
          "sun",
          "sun",
          "sun",
          "sun",
          "sun",
          "sun",
          "sun",
          "sun",
          "sun",
          "sun",
          "sun",
          "sun",
          "sun",
          "sun",
          "sun",
          "sun",
          "sun",
          "sun",
          "sun",
          "sun",
          "sun",
          "sun",
          "sun",
          "sun",
          "sun",
          "sun",
          "sun",
          "sun",
          "sun",
          "sun",
          "sun",
          "sun",
          "sun",
          "sun",
          "sun",
          "sun",
          "sun",
          "sun",
          "sun",
          "sun",
          "sun",
          "sun",
          "sun",
          "sun",
          "sun",
          "sun",
          "sun",
          "sun",
          "sun",
          "sun",
          "sun",
          "sun",
          "sun",
          "sun",
          "sun",
          "sun",
          "sun",
          "sun",
          "sun",
          "sun",
          "sun",
          "sun",
          "sun",
          "sun",
          "sun",
          "sun",
          "sun",
          "sun",
          "sun",
          "sun",
          "sun",
          "sun",
          "sun",
          "sun",
          "sun",
          "sun",
          "sun",
          "sun",
          "sun",
          "sun",
          "sun",
          "sun",
          "sun",
          "sun",
          "sun",
          "sun",
          "sun",
          "sun",
          "sun",
          "sun",
          "sun",
          "sun",
          "sun",
          "sun",
          "sun",
          "sun",
          "sun",
          "sun",
          "sun",
          "sun",
          "sun",
          "sun",
          "sun",
          "sun",
          "sun",
          "sun",
          "sun",
          "sun",
          "sun",
          "sun",
          "sun",
          "sun",
          "sun",
          "sun",
          "sun",
          "sun",
          "sun",
          "sun",
          "sun",
          "sun",
          "sun",
          "sun",
          "sun",
          "sun",
          "sun",
          "sun",
          "sun",
          "sun",
          "sun",
          "sun",
          "sun",
          "sun",
          "sun",
          "sun",
          "sun",
          "sun",
          "sun",
          "sun",
          "sun",
          "sun",
          "sun",
          "sun",
          "sun",
          "sun",
          "sun",
          "sun",
          "sun",
          "sun",
          "sun",
          "sun",
          "sun",
          "sun",
          "sun",
          "sun",
          "sun",
          "sun",
          "sun",
          "sun",
          "sun",
          "sun",
          "sun",
          "sun",
          "sun",
          "sun",
          "sun",
          "sun",
          "sun",
          "sun",
          "sun",
          "sun",
          "sun",
          "sun",
          "sun",
          "sun",
          "sun",
          "sun",
          "sun",
          "sun",
          "sun",
          "sun",
          "sun",
          "sun",
          "sun",
          "sun",
          "sun",
          "sun",
          "sun",
          "sun",
          "sun",
          "sun",
          "sun",
          "sun",
          "sun",
          "sun",
          "sun",
          "sun",
          "sun",
          "sun",
          "sun",
          "sun",
          "sun",
          "sun",
          "sun",
          "sun",
          "sun",
          "sun",
          "sun",
          "sun",
          "sun",
          "sun",
          "sun",
          "sun",
          "sun",
          "sun",
          "sun",
          "sun",
          "sun",
          "sun",
          "sun",
          "sun",
          "sun",
          "sun",
          "sun",
          "sun",
          "sun",
          "sun",
          "sun",
          "sun",
          "sun",
          "sun",
          "sun",
          "sun",
          "sun",
          "sun",
          "sun",
          "sun",
          "sun",
          "sun",
          "sun",
          "sun",
          "sun",
          "sun",
          "sun",
          "sun",
          "sun",
          "sun",
          "sun",
          "sun",
          "sun",
          "sun",
          "sun",
          "sun",
          "sun",
          "sun",
          "sun",
          "sun",
          "sun",
          "sun",
          "sun",
          "sun",
          "sun",
          "sun",
          "sun",
          "sun",
          "sun",
          "sun",
          "sun",
          "sun",
          "sun",
          "sun",
          "sun",
          "sun",
          "sun",
          "sun",
          "sun",
          "sun",
          "sun",
          "sun",
          "sun",
          "sun",
          "sun",
          "sun",
          "sun",
          "sun",
          "sun",
          "sun",
          "sun",
          "sun",
          "sun",
          "sun",
          "sun",
          "sun",
          "sun",
          "sun",
          "sun",
          "sun",
          "sun",
          "sun",
          "sun",
          "sun",
          "sun",
          "sun",
          "sun",
          "sun",
          "sun",
          "sun",
          "sun",
          "sun",
          "sun",
          "sun",
          "sun",
          "sun",
          "sun",
          "sun",
          "sun",
          "sun",
          "sun",
          "sun",
          "sun",
          "sun",
          "sun",
          "sun",
          "sun",
          "sun",
          "sun",
          "sun",
          "sun",
          "sun",
          "sun",
          "sun",
          "sun",
          "sun",
          "sun",
          "sun",
          "sun",
          "sun",
          "sun",
          "sun",
          "sun",
          "sun",
          "sun",
          "sun",
          "sun",
          "sun",
          "sun",
          "sun",
          "sun",
          "sun",
          "sun",
          "sun",
          "sun",
          "sun",
          "sun",
          "sun",
          "sun",
          "sun",
          "sun",
          "sun",
          "sun",
          "sun",
          "sun",
          "sun",
          "sun",
          "sun",
          "sun",
          "sun",
          "sun",
          "sun",
          "sun",
          "sun",
          "sun",
          "sun",
          "sun",
          "sun",
          "sun",
          "sun",
          "sun",
          "sun",
          "sun",
          "sun",
          "sun",
          "sun",
          "sun",
          "sun",
          "sun",
          "sun",
          "sun",
          "sun",
          "sun",
          "sun",
          "sun",
          "sun",
          "sun",
          "sun",
          "sun",
          "sun",
          "sun",
          "sun",
          "sun",
          "sun",
          "sun",
          "sun",
          "sun",
          "sun",
          "sun",
          "sun",
          "sun",
          "sun",
          "sun",
          "sun",
          "sun",
          "sun",
          "sun",
          "sun",
          "sun",
          "sun",
          "sun",
          "sun",
          "sun",
          "sun",
          "sun",
          "sun",
          "sun",
          "sun",
          "sun",
          "sun",
          "sun",
          "sun",
          "sun",
          "sun",
          "sun",
          "sun",
          "sun",
          "sun",
          "sun",
          "sun",
          "sun",
          "sun",
          "sun",
          "sun",
          "sun",
          "sun",
          "sun",
          "sun",
          "sun",
          "sun",
          "sun",
          "sun",
          "sun",
          "sun",
          "sun",
          "sun",
          "sun",
          "sun",
          "sun",
          "sun",
          "sun",
          "sun",
          "sun",
          "sun",
          "sun",
          "sun",
          "sun",
          "sun",
          "sun",
          "sun",
          "sun",
          "sun",
          "sun",
          "sun",
          "sun",
          "sun",
          "sun",
          "sun",
          "sun",
          "sun",
          "sun",
          "sun",
          "sun",
          "sun",
          "sun",
          "sun",
          "sun",
          "sun",
          "sun",
          "sun",
          "sun",
          "sun",
          "sun",
          "sun",
          "sun",
          "sun",
          "sun",
          "sun",
          "sun",
          "sun",
          "sun",
          "sun",
          "sun",
          "sun",
          "sun",
          "sun",
          "sun",
          "sun",
          "sun",
          "sun",
          "sun",
          "sun",
          "sun",
          "sun",
          "sun",
          "sun",
          "sun",
          "sun",
          "sun",
          "sun",
          "sun",
          "sun",
          "sun",
          "sun",
          "sun",
          "sun",
          "sun",
          "sun",
          "sun",
          "sun",
          "sun",
          "sun",
          "sun",
          "sun",
          "sun",
          "sun",
          "sun",
          "sun",
          "sun",
          "sun",
          "sun",
          "sun",
          "sun",
          "sun",
          "sun",
          "sun",
          "sun",
          "sun",
          "sun",
          "sun",
          "sun",
          "sun",
          "sun",
          "sun",
          "sun",
          "sun",
          "sun",
          "sun",
          "sun",
          "sun",
          "sun",
          "sun",
          "sun",
          "sun",
          "sun",
          "sun",
          "sun",
          "sun",
          "sun",
          "sun",
          "sun",
          "sun",
          "sun",
          "sun",
          "sun",
          "sun",
          "sun",
          "sun",
          "sun"
         ],
         "xaxis": "x",
         "yaxis": "y"
        },
        {
         "alignmentgroup": "True",
         "bingroup": "x",
         "hovertemplate": "weather=%{x}<br>count=%{y}<extra></extra>",
         "legendgroup": "fog",
         "marker": {
          "color": "#ab63fa",
          "pattern": {
           "shape": ""
          }
         },
         "name": "fog",
         "offsetgroup": "fog",
         "orientation": "v",
         "showlegend": true,
         "texttemplate": "%{value}",
         "type": "histogram",
         "x": [
          "fog",
          "fog",
          "fog",
          "fog",
          "fog",
          "fog",
          "fog",
          "fog",
          "fog",
          "fog",
          "fog",
          "fog",
          "fog",
          "fog",
          "fog",
          "fog",
          "fog",
          "fog",
          "fog",
          "fog",
          "fog",
          "fog",
          "fog",
          "fog",
          "fog",
          "fog",
          "fog",
          "fog",
          "fog",
          "fog",
          "fog",
          "fog",
          "fog",
          "fog",
          "fog",
          "fog",
          "fog",
          "fog",
          "fog",
          "fog",
          "fog",
          "fog",
          "fog",
          "fog",
          "fog",
          "fog",
          "fog",
          "fog",
          "fog",
          "fog",
          "fog",
          "fog",
          "fog",
          "fog",
          "fog",
          "fog",
          "fog",
          "fog",
          "fog",
          "fog",
          "fog",
          "fog",
          "fog",
          "fog",
          "fog",
          "fog",
          "fog",
          "fog",
          "fog",
          "fog",
          "fog",
          "fog",
          "fog",
          "fog",
          "fog",
          "fog",
          "fog",
          "fog",
          "fog",
          "fog",
          "fog",
          "fog",
          "fog",
          "fog",
          "fog",
          "fog",
          "fog",
          "fog",
          "fog",
          "fog",
          "fog",
          "fog",
          "fog",
          "fog",
          "fog",
          "fog",
          "fog",
          "fog",
          "fog",
          "fog",
          "fog"
         ],
         "xaxis": "x",
         "yaxis": "y"
        },
        {
         "alignmentgroup": "True",
         "bingroup": "x",
         "hovertemplate": "weather=%{x}<br>count=%{y}<extra></extra>",
         "legendgroup": "snow",
         "marker": {
          "color": "#FFA15A",
          "pattern": {
           "shape": ""
          }
         },
         "name": "snow",
         "offsetgroup": "snow",
         "orientation": "v",
         "showlegend": true,
         "texttemplate": "%{value}",
         "type": "histogram",
         "x": [
          "snow",
          "snow",
          "snow",
          "snow",
          "snow",
          "snow",
          "snow",
          "snow",
          "snow",
          "snow",
          "snow",
          "snow",
          "snow",
          "snow",
          "snow",
          "snow",
          "snow",
          "snow",
          "snow",
          "snow",
          "snow",
          "snow",
          "snow",
          "snow",
          "snow",
          "snow"
         ],
         "xaxis": "x",
         "yaxis": "y"
        }
       ],
       "layout": {
        "barmode": "relative",
        "legend": {
         "title": {
          "text": "weather"
         },
         "tracegroupgap": 0
        },
        "template": {
         "data": {
          "bar": [
           {
            "error_x": {
             "color": "#f2f5fa"
            },
            "error_y": {
             "color": "#f2f5fa"
            },
            "marker": {
             "line": {
              "color": "rgb(17,17,17)",
              "width": 0.5
             },
             "pattern": {
              "fillmode": "overlay",
              "size": 10,
              "solidity": 0.2
             }
            },
            "type": "bar"
           }
          ],
          "barpolar": [
           {
            "marker": {
             "line": {
              "color": "rgb(17,17,17)",
              "width": 0.5
             },
             "pattern": {
              "fillmode": "overlay",
              "size": 10,
              "solidity": 0.2
             }
            },
            "type": "barpolar"
           }
          ],
          "carpet": [
           {
            "aaxis": {
             "endlinecolor": "#A2B1C6",
             "gridcolor": "#506784",
             "linecolor": "#506784",
             "minorgridcolor": "#506784",
             "startlinecolor": "#A2B1C6"
            },
            "baxis": {
             "endlinecolor": "#A2B1C6",
             "gridcolor": "#506784",
             "linecolor": "#506784",
             "minorgridcolor": "#506784",
             "startlinecolor": "#A2B1C6"
            },
            "type": "carpet"
           }
          ],
          "choropleth": [
           {
            "colorbar": {
             "outlinewidth": 0,
             "ticks": ""
            },
            "type": "choropleth"
           }
          ],
          "contour": [
           {
            "colorbar": {
             "outlinewidth": 0,
             "ticks": ""
            },
            "colorscale": [
             [
              0,
              "#0d0887"
             ],
             [
              0.1111111111111111,
              "#46039f"
             ],
             [
              0.2222222222222222,
              "#7201a8"
             ],
             [
              0.3333333333333333,
              "#9c179e"
             ],
             [
              0.4444444444444444,
              "#bd3786"
             ],
             [
              0.5555555555555556,
              "#d8576b"
             ],
             [
              0.6666666666666666,
              "#ed7953"
             ],
             [
              0.7777777777777778,
              "#fb9f3a"
             ],
             [
              0.8888888888888888,
              "#fdca26"
             ],
             [
              1,
              "#f0f921"
             ]
            ],
            "type": "contour"
           }
          ],
          "contourcarpet": [
           {
            "colorbar": {
             "outlinewidth": 0,
             "ticks": ""
            },
            "type": "contourcarpet"
           }
          ],
          "heatmap": [
           {
            "colorbar": {
             "outlinewidth": 0,
             "ticks": ""
            },
            "colorscale": [
             [
              0,
              "#0d0887"
             ],
             [
              0.1111111111111111,
              "#46039f"
             ],
             [
              0.2222222222222222,
              "#7201a8"
             ],
             [
              0.3333333333333333,
              "#9c179e"
             ],
             [
              0.4444444444444444,
              "#bd3786"
             ],
             [
              0.5555555555555556,
              "#d8576b"
             ],
             [
              0.6666666666666666,
              "#ed7953"
             ],
             [
              0.7777777777777778,
              "#fb9f3a"
             ],
             [
              0.8888888888888888,
              "#fdca26"
             ],
             [
              1,
              "#f0f921"
             ]
            ],
            "type": "heatmap"
           }
          ],
          "heatmapgl": [
           {
            "colorbar": {
             "outlinewidth": 0,
             "ticks": ""
            },
            "colorscale": [
             [
              0,
              "#0d0887"
             ],
             [
              0.1111111111111111,
              "#46039f"
             ],
             [
              0.2222222222222222,
              "#7201a8"
             ],
             [
              0.3333333333333333,
              "#9c179e"
             ],
             [
              0.4444444444444444,
              "#bd3786"
             ],
             [
              0.5555555555555556,
              "#d8576b"
             ],
             [
              0.6666666666666666,
              "#ed7953"
             ],
             [
              0.7777777777777778,
              "#fb9f3a"
             ],
             [
              0.8888888888888888,
              "#fdca26"
             ],
             [
              1,
              "#f0f921"
             ]
            ],
            "type": "heatmapgl"
           }
          ],
          "histogram": [
           {
            "marker": {
             "pattern": {
              "fillmode": "overlay",
              "size": 10,
              "solidity": 0.2
             }
            },
            "type": "histogram"
           }
          ],
          "histogram2d": [
           {
            "colorbar": {
             "outlinewidth": 0,
             "ticks": ""
            },
            "colorscale": [
             [
              0,
              "#0d0887"
             ],
             [
              0.1111111111111111,
              "#46039f"
             ],
             [
              0.2222222222222222,
              "#7201a8"
             ],
             [
              0.3333333333333333,
              "#9c179e"
             ],
             [
              0.4444444444444444,
              "#bd3786"
             ],
             [
              0.5555555555555556,
              "#d8576b"
             ],
             [
              0.6666666666666666,
              "#ed7953"
             ],
             [
              0.7777777777777778,
              "#fb9f3a"
             ],
             [
              0.8888888888888888,
              "#fdca26"
             ],
             [
              1,
              "#f0f921"
             ]
            ],
            "type": "histogram2d"
           }
          ],
          "histogram2dcontour": [
           {
            "colorbar": {
             "outlinewidth": 0,
             "ticks": ""
            },
            "colorscale": [
             [
              0,
              "#0d0887"
             ],
             [
              0.1111111111111111,
              "#46039f"
             ],
             [
              0.2222222222222222,
              "#7201a8"
             ],
             [
              0.3333333333333333,
              "#9c179e"
             ],
             [
              0.4444444444444444,
              "#bd3786"
             ],
             [
              0.5555555555555556,
              "#d8576b"
             ],
             [
              0.6666666666666666,
              "#ed7953"
             ],
             [
              0.7777777777777778,
              "#fb9f3a"
             ],
             [
              0.8888888888888888,
              "#fdca26"
             ],
             [
              1,
              "#f0f921"
             ]
            ],
            "type": "histogram2dcontour"
           }
          ],
          "mesh3d": [
           {
            "colorbar": {
             "outlinewidth": 0,
             "ticks": ""
            },
            "type": "mesh3d"
           }
          ],
          "parcoords": [
           {
            "line": {
             "colorbar": {
              "outlinewidth": 0,
              "ticks": ""
             }
            },
            "type": "parcoords"
           }
          ],
          "pie": [
           {
            "automargin": true,
            "type": "pie"
           }
          ],
          "scatter": [
           {
            "marker": {
             "line": {
              "color": "#283442"
             }
            },
            "type": "scatter"
           }
          ],
          "scatter3d": [
           {
            "line": {
             "colorbar": {
              "outlinewidth": 0,
              "ticks": ""
             }
            },
            "marker": {
             "colorbar": {
              "outlinewidth": 0,
              "ticks": ""
             }
            },
            "type": "scatter3d"
           }
          ],
          "scattercarpet": [
           {
            "marker": {
             "colorbar": {
              "outlinewidth": 0,
              "ticks": ""
             }
            },
            "type": "scattercarpet"
           }
          ],
          "scattergeo": [
           {
            "marker": {
             "colorbar": {
              "outlinewidth": 0,
              "ticks": ""
             }
            },
            "type": "scattergeo"
           }
          ],
          "scattergl": [
           {
            "marker": {
             "line": {
              "color": "#283442"
             }
            },
            "type": "scattergl"
           }
          ],
          "scattermapbox": [
           {
            "marker": {
             "colorbar": {
              "outlinewidth": 0,
              "ticks": ""
             }
            },
            "type": "scattermapbox"
           }
          ],
          "scatterpolar": [
           {
            "marker": {
             "colorbar": {
              "outlinewidth": 0,
              "ticks": ""
             }
            },
            "type": "scatterpolar"
           }
          ],
          "scatterpolargl": [
           {
            "marker": {
             "colorbar": {
              "outlinewidth": 0,
              "ticks": ""
             }
            },
            "type": "scatterpolargl"
           }
          ],
          "scatterternary": [
           {
            "marker": {
             "colorbar": {
              "outlinewidth": 0,
              "ticks": ""
             }
            },
            "type": "scatterternary"
           }
          ],
          "surface": [
           {
            "colorbar": {
             "outlinewidth": 0,
             "ticks": ""
            },
            "colorscale": [
             [
              0,
              "#0d0887"
             ],
             [
              0.1111111111111111,
              "#46039f"
             ],
             [
              0.2222222222222222,
              "#7201a8"
             ],
             [
              0.3333333333333333,
              "#9c179e"
             ],
             [
              0.4444444444444444,
              "#bd3786"
             ],
             [
              0.5555555555555556,
              "#d8576b"
             ],
             [
              0.6666666666666666,
              "#ed7953"
             ],
             [
              0.7777777777777778,
              "#fb9f3a"
             ],
             [
              0.8888888888888888,
              "#fdca26"
             ],
             [
              1,
              "#f0f921"
             ]
            ],
            "type": "surface"
           }
          ],
          "table": [
           {
            "cells": {
             "fill": {
              "color": "#506784"
             },
             "line": {
              "color": "rgb(17,17,17)"
             }
            },
            "header": {
             "fill": {
              "color": "#2a3f5f"
             },
             "line": {
              "color": "rgb(17,17,17)"
             }
            },
            "type": "table"
           }
          ]
         },
         "layout": {
          "annotationdefaults": {
           "arrowcolor": "#f2f5fa",
           "arrowhead": 0,
           "arrowwidth": 1
          },
          "autotypenumbers": "strict",
          "coloraxis": {
           "colorbar": {
            "outlinewidth": 0,
            "ticks": ""
           }
          },
          "colorscale": {
           "diverging": [
            [
             0,
             "#8e0152"
            ],
            [
             0.1,
             "#c51b7d"
            ],
            [
             0.2,
             "#de77ae"
            ],
            [
             0.3,
             "#f1b6da"
            ],
            [
             0.4,
             "#fde0ef"
            ],
            [
             0.5,
             "#f7f7f7"
            ],
            [
             0.6,
             "#e6f5d0"
            ],
            [
             0.7,
             "#b8e186"
            ],
            [
             0.8,
             "#7fbc41"
            ],
            [
             0.9,
             "#4d9221"
            ],
            [
             1,
             "#276419"
            ]
           ],
           "sequential": [
            [
             0,
             "#0d0887"
            ],
            [
             0.1111111111111111,
             "#46039f"
            ],
            [
             0.2222222222222222,
             "#7201a8"
            ],
            [
             0.3333333333333333,
             "#9c179e"
            ],
            [
             0.4444444444444444,
             "#bd3786"
            ],
            [
             0.5555555555555556,
             "#d8576b"
            ],
            [
             0.6666666666666666,
             "#ed7953"
            ],
            [
             0.7777777777777778,
             "#fb9f3a"
            ],
            [
             0.8888888888888888,
             "#fdca26"
            ],
            [
             1,
             "#f0f921"
            ]
           ],
           "sequentialminus": [
            [
             0,
             "#0d0887"
            ],
            [
             0.1111111111111111,
             "#46039f"
            ],
            [
             0.2222222222222222,
             "#7201a8"
            ],
            [
             0.3333333333333333,
             "#9c179e"
            ],
            [
             0.4444444444444444,
             "#bd3786"
            ],
            [
             0.5555555555555556,
             "#d8576b"
            ],
            [
             0.6666666666666666,
             "#ed7953"
            ],
            [
             0.7777777777777778,
             "#fb9f3a"
            ],
            [
             0.8888888888888888,
             "#fdca26"
            ],
            [
             1,
             "#f0f921"
            ]
           ]
          },
          "colorway": [
           "#636efa",
           "#EF553B",
           "#00cc96",
           "#ab63fa",
           "#FFA15A",
           "#19d3f3",
           "#FF6692",
           "#B6E880",
           "#FF97FF",
           "#FECB52"
          ],
          "font": {
           "color": "#f2f5fa"
          },
          "geo": {
           "bgcolor": "rgb(17,17,17)",
           "lakecolor": "rgb(17,17,17)",
           "landcolor": "rgb(17,17,17)",
           "showlakes": true,
           "showland": true,
           "subunitcolor": "#506784"
          },
          "hoverlabel": {
           "align": "left"
          },
          "hovermode": "closest",
          "mapbox": {
           "style": "dark"
          },
          "paper_bgcolor": "rgb(17,17,17)",
          "plot_bgcolor": "rgb(17,17,17)",
          "polar": {
           "angularaxis": {
            "gridcolor": "#506784",
            "linecolor": "#506784",
            "ticks": ""
           },
           "bgcolor": "rgb(17,17,17)",
           "radialaxis": {
            "gridcolor": "#506784",
            "linecolor": "#506784",
            "ticks": ""
           }
          },
          "scene": {
           "xaxis": {
            "backgroundcolor": "rgb(17,17,17)",
            "gridcolor": "#506784",
            "gridwidth": 2,
            "linecolor": "#506784",
            "showbackground": true,
            "ticks": "",
            "zerolinecolor": "#C8D4E3"
           },
           "yaxis": {
            "backgroundcolor": "rgb(17,17,17)",
            "gridcolor": "#506784",
            "gridwidth": 2,
            "linecolor": "#506784",
            "showbackground": true,
            "ticks": "",
            "zerolinecolor": "#C8D4E3"
           },
           "zaxis": {
            "backgroundcolor": "rgb(17,17,17)",
            "gridcolor": "#506784",
            "gridwidth": 2,
            "linecolor": "#506784",
            "showbackground": true,
            "ticks": "",
            "zerolinecolor": "#C8D4E3"
           }
          },
          "shapedefaults": {
           "line": {
            "color": "#f2f5fa"
           }
          },
          "sliderdefaults": {
           "bgcolor": "#C8D4E3",
           "bordercolor": "rgb(17,17,17)",
           "borderwidth": 1,
           "tickwidth": 0
          },
          "ternary": {
           "aaxis": {
            "gridcolor": "#506784",
            "linecolor": "#506784",
            "ticks": ""
           },
           "baxis": {
            "gridcolor": "#506784",
            "linecolor": "#506784",
            "ticks": ""
           },
           "bgcolor": "rgb(17,17,17)",
           "caxis": {
            "gridcolor": "#506784",
            "linecolor": "#506784",
            "ticks": ""
           }
          },
          "title": {
           "x": 0.05
          },
          "updatemenudefaults": {
           "bgcolor": "#506784",
           "borderwidth": 0
          },
          "xaxis": {
           "automargin": true,
           "gridcolor": "#283442",
           "linecolor": "#506784",
           "ticks": "",
           "title": {
            "standoff": 15
           },
           "zerolinecolor": "#283442",
           "zerolinewidth": 2
          },
          "yaxis": {
           "automargin": true,
           "gridcolor": "#283442",
           "linecolor": "#506784",
           "ticks": "",
           "title": {
            "standoff": 15
           },
           "zerolinecolor": "#283442",
           "zerolinewidth": 2
          }
         }
        },
        "title": {
         "text": "No of weathers with their count"
        },
        "xaxis": {
         "anchor": "y",
         "categoryarray": [
          "drizzle",
          "rain",
          "sun",
          "fog",
          "snow"
         ],
         "categoryorder": "total ascending",
         "domain": [
          0,
          1
         ],
         "title": {
          "text": "weather"
         }
        },
        "yaxis": {
         "anchor": "x",
         "domain": [
          0,
          1
         ],
         "title": {
          "text": "count"
         }
        }
       }
      },
      "text/html": [
       "<div>                            <div id=\"ada4af6d-993c-4f11-beed-a6d9a8f1664d\" class=\"plotly-graph-div\" style=\"height:525px; width:100%;\"></div>            <script type=\"text/javascript\">                require([\"plotly\"], function(Plotly) {                    window.PLOTLYENV=window.PLOTLYENV || {};                                    if (document.getElementById(\"ada4af6d-993c-4f11-beed-a6d9a8f1664d\")) {                    Plotly.newPlot(                        \"ada4af6d-993c-4f11-beed-a6d9a8f1664d\",                        [{\"alignmentgroup\":\"True\",\"bingroup\":\"x\",\"hovertemplate\":\"weather=%{x}<br>count=%{y}<extra></extra>\",\"legendgroup\":\"drizzle\",\"marker\":{\"color\":\"#636efa\",\"pattern\":{\"shape\":\"\"}},\"name\":\"drizzle\",\"offsetgroup\":\"drizzle\",\"orientation\":\"v\",\"showlegend\":true,\"texttemplate\":\"%{value}\",\"x\":[\"drizzle\",\"drizzle\",\"drizzle\",\"drizzle\",\"drizzle\",\"drizzle\",\"drizzle\",\"drizzle\",\"drizzle\",\"drizzle\",\"drizzle\",\"drizzle\",\"drizzle\",\"drizzle\",\"drizzle\",\"drizzle\",\"drizzle\",\"drizzle\",\"drizzle\",\"drizzle\",\"drizzle\",\"drizzle\",\"drizzle\",\"drizzle\",\"drizzle\",\"drizzle\",\"drizzle\",\"drizzle\",\"drizzle\",\"drizzle\",\"drizzle\",\"drizzle\",\"drizzle\",\"drizzle\",\"drizzle\",\"drizzle\",\"drizzle\",\"drizzle\",\"drizzle\",\"drizzle\",\"drizzle\",\"drizzle\",\"drizzle\",\"drizzle\",\"drizzle\",\"drizzle\",\"drizzle\",\"drizzle\",\"drizzle\",\"drizzle\",\"drizzle\",\"drizzle\",\"drizzle\"],\"xaxis\":\"x\",\"yaxis\":\"y\",\"type\":\"histogram\"},{\"alignmentgroup\":\"True\",\"bingroup\":\"x\",\"hovertemplate\":\"weather=%{x}<br>count=%{y}<extra></extra>\",\"legendgroup\":\"rain\",\"marker\":{\"color\":\"#EF553B\",\"pattern\":{\"shape\":\"\"}},\"name\":\"rain\",\"offsetgroup\":\"rain\",\"orientation\":\"v\",\"showlegend\":true,\"texttemplate\":\"%{value}\",\"x\":[\"rain\",\"rain\",\"rain\",\"rain\",\"rain\",\"rain\",\"rain\",\"rain\",\"rain\",\"rain\",\"rain\",\"rain\",\"rain\",\"rain\",\"rain\",\"rain\",\"rain\",\"rain\",\"rain\",\"rain\",\"rain\",\"rain\",\"rain\",\"rain\",\"rain\",\"rain\",\"rain\",\"rain\",\"rain\",\"rain\",\"rain\",\"rain\",\"rain\",\"rain\",\"rain\",\"rain\",\"rain\",\"rain\",\"rain\",\"rain\",\"rain\",\"rain\",\"rain\",\"rain\",\"rain\",\"rain\",\"rain\",\"rain\",\"rain\",\"rain\",\"rain\",\"rain\",\"rain\",\"rain\",\"rain\",\"rain\",\"rain\",\"rain\",\"rain\",\"rain\",\"rain\",\"rain\",\"rain\",\"rain\",\"rain\",\"rain\",\"rain\",\"rain\",\"rain\",\"rain\",\"rain\",\"rain\",\"rain\",\"rain\",\"rain\",\"rain\",\"rain\",\"rain\",\"rain\",\"rain\",\"rain\",\"rain\",\"rain\",\"rain\",\"rain\",\"rain\",\"rain\",\"rain\",\"rain\",\"rain\",\"rain\",\"rain\",\"rain\",\"rain\",\"rain\",\"rain\",\"rain\",\"rain\",\"rain\",\"rain\",\"rain\",\"rain\",\"rain\",\"rain\",\"rain\",\"rain\",\"rain\",\"rain\",\"rain\",\"rain\",\"rain\",\"rain\",\"rain\",\"rain\",\"rain\",\"rain\",\"rain\",\"rain\",\"rain\",\"rain\",\"rain\",\"rain\",\"rain\",\"rain\",\"rain\",\"rain\",\"rain\",\"rain\",\"rain\",\"rain\",\"rain\",\"rain\",\"rain\",\"rain\",\"rain\",\"rain\",\"rain\",\"rain\",\"rain\",\"rain\",\"rain\",\"rain\",\"rain\",\"rain\",\"rain\",\"rain\",\"rain\",\"rain\",\"rain\",\"rain\",\"rain\",\"rain\",\"rain\",\"rain\",\"rain\",\"rain\",\"rain\",\"rain\",\"rain\",\"rain\",\"rain\",\"rain\",\"rain\",\"rain\",\"rain\",\"rain\",\"rain\",\"rain\",\"rain\",\"rain\",\"rain\",\"rain\",\"rain\",\"rain\",\"rain\",\"rain\",\"rain\",\"rain\",\"rain\",\"rain\",\"rain\",\"rain\",\"rain\",\"rain\",\"rain\",\"rain\",\"rain\",\"rain\",\"rain\",\"rain\",\"rain\",\"rain\",\"rain\",\"rain\",\"rain\",\"rain\",\"rain\",\"rain\",\"rain\",\"rain\",\"rain\",\"rain\",\"rain\",\"rain\",\"rain\",\"rain\",\"rain\",\"rain\",\"rain\",\"rain\",\"rain\",\"rain\",\"rain\",\"rain\",\"rain\",\"rain\",\"rain\",\"rain\",\"rain\",\"rain\",\"rain\",\"rain\",\"rain\",\"rain\",\"rain\",\"rain\",\"rain\",\"rain\",\"rain\",\"rain\",\"rain\",\"rain\",\"rain\",\"rain\",\"rain\",\"rain\",\"rain\",\"rain\",\"rain\",\"rain\",\"rain\",\"rain\",\"rain\",\"rain\",\"rain\",\"rain\",\"rain\",\"rain\",\"rain\",\"rain\",\"rain\",\"rain\",\"rain\",\"rain\",\"rain\",\"rain\",\"rain\",\"rain\",\"rain\",\"rain\",\"rain\",\"rain\",\"rain\",\"rain\",\"rain\",\"rain\",\"rain\",\"rain\",\"rain\",\"rain\",\"rain\",\"rain\",\"rain\",\"rain\",\"rain\",\"rain\",\"rain\",\"rain\",\"rain\",\"rain\",\"rain\",\"rain\",\"rain\",\"rain\",\"rain\",\"rain\",\"rain\",\"rain\",\"rain\",\"rain\",\"rain\",\"rain\",\"rain\",\"rain\",\"rain\",\"rain\",\"rain\",\"rain\",\"rain\",\"rain\",\"rain\",\"rain\",\"rain\",\"rain\",\"rain\",\"rain\",\"rain\",\"rain\",\"rain\",\"rain\",\"rain\",\"rain\",\"rain\",\"rain\",\"rain\",\"rain\",\"rain\",\"rain\",\"rain\",\"rain\",\"rain\",\"rain\",\"rain\",\"rain\",\"rain\",\"rain\",\"rain\",\"rain\",\"rain\",\"rain\",\"rain\",\"rain\",\"rain\",\"rain\",\"rain\",\"rain\",\"rain\",\"rain\",\"rain\",\"rain\",\"rain\",\"rain\",\"rain\",\"rain\",\"rain\",\"rain\",\"rain\",\"rain\",\"rain\",\"rain\",\"rain\",\"rain\",\"rain\",\"rain\",\"rain\",\"rain\",\"rain\",\"rain\",\"rain\",\"rain\",\"rain\",\"rain\",\"rain\",\"rain\",\"rain\",\"rain\",\"rain\",\"rain\",\"rain\",\"rain\",\"rain\",\"rain\",\"rain\",\"rain\",\"rain\",\"rain\",\"rain\",\"rain\",\"rain\",\"rain\",\"rain\",\"rain\",\"rain\",\"rain\",\"rain\",\"rain\",\"rain\",\"rain\",\"rain\",\"rain\",\"rain\",\"rain\",\"rain\",\"rain\",\"rain\",\"rain\",\"rain\",\"rain\",\"rain\",\"rain\",\"rain\",\"rain\",\"rain\",\"rain\",\"rain\",\"rain\",\"rain\",\"rain\",\"rain\",\"rain\",\"rain\",\"rain\",\"rain\",\"rain\",\"rain\",\"rain\",\"rain\",\"rain\",\"rain\",\"rain\",\"rain\",\"rain\",\"rain\",\"rain\",\"rain\",\"rain\",\"rain\",\"rain\",\"rain\",\"rain\",\"rain\",\"rain\",\"rain\",\"rain\",\"rain\",\"rain\",\"rain\",\"rain\",\"rain\",\"rain\",\"rain\",\"rain\",\"rain\",\"rain\",\"rain\",\"rain\",\"rain\",\"rain\",\"rain\",\"rain\",\"rain\",\"rain\",\"rain\",\"rain\",\"rain\",\"rain\",\"rain\",\"rain\",\"rain\",\"rain\",\"rain\",\"rain\",\"rain\",\"rain\",\"rain\",\"rain\",\"rain\",\"rain\",\"rain\",\"rain\",\"rain\",\"rain\",\"rain\",\"rain\",\"rain\",\"rain\",\"rain\",\"rain\",\"rain\",\"rain\",\"rain\",\"rain\",\"rain\",\"rain\",\"rain\",\"rain\",\"rain\",\"rain\",\"rain\",\"rain\",\"rain\",\"rain\",\"rain\",\"rain\",\"rain\",\"rain\",\"rain\",\"rain\",\"rain\",\"rain\",\"rain\",\"rain\",\"rain\",\"rain\",\"rain\",\"rain\",\"rain\",\"rain\",\"rain\",\"rain\",\"rain\",\"rain\",\"rain\",\"rain\",\"rain\",\"rain\",\"rain\",\"rain\",\"rain\",\"rain\",\"rain\",\"rain\",\"rain\",\"rain\",\"rain\",\"rain\",\"rain\",\"rain\",\"rain\",\"rain\",\"rain\",\"rain\",\"rain\",\"rain\",\"rain\",\"rain\",\"rain\",\"rain\",\"rain\",\"rain\",\"rain\",\"rain\",\"rain\",\"rain\",\"rain\",\"rain\",\"rain\",\"rain\",\"rain\",\"rain\",\"rain\",\"rain\",\"rain\",\"rain\",\"rain\",\"rain\",\"rain\",\"rain\",\"rain\",\"rain\",\"rain\",\"rain\",\"rain\",\"rain\",\"rain\",\"rain\",\"rain\",\"rain\",\"rain\",\"rain\",\"rain\",\"rain\",\"rain\",\"rain\",\"rain\",\"rain\",\"rain\",\"rain\",\"rain\",\"rain\",\"rain\",\"rain\",\"rain\",\"rain\",\"rain\",\"rain\",\"rain\",\"rain\",\"rain\",\"rain\",\"rain\",\"rain\",\"rain\",\"rain\",\"rain\",\"rain\",\"rain\",\"rain\",\"rain\",\"rain\",\"rain\",\"rain\",\"rain\",\"rain\",\"rain\",\"rain\",\"rain\",\"rain\",\"rain\",\"rain\",\"rain\",\"rain\",\"rain\",\"rain\",\"rain\",\"rain\",\"rain\",\"rain\",\"rain\",\"rain\",\"rain\",\"rain\",\"rain\",\"rain\",\"rain\",\"rain\",\"rain\",\"rain\",\"rain\",\"rain\",\"rain\",\"rain\",\"rain\",\"rain\",\"rain\",\"rain\",\"rain\",\"rain\",\"rain\",\"rain\",\"rain\"],\"xaxis\":\"x\",\"yaxis\":\"y\",\"type\":\"histogram\"},{\"alignmentgroup\":\"True\",\"bingroup\":\"x\",\"hovertemplate\":\"weather=%{x}<br>count=%{y}<extra></extra>\",\"legendgroup\":\"sun\",\"marker\":{\"color\":\"#00cc96\",\"pattern\":{\"shape\":\"\"}},\"name\":\"sun\",\"offsetgroup\":\"sun\",\"orientation\":\"v\",\"showlegend\":true,\"texttemplate\":\"%{value}\",\"x\":[\"sun\",\"sun\",\"sun\",\"sun\",\"sun\",\"sun\",\"sun\",\"sun\",\"sun\",\"sun\",\"sun\",\"sun\",\"sun\",\"sun\",\"sun\",\"sun\",\"sun\",\"sun\",\"sun\",\"sun\",\"sun\",\"sun\",\"sun\",\"sun\",\"sun\",\"sun\",\"sun\",\"sun\",\"sun\",\"sun\",\"sun\",\"sun\",\"sun\",\"sun\",\"sun\",\"sun\",\"sun\",\"sun\",\"sun\",\"sun\",\"sun\",\"sun\",\"sun\",\"sun\",\"sun\",\"sun\",\"sun\",\"sun\",\"sun\",\"sun\",\"sun\",\"sun\",\"sun\",\"sun\",\"sun\",\"sun\",\"sun\",\"sun\",\"sun\",\"sun\",\"sun\",\"sun\",\"sun\",\"sun\",\"sun\",\"sun\",\"sun\",\"sun\",\"sun\",\"sun\",\"sun\",\"sun\",\"sun\",\"sun\",\"sun\",\"sun\",\"sun\",\"sun\",\"sun\",\"sun\",\"sun\",\"sun\",\"sun\",\"sun\",\"sun\",\"sun\",\"sun\",\"sun\",\"sun\",\"sun\",\"sun\",\"sun\",\"sun\",\"sun\",\"sun\",\"sun\",\"sun\",\"sun\",\"sun\",\"sun\",\"sun\",\"sun\",\"sun\",\"sun\",\"sun\",\"sun\",\"sun\",\"sun\",\"sun\",\"sun\",\"sun\",\"sun\",\"sun\",\"sun\",\"sun\",\"sun\",\"sun\",\"sun\",\"sun\",\"sun\",\"sun\",\"sun\",\"sun\",\"sun\",\"sun\",\"sun\",\"sun\",\"sun\",\"sun\",\"sun\",\"sun\",\"sun\",\"sun\",\"sun\",\"sun\",\"sun\",\"sun\",\"sun\",\"sun\",\"sun\",\"sun\",\"sun\",\"sun\",\"sun\",\"sun\",\"sun\",\"sun\",\"sun\",\"sun\",\"sun\",\"sun\",\"sun\",\"sun\",\"sun\",\"sun\",\"sun\",\"sun\",\"sun\",\"sun\",\"sun\",\"sun\",\"sun\",\"sun\",\"sun\",\"sun\",\"sun\",\"sun\",\"sun\",\"sun\",\"sun\",\"sun\",\"sun\",\"sun\",\"sun\",\"sun\",\"sun\",\"sun\",\"sun\",\"sun\",\"sun\",\"sun\",\"sun\",\"sun\",\"sun\",\"sun\",\"sun\",\"sun\",\"sun\",\"sun\",\"sun\",\"sun\",\"sun\",\"sun\",\"sun\",\"sun\",\"sun\",\"sun\",\"sun\",\"sun\",\"sun\",\"sun\",\"sun\",\"sun\",\"sun\",\"sun\",\"sun\",\"sun\",\"sun\",\"sun\",\"sun\",\"sun\",\"sun\",\"sun\",\"sun\",\"sun\",\"sun\",\"sun\",\"sun\",\"sun\",\"sun\",\"sun\",\"sun\",\"sun\",\"sun\",\"sun\",\"sun\",\"sun\",\"sun\",\"sun\",\"sun\",\"sun\",\"sun\",\"sun\",\"sun\",\"sun\",\"sun\",\"sun\",\"sun\",\"sun\",\"sun\",\"sun\",\"sun\",\"sun\",\"sun\",\"sun\",\"sun\",\"sun\",\"sun\",\"sun\",\"sun\",\"sun\",\"sun\",\"sun\",\"sun\",\"sun\",\"sun\",\"sun\",\"sun\",\"sun\",\"sun\",\"sun\",\"sun\",\"sun\",\"sun\",\"sun\",\"sun\",\"sun\",\"sun\",\"sun\",\"sun\",\"sun\",\"sun\",\"sun\",\"sun\",\"sun\",\"sun\",\"sun\",\"sun\",\"sun\",\"sun\",\"sun\",\"sun\",\"sun\",\"sun\",\"sun\",\"sun\",\"sun\",\"sun\",\"sun\",\"sun\",\"sun\",\"sun\",\"sun\",\"sun\",\"sun\",\"sun\",\"sun\",\"sun\",\"sun\",\"sun\",\"sun\",\"sun\",\"sun\",\"sun\",\"sun\",\"sun\",\"sun\",\"sun\",\"sun\",\"sun\",\"sun\",\"sun\",\"sun\",\"sun\",\"sun\",\"sun\",\"sun\",\"sun\",\"sun\",\"sun\",\"sun\",\"sun\",\"sun\",\"sun\",\"sun\",\"sun\",\"sun\",\"sun\",\"sun\",\"sun\",\"sun\",\"sun\",\"sun\",\"sun\",\"sun\",\"sun\",\"sun\",\"sun\",\"sun\",\"sun\",\"sun\",\"sun\",\"sun\",\"sun\",\"sun\",\"sun\",\"sun\",\"sun\",\"sun\",\"sun\",\"sun\",\"sun\",\"sun\",\"sun\",\"sun\",\"sun\",\"sun\",\"sun\",\"sun\",\"sun\",\"sun\",\"sun\",\"sun\",\"sun\",\"sun\",\"sun\",\"sun\",\"sun\",\"sun\",\"sun\",\"sun\",\"sun\",\"sun\",\"sun\",\"sun\",\"sun\",\"sun\",\"sun\",\"sun\",\"sun\",\"sun\",\"sun\",\"sun\",\"sun\",\"sun\",\"sun\",\"sun\",\"sun\",\"sun\",\"sun\",\"sun\",\"sun\",\"sun\",\"sun\",\"sun\",\"sun\",\"sun\",\"sun\",\"sun\",\"sun\",\"sun\",\"sun\",\"sun\",\"sun\",\"sun\",\"sun\",\"sun\",\"sun\",\"sun\",\"sun\",\"sun\",\"sun\",\"sun\",\"sun\",\"sun\",\"sun\",\"sun\",\"sun\",\"sun\",\"sun\",\"sun\",\"sun\",\"sun\",\"sun\",\"sun\",\"sun\",\"sun\",\"sun\",\"sun\",\"sun\",\"sun\",\"sun\",\"sun\",\"sun\",\"sun\",\"sun\",\"sun\",\"sun\",\"sun\",\"sun\",\"sun\",\"sun\",\"sun\",\"sun\",\"sun\",\"sun\",\"sun\",\"sun\",\"sun\",\"sun\",\"sun\",\"sun\",\"sun\",\"sun\",\"sun\",\"sun\",\"sun\",\"sun\",\"sun\",\"sun\",\"sun\",\"sun\",\"sun\",\"sun\",\"sun\",\"sun\",\"sun\",\"sun\",\"sun\",\"sun\",\"sun\",\"sun\",\"sun\",\"sun\",\"sun\",\"sun\",\"sun\",\"sun\",\"sun\",\"sun\",\"sun\",\"sun\",\"sun\",\"sun\",\"sun\",\"sun\",\"sun\",\"sun\",\"sun\",\"sun\",\"sun\",\"sun\",\"sun\",\"sun\",\"sun\",\"sun\",\"sun\",\"sun\",\"sun\",\"sun\",\"sun\",\"sun\",\"sun\",\"sun\",\"sun\",\"sun\",\"sun\",\"sun\",\"sun\",\"sun\",\"sun\",\"sun\",\"sun\",\"sun\",\"sun\",\"sun\",\"sun\",\"sun\",\"sun\",\"sun\",\"sun\",\"sun\",\"sun\",\"sun\",\"sun\",\"sun\",\"sun\",\"sun\",\"sun\",\"sun\",\"sun\",\"sun\",\"sun\",\"sun\",\"sun\",\"sun\",\"sun\",\"sun\",\"sun\",\"sun\",\"sun\",\"sun\",\"sun\",\"sun\",\"sun\",\"sun\",\"sun\",\"sun\",\"sun\",\"sun\",\"sun\",\"sun\",\"sun\",\"sun\",\"sun\",\"sun\",\"sun\",\"sun\",\"sun\",\"sun\",\"sun\",\"sun\",\"sun\",\"sun\",\"sun\",\"sun\",\"sun\",\"sun\",\"sun\",\"sun\",\"sun\",\"sun\",\"sun\",\"sun\",\"sun\",\"sun\",\"sun\",\"sun\",\"sun\",\"sun\",\"sun\",\"sun\",\"sun\",\"sun\",\"sun\",\"sun\",\"sun\",\"sun\",\"sun\",\"sun\",\"sun\",\"sun\",\"sun\",\"sun\",\"sun\",\"sun\",\"sun\",\"sun\",\"sun\",\"sun\",\"sun\",\"sun\",\"sun\",\"sun\",\"sun\",\"sun\",\"sun\",\"sun\",\"sun\",\"sun\",\"sun\",\"sun\",\"sun\",\"sun\",\"sun\",\"sun\",\"sun\",\"sun\",\"sun\",\"sun\",\"sun\",\"sun\",\"sun\",\"sun\",\"sun\",\"sun\",\"sun\",\"sun\",\"sun\",\"sun\",\"sun\",\"sun\",\"sun\",\"sun\",\"sun\",\"sun\",\"sun\",\"sun\",\"sun\",\"sun\"],\"xaxis\":\"x\",\"yaxis\":\"y\",\"type\":\"histogram\"},{\"alignmentgroup\":\"True\",\"bingroup\":\"x\",\"hovertemplate\":\"weather=%{x}<br>count=%{y}<extra></extra>\",\"legendgroup\":\"fog\",\"marker\":{\"color\":\"#ab63fa\",\"pattern\":{\"shape\":\"\"}},\"name\":\"fog\",\"offsetgroup\":\"fog\",\"orientation\":\"v\",\"showlegend\":true,\"texttemplate\":\"%{value}\",\"x\":[\"fog\",\"fog\",\"fog\",\"fog\",\"fog\",\"fog\",\"fog\",\"fog\",\"fog\",\"fog\",\"fog\",\"fog\",\"fog\",\"fog\",\"fog\",\"fog\",\"fog\",\"fog\",\"fog\",\"fog\",\"fog\",\"fog\",\"fog\",\"fog\",\"fog\",\"fog\",\"fog\",\"fog\",\"fog\",\"fog\",\"fog\",\"fog\",\"fog\",\"fog\",\"fog\",\"fog\",\"fog\",\"fog\",\"fog\",\"fog\",\"fog\",\"fog\",\"fog\",\"fog\",\"fog\",\"fog\",\"fog\",\"fog\",\"fog\",\"fog\",\"fog\",\"fog\",\"fog\",\"fog\",\"fog\",\"fog\",\"fog\",\"fog\",\"fog\",\"fog\",\"fog\",\"fog\",\"fog\",\"fog\",\"fog\",\"fog\",\"fog\",\"fog\",\"fog\",\"fog\",\"fog\",\"fog\",\"fog\",\"fog\",\"fog\",\"fog\",\"fog\",\"fog\",\"fog\",\"fog\",\"fog\",\"fog\",\"fog\",\"fog\",\"fog\",\"fog\",\"fog\",\"fog\",\"fog\",\"fog\",\"fog\",\"fog\",\"fog\",\"fog\",\"fog\",\"fog\",\"fog\",\"fog\",\"fog\",\"fog\",\"fog\"],\"xaxis\":\"x\",\"yaxis\":\"y\",\"type\":\"histogram\"},{\"alignmentgroup\":\"True\",\"bingroup\":\"x\",\"hovertemplate\":\"weather=%{x}<br>count=%{y}<extra></extra>\",\"legendgroup\":\"snow\",\"marker\":{\"color\":\"#FFA15A\",\"pattern\":{\"shape\":\"\"}},\"name\":\"snow\",\"offsetgroup\":\"snow\",\"orientation\":\"v\",\"showlegend\":true,\"texttemplate\":\"%{value}\",\"x\":[\"snow\",\"snow\",\"snow\",\"snow\",\"snow\",\"snow\",\"snow\",\"snow\",\"snow\",\"snow\",\"snow\",\"snow\",\"snow\",\"snow\",\"snow\",\"snow\",\"snow\",\"snow\",\"snow\",\"snow\",\"snow\",\"snow\",\"snow\",\"snow\",\"snow\",\"snow\"],\"xaxis\":\"x\",\"yaxis\":\"y\",\"type\":\"histogram\"}],                        {\"template\":{\"data\":{\"histogram2dcontour\":[{\"type\":\"histogram2dcontour\",\"colorbar\":{\"outlinewidth\":0,\"ticks\":\"\"},\"colorscale\":[[0.0,\"#0d0887\"],[0.1111111111111111,\"#46039f\"],[0.2222222222222222,\"#7201a8\"],[0.3333333333333333,\"#9c179e\"],[0.4444444444444444,\"#bd3786\"],[0.5555555555555556,\"#d8576b\"],[0.6666666666666666,\"#ed7953\"],[0.7777777777777778,\"#fb9f3a\"],[0.8888888888888888,\"#fdca26\"],[1.0,\"#f0f921\"]]}],\"choropleth\":[{\"type\":\"choropleth\",\"colorbar\":{\"outlinewidth\":0,\"ticks\":\"\"}}],\"histogram2d\":[{\"type\":\"histogram2d\",\"colorbar\":{\"outlinewidth\":0,\"ticks\":\"\"},\"colorscale\":[[0.0,\"#0d0887\"],[0.1111111111111111,\"#46039f\"],[0.2222222222222222,\"#7201a8\"],[0.3333333333333333,\"#9c179e\"],[0.4444444444444444,\"#bd3786\"],[0.5555555555555556,\"#d8576b\"],[0.6666666666666666,\"#ed7953\"],[0.7777777777777778,\"#fb9f3a\"],[0.8888888888888888,\"#fdca26\"],[1.0,\"#f0f921\"]]}],\"heatmap\":[{\"type\":\"heatmap\",\"colorbar\":{\"outlinewidth\":0,\"ticks\":\"\"},\"colorscale\":[[0.0,\"#0d0887\"],[0.1111111111111111,\"#46039f\"],[0.2222222222222222,\"#7201a8\"],[0.3333333333333333,\"#9c179e\"],[0.4444444444444444,\"#bd3786\"],[0.5555555555555556,\"#d8576b\"],[0.6666666666666666,\"#ed7953\"],[0.7777777777777778,\"#fb9f3a\"],[0.8888888888888888,\"#fdca26\"],[1.0,\"#f0f921\"]]}],\"heatmapgl\":[{\"type\":\"heatmapgl\",\"colorbar\":{\"outlinewidth\":0,\"ticks\":\"\"},\"colorscale\":[[0.0,\"#0d0887\"],[0.1111111111111111,\"#46039f\"],[0.2222222222222222,\"#7201a8\"],[0.3333333333333333,\"#9c179e\"],[0.4444444444444444,\"#bd3786\"],[0.5555555555555556,\"#d8576b\"],[0.6666666666666666,\"#ed7953\"],[0.7777777777777778,\"#fb9f3a\"],[0.8888888888888888,\"#fdca26\"],[1.0,\"#f0f921\"]]}],\"contourcarpet\":[{\"type\":\"contourcarpet\",\"colorbar\":{\"outlinewidth\":0,\"ticks\":\"\"}}],\"contour\":[{\"type\":\"contour\",\"colorbar\":{\"outlinewidth\":0,\"ticks\":\"\"},\"colorscale\":[[0.0,\"#0d0887\"],[0.1111111111111111,\"#46039f\"],[0.2222222222222222,\"#7201a8\"],[0.3333333333333333,\"#9c179e\"],[0.4444444444444444,\"#bd3786\"],[0.5555555555555556,\"#d8576b\"],[0.6666666666666666,\"#ed7953\"],[0.7777777777777778,\"#fb9f3a\"],[0.8888888888888888,\"#fdca26\"],[1.0,\"#f0f921\"]]}],\"surface\":[{\"type\":\"surface\",\"colorbar\":{\"outlinewidth\":0,\"ticks\":\"\"},\"colorscale\":[[0.0,\"#0d0887\"],[0.1111111111111111,\"#46039f\"],[0.2222222222222222,\"#7201a8\"],[0.3333333333333333,\"#9c179e\"],[0.4444444444444444,\"#bd3786\"],[0.5555555555555556,\"#d8576b\"],[0.6666666666666666,\"#ed7953\"],[0.7777777777777778,\"#fb9f3a\"],[0.8888888888888888,\"#fdca26\"],[1.0,\"#f0f921\"]]}],\"mesh3d\":[{\"type\":\"mesh3d\",\"colorbar\":{\"outlinewidth\":0,\"ticks\":\"\"}}],\"scatter\":[{\"marker\":{\"line\":{\"color\":\"#283442\"}},\"type\":\"scatter\"}],\"parcoords\":[{\"type\":\"parcoords\",\"line\":{\"colorbar\":{\"outlinewidth\":0,\"ticks\":\"\"}}}],\"scatterpolargl\":[{\"type\":\"scatterpolargl\",\"marker\":{\"colorbar\":{\"outlinewidth\":0,\"ticks\":\"\"}}}],\"bar\":[{\"error_x\":{\"color\":\"#f2f5fa\"},\"error_y\":{\"color\":\"#f2f5fa\"},\"marker\":{\"line\":{\"color\":\"rgb(17,17,17)\",\"width\":0.5},\"pattern\":{\"fillmode\":\"overlay\",\"size\":10,\"solidity\":0.2}},\"type\":\"bar\"}],\"scattergeo\":[{\"type\":\"scattergeo\",\"marker\":{\"colorbar\":{\"outlinewidth\":0,\"ticks\":\"\"}}}],\"scatterpolar\":[{\"type\":\"scatterpolar\",\"marker\":{\"colorbar\":{\"outlinewidth\":0,\"ticks\":\"\"}}}],\"histogram\":[{\"marker\":{\"pattern\":{\"fillmode\":\"overlay\",\"size\":10,\"solidity\":0.2}},\"type\":\"histogram\"}],\"scattergl\":[{\"marker\":{\"line\":{\"color\":\"#283442\"}},\"type\":\"scattergl\"}],\"scatter3d\":[{\"type\":\"scatter3d\",\"line\":{\"colorbar\":{\"outlinewidth\":0,\"ticks\":\"\"}},\"marker\":{\"colorbar\":{\"outlinewidth\":0,\"ticks\":\"\"}}}],\"scattermapbox\":[{\"type\":\"scattermapbox\",\"marker\":{\"colorbar\":{\"outlinewidth\":0,\"ticks\":\"\"}}}],\"scatterternary\":[{\"type\":\"scatterternary\",\"marker\":{\"colorbar\":{\"outlinewidth\":0,\"ticks\":\"\"}}}],\"scattercarpet\":[{\"type\":\"scattercarpet\",\"marker\":{\"colorbar\":{\"outlinewidth\":0,\"ticks\":\"\"}}}],\"carpet\":[{\"aaxis\":{\"endlinecolor\":\"#A2B1C6\",\"gridcolor\":\"#506784\",\"linecolor\":\"#506784\",\"minorgridcolor\":\"#506784\",\"startlinecolor\":\"#A2B1C6\"},\"baxis\":{\"endlinecolor\":\"#A2B1C6\",\"gridcolor\":\"#506784\",\"linecolor\":\"#506784\",\"minorgridcolor\":\"#506784\",\"startlinecolor\":\"#A2B1C6\"},\"type\":\"carpet\"}],\"table\":[{\"cells\":{\"fill\":{\"color\":\"#506784\"},\"line\":{\"color\":\"rgb(17,17,17)\"}},\"header\":{\"fill\":{\"color\":\"#2a3f5f\"},\"line\":{\"color\":\"rgb(17,17,17)\"}},\"type\":\"table\"}],\"barpolar\":[{\"marker\":{\"line\":{\"color\":\"rgb(17,17,17)\",\"width\":0.5},\"pattern\":{\"fillmode\":\"overlay\",\"size\":10,\"solidity\":0.2}},\"type\":\"barpolar\"}],\"pie\":[{\"automargin\":true,\"type\":\"pie\"}]},\"layout\":{\"autotypenumbers\":\"strict\",\"colorway\":[\"#636efa\",\"#EF553B\",\"#00cc96\",\"#ab63fa\",\"#FFA15A\",\"#19d3f3\",\"#FF6692\",\"#B6E880\",\"#FF97FF\",\"#FECB52\"],\"font\":{\"color\":\"#f2f5fa\"},\"hovermode\":\"closest\",\"hoverlabel\":{\"align\":\"left\"},\"paper_bgcolor\":\"rgb(17,17,17)\",\"plot_bgcolor\":\"rgb(17,17,17)\",\"polar\":{\"bgcolor\":\"rgb(17,17,17)\",\"angularaxis\":{\"gridcolor\":\"#506784\",\"linecolor\":\"#506784\",\"ticks\":\"\"},\"radialaxis\":{\"gridcolor\":\"#506784\",\"linecolor\":\"#506784\",\"ticks\":\"\"}},\"ternary\":{\"bgcolor\":\"rgb(17,17,17)\",\"aaxis\":{\"gridcolor\":\"#506784\",\"linecolor\":\"#506784\",\"ticks\":\"\"},\"baxis\":{\"gridcolor\":\"#506784\",\"linecolor\":\"#506784\",\"ticks\":\"\"},\"caxis\":{\"gridcolor\":\"#506784\",\"linecolor\":\"#506784\",\"ticks\":\"\"}},\"coloraxis\":{\"colorbar\":{\"outlinewidth\":0,\"ticks\":\"\"}},\"colorscale\":{\"sequential\":[[0.0,\"#0d0887\"],[0.1111111111111111,\"#46039f\"],[0.2222222222222222,\"#7201a8\"],[0.3333333333333333,\"#9c179e\"],[0.4444444444444444,\"#bd3786\"],[0.5555555555555556,\"#d8576b\"],[0.6666666666666666,\"#ed7953\"],[0.7777777777777778,\"#fb9f3a\"],[0.8888888888888888,\"#fdca26\"],[1.0,\"#f0f921\"]],\"sequentialminus\":[[0.0,\"#0d0887\"],[0.1111111111111111,\"#46039f\"],[0.2222222222222222,\"#7201a8\"],[0.3333333333333333,\"#9c179e\"],[0.4444444444444444,\"#bd3786\"],[0.5555555555555556,\"#d8576b\"],[0.6666666666666666,\"#ed7953\"],[0.7777777777777778,\"#fb9f3a\"],[0.8888888888888888,\"#fdca26\"],[1.0,\"#f0f921\"]],\"diverging\":[[0,\"#8e0152\"],[0.1,\"#c51b7d\"],[0.2,\"#de77ae\"],[0.3,\"#f1b6da\"],[0.4,\"#fde0ef\"],[0.5,\"#f7f7f7\"],[0.6,\"#e6f5d0\"],[0.7,\"#b8e186\"],[0.8,\"#7fbc41\"],[0.9,\"#4d9221\"],[1,\"#276419\"]]},\"xaxis\":{\"gridcolor\":\"#283442\",\"linecolor\":\"#506784\",\"ticks\":\"\",\"title\":{\"standoff\":15},\"zerolinecolor\":\"#283442\",\"automargin\":true,\"zerolinewidth\":2},\"yaxis\":{\"gridcolor\":\"#283442\",\"linecolor\":\"#506784\",\"ticks\":\"\",\"title\":{\"standoff\":15},\"zerolinecolor\":\"#283442\",\"automargin\":true,\"zerolinewidth\":2},\"scene\":{\"xaxis\":{\"backgroundcolor\":\"rgb(17,17,17)\",\"gridcolor\":\"#506784\",\"linecolor\":\"#506784\",\"showbackground\":true,\"ticks\":\"\",\"zerolinecolor\":\"#C8D4E3\",\"gridwidth\":2},\"yaxis\":{\"backgroundcolor\":\"rgb(17,17,17)\",\"gridcolor\":\"#506784\",\"linecolor\":\"#506784\",\"showbackground\":true,\"ticks\":\"\",\"zerolinecolor\":\"#C8D4E3\",\"gridwidth\":2},\"zaxis\":{\"backgroundcolor\":\"rgb(17,17,17)\",\"gridcolor\":\"#506784\",\"linecolor\":\"#506784\",\"showbackground\":true,\"ticks\":\"\",\"zerolinecolor\":\"#C8D4E3\",\"gridwidth\":2}},\"shapedefaults\":{\"line\":{\"color\":\"#f2f5fa\"}},\"annotationdefaults\":{\"arrowcolor\":\"#f2f5fa\",\"arrowhead\":0,\"arrowwidth\":1},\"geo\":{\"bgcolor\":\"rgb(17,17,17)\",\"landcolor\":\"rgb(17,17,17)\",\"subunitcolor\":\"#506784\",\"showland\":true,\"showlakes\":true,\"lakecolor\":\"rgb(17,17,17)\"},\"title\":{\"x\":0.05},\"updatemenudefaults\":{\"bgcolor\":\"#506784\",\"borderwidth\":0},\"sliderdefaults\":{\"bgcolor\":\"#C8D4E3\",\"borderwidth\":1,\"bordercolor\":\"rgb(17,17,17)\",\"tickwidth\":0},\"mapbox\":{\"style\":\"dark\"}}},\"xaxis\":{\"anchor\":\"y\",\"domain\":[0.0,1.0],\"title\":{\"text\":\"weather\"},\"categoryorder\":\"total ascending\",\"categoryarray\":[\"drizzle\",\"rain\",\"sun\",\"fog\",\"snow\"]},\"yaxis\":{\"anchor\":\"x\",\"domain\":[0.0,1.0],\"title\":{\"text\":\"count\"}},\"legend\":{\"title\":{\"text\":\"weather\"},\"tracegroupgap\":0},\"title\":{\"text\":\"No of weathers with their count\"},\"barmode\":\"relative\"},                        {\"responsive\": true}                    ).then(function(){\n",
       "                            \n",
       "var gd = document.getElementById('ada4af6d-993c-4f11-beed-a6d9a8f1664d');\n",
       "var x = new MutationObserver(function (mutations, observer) {{\n",
       "        var display = window.getComputedStyle(gd).display;\n",
       "        if (!display || display === 'none') {{\n",
       "            console.log([gd, 'removed!']);\n",
       "            Plotly.purge(gd);\n",
       "            observer.disconnect();\n",
       "        }}\n",
       "}});\n",
       "\n",
       "// Listen for the removal of the full notebook cells\n",
       "var notebookContainer = gd.closest('#notebook-container');\n",
       "if (notebookContainer) {{\n",
       "    x.observe(notebookContainer, {childList: true});\n",
       "}}\n",
       "\n",
       "// Listen for the clearing of the current output cell\n",
       "var outputEl = gd.closest('.output');\n",
       "if (outputEl) {{\n",
       "    x.observe(outputEl, {childList: true});\n",
       "}}\n",
       "\n",
       "                        })                };                });            </script>        </div>"
      ]
     },
     "metadata": {},
     "output_type": "display_data"
    }
   ],
   "source": [
    "fig = px.histogram(dataset, x=\"weather\",text_auto=True ,color='weather',title='No of weathers with their count').update_xaxes(categoryorder='total ascending')\n",
    "fig.show()"
   ]
  },
  {
   "cell_type": "code",
   "execution_count": 108,
   "metadata": {
    "collapsed": false
   },
   "outputs": [
    {
     "data": {
      "application/vnd.plotly.v1+json": {
       "config": {
        "plotlyServerURL": "https://plot.ly"
       },
       "data": [
        {
         "customdata": [
          [
           "drizzle"
          ],
          [
           "rain"
          ],
          [
           "sun"
          ],
          [
           "rain"
          ],
          [
           "sun"
          ],
          [
           "rain"
          ],
          [
           "rain"
          ],
          [
           "rain"
          ],
          [
           "fog"
          ],
          [
           "rain"
          ],
          [
           "rain"
          ],
          [
           "rain"
          ],
          [
           "rain"
          ],
          [
           "sun"
          ],
          [
           "sun"
          ],
          [
           "rain"
          ],
          [
           "sun"
          ],
          [
           "sun"
          ],
          [
           "fog"
          ],
          [
           "rain"
          ],
          [
           "sun"
          ],
          [
           "sun"
          ],
          [
           "sun"
          ],
          [
           "rain"
          ],
          [
           "fog"
          ],
          [
           "sun"
          ],
          [
           "sun"
          ],
          [
           "rain"
          ],
          [
           "sun"
          ],
          [
           "drizzle"
          ],
          [
           "snow"
          ],
          [
           "drizzle"
          ],
          [
           "sun"
          ],
          [
           "sun"
          ],
          [
           "sun"
          ],
          [
           "sun"
          ],
          [
           "rain"
          ],
          [
           "rain"
          ],
          [
           "sun"
          ],
          [
           "sun"
          ],
          [
           "rain"
          ],
          [
           "sun"
          ],
          [
           "sun"
          ],
          [
           "drizzle"
          ],
          [
           "rain"
          ],
          [
           "rain"
          ],
          [
           "sun"
          ],
          [
           "sun"
          ],
          [
           "rain"
          ],
          [
           "rain"
          ],
          [
           "rain"
          ],
          [
           "rain"
          ],
          [
           "rain"
          ],
          [
           "rain"
          ],
          [
           "sun"
          ],
          [
           "sun"
          ],
          [
           "rain"
          ],
          [
           "rain"
          ],
          [
           "rain"
          ],
          [
           "sun"
          ],
          [
           "sun"
          ],
          [
           "sun"
          ],
          [
           "rain"
          ],
          [
           "rain"
          ],
          [
           "rain"
          ],
          [
           "sun"
          ],
          [
           "rain"
          ],
          [
           "sun"
          ],
          [
           "fog"
          ],
          [
           "rain"
          ],
          [
           "rain"
          ],
          [
           "sun"
          ],
          [
           "sun"
          ],
          [
           "sun"
          ],
          [
           "rain"
          ],
          [
           "sun"
          ],
          [
           "rain"
          ],
          [
           "sun"
          ],
          [
           "sun"
          ],
          [
           "rain"
          ],
          [
           "rain"
          ],
          [
           "snow"
          ],
          [
           "fog"
          ],
          [
           "sun"
          ],
          [
           "sun"
          ],
          [
           "rain"
          ],
          [
           "sun"
          ],
          [
           "rain"
          ],
          [
           "sun"
          ],
          [
           "sun"
          ],
          [
           "sun"
          ],
          [
           "rain"
          ],
          [
           "sun"
          ],
          [
           "sun"
          ],
          [
           "rain"
          ],
          [
           "sun"
          ],
          [
           "sun"
          ],
          [
           "sun"
          ],
          [
           "rain"
          ],
          [
           "rain"
          ],
          [
           "rain"
          ],
          [
           "rain"
          ],
          [
           "sun"
          ],
          [
           "sun"
          ],
          [
           "sun"
          ],
          [
           "sun"
          ],
          [
           "rain"
          ],
          [
           "rain"
          ],
          [
           "snow"
          ],
          [
           "sun"
          ],
          [
           "rain"
          ],
          [
           "sun"
          ],
          [
           "sun"
          ],
          [
           "rain"
          ],
          [
           "drizzle"
          ],
          [
           "sun"
          ],
          [
           "rain"
          ],
          [
           "sun"
          ],
          [
           "rain"
          ],
          [
           "rain"
          ],
          [
           "sun"
          ],
          [
           "rain"
          ],
          [
           "rain"
          ],
          [
           "drizzle"
          ],
          [
           "rain"
          ],
          [
           "rain"
          ],
          [
           "sun"
          ],
          [
           "rain"
          ],
          [
           "rain"
          ],
          [
           "rain"
          ],
          [
           "sun"
          ],
          [
           "rain"
          ],
          [
           "rain"
          ],
          [
           "sun"
          ],
          [
           "sun"
          ],
          [
           "sun"
          ],
          [
           "sun"
          ],
          [
           "sun"
          ],
          [
           "rain"
          ],
          [
           "sun"
          ],
          [
           "rain"
          ],
          [
           "rain"
          ],
          [
           "rain"
          ],
          [
           "rain"
          ],
          [
           "sun"
          ],
          [
           "rain"
          ],
          [
           "drizzle"
          ],
          [
           "sun"
          ],
          [
           "sun"
          ],
          [
           "fog"
          ],
          [
           "rain"
          ],
          [
           "sun"
          ],
          [
           "rain"
          ],
          [
           "sun"
          ],
          [
           "rain"
          ],
          [
           "rain"
          ],
          [
           "rain"
          ],
          [
           "sun"
          ],
          [
           "rain"
          ],
          [
           "fog"
          ],
          [
           "rain"
          ],
          [
           "rain"
          ],
          [
           "rain"
          ],
          [
           "sun"
          ],
          [
           "rain"
          ],
          [
           "sun"
          ],
          [
           "sun"
          ],
          [
           "rain"
          ],
          [
           "rain"
          ],
          [
           "sun"
          ],
          [
           "sun"
          ],
          [
           "rain"
          ],
          [
           "sun"
          ],
          [
           "rain"
          ],
          [
           "sun"
          ],
          [
           "sun"
          ],
          [
           "rain"
          ],
          [
           "rain"
          ],
          [
           "sun"
          ],
          [
           "rain"
          ],
          [
           "rain"
          ],
          [
           "rain"
          ],
          [
           "sun"
          ],
          [
           "rain"
          ],
          [
           "sun"
          ],
          [
           "rain"
          ],
          [
           "fog"
          ],
          [
           "sun"
          ],
          [
           "sun"
          ],
          [
           "sun"
          ],
          [
           "sun"
          ],
          [
           "sun"
          ],
          [
           "sun"
          ],
          [
           "sun"
          ],
          [
           "rain"
          ],
          [
           "rain"
          ],
          [
           "sun"
          ],
          [
           "sun"
          ],
          [
           "sun"
          ],
          [
           "sun"
          ],
          [
           "snow"
          ],
          [
           "drizzle"
          ],
          [
           "rain"
          ],
          [
           "sun"
          ],
          [
           "rain"
          ],
          [
           "rain"
          ],
          [
           "sun"
          ],
          [
           "fog"
          ],
          [
           "sun"
          ],
          [
           "rain"
          ],
          [
           "sun"
          ],
          [
           "rain"
          ],
          [
           "sun"
          ],
          [
           "sun"
          ],
          [
           "rain"
          ],
          [
           "rain"
          ],
          [
           "fog"
          ],
          [
           "sun"
          ],
          [
           "rain"
          ],
          [
           "rain"
          ],
          [
           "rain"
          ],
          [
           "sun"
          ],
          [
           "rain"
          ],
          [
           "sun"
          ],
          [
           "sun"
          ],
          [
           "drizzle"
          ],
          [
           "sun"
          ],
          [
           "rain"
          ],
          [
           "rain"
          ],
          [
           "sun"
          ],
          [
           "rain"
          ],
          [
           "rain"
          ],
          [
           "sun"
          ],
          [
           "rain"
          ],
          [
           "sun"
          ],
          [
           "rain"
          ],
          [
           "sun"
          ],
          [
           "sun"
          ],
          [
           "sun"
          ],
          [
           "sun"
          ],
          [
           "sun"
          ],
          [
           "sun"
          ],
          [
           "sun"
          ],
          [
           "sun"
          ],
          [
           "rain"
          ],
          [
           "drizzle"
          ],
          [
           "sun"
          ],
          [
           "rain"
          ],
          [
           "sun"
          ],
          [
           "sun"
          ],
          [
           "rain"
          ],
          [
           "sun"
          ],
          [
           "rain"
          ],
          [
           "sun"
          ],
          [
           "fog"
          ],
          [
           "sun"
          ],
          [
           "rain"
          ],
          [
           "rain"
          ],
          [
           "rain"
          ],
          [
           "rain"
          ],
          [
           "rain"
          ],
          [
           "rain"
          ],
          [
           "sun"
          ],
          [
           "fog"
          ],
          [
           "rain"
          ],
          [
           "rain"
          ],
          [
           "rain"
          ],
          [
           "drizzle"
          ],
          [
           "rain"
          ],
          [
           "sun"
          ],
          [
           "sun"
          ],
          [
           "drizzle"
          ],
          [
           "sun"
          ],
          [
           "sun"
          ],
          [
           "rain"
          ],
          [
           "rain"
          ],
          [
           "rain"
          ],
          [
           "drizzle"
          ],
          [
           "sun"
          ],
          [
           "rain"
          ],
          [
           "rain"
          ],
          [
           "rain"
          ],
          [
           "rain"
          ],
          [
           "drizzle"
          ],
          [
           "snow"
          ],
          [
           "rain"
          ],
          [
           "rain"
          ],
          [
           "sun"
          ],
          [
           "drizzle"
          ],
          [
           "sun"
          ],
          [
           "sun"
          ],
          [
           "rain"
          ],
          [
           "rain"
          ],
          [
           "sun"
          ],
          [
           "sun"
          ],
          [
           "sun"
          ],
          [
           "sun"
          ],
          [
           "rain"
          ],
          [
           "rain"
          ],
          [
           "sun"
          ],
          [
           "rain"
          ],
          [
           "rain"
          ],
          [
           "sun"
          ],
          [
           "fog"
          ],
          [
           "rain"
          ],
          [
           "sun"
          ],
          [
           "rain"
          ],
          [
           "sun"
          ],
          [
           "sun"
          ],
          [
           "sun"
          ],
          [
           "rain"
          ],
          [
           "rain"
          ],
          [
           "sun"
          ],
          [
           "rain"
          ],
          [
           "rain"
          ],
          [
           "sun"
          ],
          [
           "rain"
          ],
          [
           "rain"
          ],
          [
           "fog"
          ],
          [
           "rain"
          ],
          [
           "sun"
          ],
          [
           "sun"
          ],
          [
           "sun"
          ],
          [
           "rain"
          ],
          [
           "sun"
          ],
          [
           "fog"
          ],
          [
           "rain"
          ],
          [
           "rain"
          ],
          [
           "rain"
          ],
          [
           "sun"
          ],
          [
           "sun"
          ],
          [
           "rain"
          ],
          [
           "sun"
          ],
          [
           "rain"
          ],
          [
           "rain"
          ],
          [
           "sun"
          ],
          [
           "rain"
          ],
          [
           "rain"
          ],
          [
           "rain"
          ],
          [
           "rain"
          ],
          [
           "sun"
          ],
          [
           "sun"
          ],
          [
           "sun"
          ],
          [
           "rain"
          ],
          [
           "rain"
          ],
          [
           "rain"
          ],
          [
           "rain"
          ],
          [
           "drizzle"
          ],
          [
           "sun"
          ],
          [
           "rain"
          ],
          [
           "fog"
          ],
          [
           "rain"
          ],
          [
           "rain"
          ],
          [
           "rain"
          ],
          [
           "drizzle"
          ],
          [
           "rain"
          ],
          [
           "sun"
          ],
          [
           "rain"
          ],
          [
           "sun"
          ],
          [
           "fog"
          ],
          [
           "rain"
          ],
          [
           "sun"
          ],
          [
           "rain"
          ],
          [
           "rain"
          ],
          [
           "sun"
          ],
          [
           "sun"
          ],
          [
           "sun"
          ],
          [
           "sun"
          ],
          [
           "rain"
          ],
          [
           "rain"
          ],
          [
           "rain"
          ],
          [
           "rain"
          ],
          [
           "fog"
          ],
          [
           "sun"
          ],
          [
           "rain"
          ],
          [
           "rain"
          ],
          [
           "sun"
          ],
          [
           "sun"
          ],
          [
           "rain"
          ],
          [
           "sun"
          ],
          [
           "rain"
          ],
          [
           "rain"
          ],
          [
           "sun"
          ],
          [
           "rain"
          ],
          [
           "rain"
          ],
          [
           "sun"
          ],
          [
           "sun"
          ],
          [
           "sun"
          ],
          [
           "rain"
          ],
          [
           "rain"
          ],
          [
           "sun"
          ],
          [
           "sun"
          ],
          [
           "drizzle"
          ],
          [
           "sun"
          ],
          [
           "rain"
          ],
          [
           "sun"
          ],
          [
           "rain"
          ],
          [
           "sun"
          ],
          [
           "sun"
          ],
          [
           "sun"
          ],
          [
           "sun"
          ],
          [
           "rain"
          ],
          [
           "sun"
          ],
          [
           "sun"
          ],
          [
           "fog"
          ],
          [
           "sun"
          ],
          [
           "rain"
          ],
          [
           "rain"
          ],
          [
           "fog"
          ],
          [
           "sun"
          ],
          [
           "rain"
          ],
          [
           "sun"
          ],
          [
           "rain"
          ],
          [
           "sun"
          ],
          [
           "sun"
          ],
          [
           "sun"
          ],
          [
           "rain"
          ],
          [
           "rain"
          ],
          [
           "rain"
          ],
          [
           "rain"
          ],
          [
           "sun"
          ],
          [
           "rain"
          ],
          [
           "rain"
          ],
          [
           "sun"
          ],
          [
           "sun"
          ],
          [
           "sun"
          ],
          [
           "sun"
          ],
          [
           "sun"
          ],
          [
           "sun"
          ],
          [
           "sun"
          ],
          [
           "fog"
          ],
          [
           "sun"
          ],
          [
           "rain"
          ],
          [
           "sun"
          ],
          [
           "rain"
          ],
          [
           "sun"
          ],
          [
           "sun"
          ],
          [
           "rain"
          ],
          [
           "rain"
          ],
          [
           "fog"
          ],
          [
           "fog"
          ],
          [
           "rain"
          ],
          [
           "fog"
          ],
          [
           "rain"
          ],
          [
           "rain"
          ],
          [
           "sun"
          ],
          [
           "rain"
          ],
          [
           "sun"
          ],
          [
           "sun"
          ],
          [
           "sun"
          ],
          [
           "rain"
          ],
          [
           "drizzle"
          ],
          [
           "sun"
          ],
          [
           "sun"
          ],
          [
           "rain"
          ],
          [
           "rain"
          ],
          [
           "sun"
          ],
          [
           "fog"
          ],
          [
           "sun"
          ],
          [
           "rain"
          ],
          [
           "rain"
          ],
          [
           "fog"
          ],
          [
           "sun"
          ],
          [
           "rain"
          ],
          [
           "sun"
          ],
          [
           "snow"
          ],
          [
           "sun"
          ],
          [
           "rain"
          ],
          [
           "rain"
          ],
          [
           "sun"
          ],
          [
           "sun"
          ],
          [
           "sun"
          ],
          [
           "sun"
          ],
          [
           "rain"
          ],
          [
           "sun"
          ],
          [
           "sun"
          ],
          [
           "sun"
          ],
          [
           "sun"
          ],
          [
           "rain"
          ],
          [
           "rain"
          ],
          [
           "sun"
          ],
          [
           "sun"
          ],
          [
           "sun"
          ],
          [
           "sun"
          ],
          [
           "sun"
          ],
          [
           "sun"
          ],
          [
           "sun"
          ],
          [
           "fog"
          ],
          [
           "rain"
          ],
          [
           "rain"
          ],
          [
           "rain"
          ],
          [
           "rain"
          ],
          [
           "sun"
          ],
          [
           "sun"
          ],
          [
           "snow"
          ],
          [
           "sun"
          ],
          [
           "rain"
          ],
          [
           "rain"
          ],
          [
           "sun"
          ],
          [
           "rain"
          ],
          [
           "rain"
          ],
          [
           "sun"
          ],
          [
           "sun"
          ],
          [
           "sun"
          ],
          [
           "sun"
          ],
          [
           "sun"
          ],
          [
           "rain"
          ],
          [
           "sun"
          ],
          [
           "rain"
          ],
          [
           "fog"
          ],
          [
           "sun"
          ],
          [
           "rain"
          ],
          [
           "sun"
          ],
          [
           "fog"
          ],
          [
           "rain"
          ],
          [
           "sun"
          ],
          [
           "sun"
          ],
          [
           "rain"
          ],
          [
           "sun"
          ],
          [
           "sun"
          ],
          [
           "rain"
          ],
          [
           "fog"
          ],
          [
           "sun"
          ],
          [
           "sun"
          ],
          [
           "rain"
          ],
          [
           "sun"
          ],
          [
           "fog"
          ],
          [
           "sun"
          ],
          [
           "sun"
          ],
          [
           "rain"
          ],
          [
           "rain"
          ],
          [
           "rain"
          ],
          [
           "sun"
          ],
          [
           "rain"
          ],
          [
           "sun"
          ],
          [
           "rain"
          ],
          [
           "snow"
          ],
          [
           "sun"
          ],
          [
           "fog"
          ],
          [
           "sun"
          ],
          [
           "sun"
          ],
          [
           "rain"
          ],
          [
           "sun"
          ],
          [
           "rain"
          ],
          [
           "sun"
          ],
          [
           "sun"
          ],
          [
           "rain"
          ],
          [
           "rain"
          ],
          [
           "sun"
          ],
          [
           "fog"
          ],
          [
           "rain"
          ],
          [
           "fog"
          ],
          [
           "sun"
          ],
          [
           "sun"
          ],
          [
           "fog"
          ],
          [
           "fog"
          ],
          [
           "sun"
          ],
          [
           "sun"
          ],
          [
           "rain"
          ],
          [
           "rain"
          ],
          [
           "rain"
          ],
          [
           "rain"
          ],
          [
           "sun"
          ],
          [
           "sun"
          ],
          [
           "sun"
          ],
          [
           "rain"
          ],
          [
           "rain"
          ],
          [
           "sun"
          ],
          [
           "sun"
          ],
          [
           "sun"
          ],
          [
           "sun"
          ],
          [
           "sun"
          ],
          [
           "fog"
          ],
          [
           "rain"
          ],
          [
           "sun"
          ],
          [
           "sun"
          ],
          [
           "sun"
          ],
          [
           "sun"
          ],
          [
           "sun"
          ],
          [
           "rain"
          ],
          [
           "sun"
          ],
          [
           "drizzle"
          ],
          [
           "rain"
          ],
          [
           "rain"
          ],
          [
           "sun"
          ],
          [
           "sun"
          ],
          [
           "sun"
          ],
          [
           "rain"
          ],
          [
           "fog"
          ],
          [
           "drizzle"
          ],
          [
           "sun"
          ],
          [
           "sun"
          ],
          [
           "sun"
          ],
          [
           "sun"
          ],
          [
           "rain"
          ],
          [
           "sun"
          ],
          [
           "sun"
          ],
          [
           "sun"
          ],
          [
           "drizzle"
          ],
          [
           "sun"
          ],
          [
           "sun"
          ],
          [
           "sun"
          ],
          [
           "sun"
          ],
          [
           "rain"
          ],
          [
           "sun"
          ],
          [
           "rain"
          ],
          [
           "sun"
          ],
          [
           "rain"
          ],
          [
           "sun"
          ],
          [
           "fog"
          ],
          [
           "sun"
          ],
          [
           "rain"
          ],
          [
           "rain"
          ],
          [
           "fog"
          ],
          [
           "rain"
          ],
          [
           "rain"
          ],
          [
           "rain"
          ],
          [
           "rain"
          ],
          [
           "sun"
          ],
          [
           "rain"
          ],
          [
           "fog"
          ],
          [
           "rain"
          ],
          [
           "sun"
          ],
          [
           "sun"
          ],
          [
           "rain"
          ],
          [
           "rain"
          ],
          [
           "sun"
          ],
          [
           "sun"
          ],
          [
           "sun"
          ],
          [
           "sun"
          ],
          [
           "sun"
          ],
          [
           "sun"
          ],
          [
           "rain"
          ],
          [
           "drizzle"
          ],
          [
           "rain"
          ],
          [
           "rain"
          ],
          [
           "rain"
          ],
          [
           "rain"
          ],
          [
           "rain"
          ],
          [
           "sun"
          ],
          [
           "rain"
          ],
          [
           "fog"
          ],
          [
           "sun"
          ],
          [
           "rain"
          ],
          [
           "sun"
          ],
          [
           "rain"
          ],
          [
           "sun"
          ],
          [
           "rain"
          ],
          [
           "rain"
          ],
          [
           "sun"
          ],
          [
           "rain"
          ],
          [
           "rain"
          ],
          [
           "sun"
          ],
          [
           "rain"
          ],
          [
           "sun"
          ],
          [
           "rain"
          ],
          [
           "rain"
          ],
          [
           "sun"
          ],
          [
           "rain"
          ],
          [
           "sun"
          ],
          [
           "rain"
          ],
          [
           "sun"
          ],
          [
           "sun"
          ],
          [
           "sun"
          ],
          [
           "fog"
          ],
          [
           "rain"
          ],
          [
           "sun"
          ],
          [
           "rain"
          ],
          [
           "rain"
          ],
          [
           "sun"
          ],
          [
           "rain"
          ],
          [
           "sun"
          ],
          [
           "sun"
          ],
          [
           "rain"
          ],
          [
           "sun"
          ],
          [
           "sun"
          ],
          [
           "rain"
          ],
          [
           "sun"
          ],
          [
           "snow"
          ],
          [
           "rain"
          ],
          [
           "rain"
          ],
          [
           "sun"
          ],
          [
           "sun"
          ],
          [
           "rain"
          ],
          [
           "sun"
          ],
          [
           "rain"
          ],
          [
           "sun"
          ],
          [
           "rain"
          ],
          [
           "rain"
          ],
          [
           "sun"
          ],
          [
           "rain"
          ],
          [
           "sun"
          ],
          [
           "sun"
          ],
          [
           "sun"
          ],
          [
           "fog"
          ],
          [
           "sun"
          ],
          [
           "sun"
          ],
          [
           "drizzle"
          ],
          [
           "fog"
          ],
          [
           "rain"
          ],
          [
           "rain"
          ],
          [
           "sun"
          ],
          [
           "sun"
          ],
          [
           "fog"
          ],
          [
           "drizzle"
          ],
          [
           "rain"
          ],
          [
           "rain"
          ],
          [
           "fog"
          ],
          [
           "sun"
          ],
          [
           "rain"
          ],
          [
           "sun"
          ],
          [
           "rain"
          ],
          [
           "rain"
          ],
          [
           "fog"
          ],
          [
           "fog"
          ],
          [
           "sun"
          ],
          [
           "rain"
          ],
          [
           "rain"
          ],
          [
           "sun"
          ],
          [
           "sun"
          ],
          [
           "snow"
          ],
          [
           "sun"
          ],
          [
           "rain"
          ],
          [
           "sun"
          ],
          [
           "sun"
          ],
          [
           "sun"
          ],
          [
           "rain"
          ],
          [
           "sun"
          ],
          [
           "sun"
          ],
          [
           "sun"
          ],
          [
           "sun"
          ],
          [
           "sun"
          ],
          [
           "sun"
          ],
          [
           "rain"
          ],
          [
           "rain"
          ],
          [
           "snow"
          ],
          [
           "rain"
          ],
          [
           "rain"
          ],
          [
           "rain"
          ],
          [
           "sun"
          ],
          [
           "fog"
          ],
          [
           "sun"
          ],
          [
           "rain"
          ],
          [
           "sun"
          ],
          [
           "sun"
          ],
          [
           "rain"
          ],
          [
           "sun"
          ],
          [
           "sun"
          ],
          [
           "rain"
          ],
          [
           "rain"
          ],
          [
           "sun"
          ],
          [
           "rain"
          ],
          [
           "rain"
          ],
          [
           "rain"
          ],
          [
           "rain"
          ],
          [
           "rain"
          ],
          [
           "rain"
          ],
          [
           "rain"
          ],
          [
           "rain"
          ],
          [
           "rain"
          ],
          [
           "rain"
          ],
          [
           "rain"
          ],
          [
           "rain"
          ],
          [
           "rain"
          ],
          [
           "sun"
          ],
          [
           "rain"
          ],
          [
           "fog"
          ],
          [
           "rain"
          ],
          [
           "rain"
          ],
          [
           "snow"
          ],
          [
           "rain"
          ],
          [
           "rain"
          ],
          [
           "sun"
          ],
          [
           "sun"
          ],
          [
           "drizzle"
          ],
          [
           "rain"
          ],
          [
           "sun"
          ],
          [
           "rain"
          ],
          [
           "rain"
          ],
          [
           "sun"
          ],
          [
           "sun"
          ],
          [
           "rain"
          ],
          [
           "rain"
          ],
          [
           "fog"
          ],
          [
           "rain"
          ],
          [
           "rain"
          ],
          [
           "sun"
          ],
          [
           "sun"
          ],
          [
           "sun"
          ],
          [
           "sun"
          ],
          [
           "sun"
          ],
          [
           "sun"
          ],
          [
           "rain"
          ],
          [
           "rain"
          ],
          [
           "sun"
          ],
          [
           "rain"
          ],
          [
           "rain"
          ],
          [
           "sun"
          ],
          [
           "fog"
          ],
          [
           "sun"
          ],
          [
           "rain"
          ],
          [
           "rain"
          ],
          [
           "sun"
          ],
          [
           "rain"
          ],
          [
           "sun"
          ],
          [
           "rain"
          ],
          [
           "sun"
          ],
          [
           "fog"
          ],
          [
           "rain"
          ],
          [
           "rain"
          ],
          [
           "rain"
          ],
          [
           "sun"
          ],
          [
           "rain"
          ],
          [
           "sun"
          ],
          [
           "drizzle"
          ],
          [
           "sun"
          ],
          [
           "sun"
          ],
          [
           "rain"
          ],
          [
           "sun"
          ],
          [
           "sun"
          ],
          [
           "fog"
          ],
          [
           "drizzle"
          ],
          [
           "sun"
          ],
          [
           "sun"
          ],
          [
           "sun"
          ],
          [
           "fog"
          ],
          [
           "fog"
          ],
          [
           "sun"
          ],
          [
           "sun"
          ],
          [
           "sun"
          ],
          [
           "rain"
          ],
          [
           "sun"
          ],
          [
           "rain"
          ],
          [
           "rain"
          ],
          [
           "rain"
          ],
          [
           "sun"
          ],
          [
           "sun"
          ],
          [
           "rain"
          ],
          [
           "sun"
          ],
          [
           "rain"
          ],
          [
           "sun"
          ],
          [
           "sun"
          ],
          [
           "rain"
          ],
          [
           "fog"
          ],
          [
           "sun"
          ],
          [
           "rain"
          ],
          [
           "fog"
          ],
          [
           "sun"
          ],
          [
           "rain"
          ],
          [
           "rain"
          ],
          [
           "rain"
          ],
          [
           "rain"
          ],
          [
           "rain"
          ],
          [
           "rain"
          ],
          [
           "rain"
          ],
          [
           "sun"
          ],
          [
           "rain"
          ],
          [
           "rain"
          ],
          [
           "rain"
          ],
          [
           "rain"
          ],
          [
           "rain"
          ],
          [
           "rain"
          ],
          [
           "rain"
          ],
          [
           "fog"
          ],
          [
           "sun"
          ],
          [
           "rain"
          ],
          [
           "sun"
          ],
          [
           "rain"
          ],
          [
           "sun"
          ],
          [
           "sun"
          ],
          [
           "rain"
          ],
          [
           "drizzle"
          ],
          [
           "rain"
          ],
          [
           "rain"
          ],
          [
           "rain"
          ],
          [
           "sun"
          ],
          [
           "fog"
          ],
          [
           "rain"
          ],
          [
           "snow"
          ],
          [
           "rain"
          ],
          [
           "rain"
          ],
          [
           "rain"
          ],
          [
           "sun"
          ],
          [
           "sun"
          ],
          [
           "rain"
          ],
          [
           "sun"
          ],
          [
           "sun"
          ],
          [
           "rain"
          ],
          [
           "rain"
          ],
          [
           "sun"
          ],
          [
           "rain"
          ],
          [
           "sun"
          ],
          [
           "sun"
          ],
          [
           "rain"
          ],
          [
           "rain"
          ],
          [
           "rain"
          ],
          [
           "rain"
          ],
          [
           "rain"
          ],
          [
           "sun"
          ],
          [
           "rain"
          ],
          [
           "rain"
          ],
          [
           "sun"
          ],
          [
           "sun"
          ],
          [
           "sun"
          ],
          [
           "rain"
          ],
          [
           "rain"
          ],
          [
           "rain"
          ],
          [
           "rain"
          ],
          [
           "rain"
          ],
          [
           "rain"
          ],
          [
           "sun"
          ],
          [
           "sun"
          ],
          [
           "rain"
          ],
          [
           "rain"
          ],
          [
           "sun"
          ],
          [
           "sun"
          ],
          [
           "sun"
          ],
          [
           "sun"
          ],
          [
           "sun"
          ],
          [
           "sun"
          ],
          [
           "rain"
          ],
          [
           "drizzle"
          ],
          [
           "rain"
          ],
          [
           "sun"
          ],
          [
           "sun"
          ],
          [
           "rain"
          ],
          [
           "fog"
          ],
          [
           "sun"
          ],
          [
           "sun"
          ],
          [
           "rain"
          ],
          [
           "rain"
          ],
          [
           "sun"
          ],
          [
           "rain"
          ],
          [
           "sun"
          ],
          [
           "rain"
          ],
          [
           "sun"
          ],
          [
           "rain"
          ],
          [
           "rain"
          ],
          [
           "sun"
          ],
          [
           "rain"
          ],
          [
           "sun"
          ],
          [
           "rain"
          ],
          [
           "sun"
          ],
          [
           "sun"
          ],
          [
           "sun"
          ],
          [
           "rain"
          ],
          [
           "sun"
          ],
          [
           "sun"
          ],
          [
           "rain"
          ],
          [
           "sun"
          ],
          [
           "sun"
          ],
          [
           "rain"
          ],
          [
           "sun"
          ],
          [
           "sun"
          ],
          [
           "sun"
          ],
          [
           "rain"
          ],
          [
           "sun"
          ],
          [
           "sun"
          ],
          [
           "rain"
          ],
          [
           "sun"
          ],
          [
           "sun"
          ],
          [
           "drizzle"
          ],
          [
           "sun"
          ],
          [
           "rain"
          ],
          [
           "rain"
          ],
          [
           "fog"
          ],
          [
           "rain"
          ],
          [
           "sun"
          ],
          [
           "sun"
          ],
          [
           "rain"
          ],
          [
           "sun"
          ],
          [
           "rain"
          ],
          [
           "sun"
          ],
          [
           "fog"
          ],
          [
           "snow"
          ],
          [
           "sun"
          ],
          [
           "rain"
          ],
          [
           "rain"
          ],
          [
           "rain"
          ],
          [
           "rain"
          ],
          [
           "rain"
          ],
          [
           "fog"
          ],
          [
           "rain"
          ],
          [
           "sun"
          ],
          [
           "sun"
          ],
          [
           "snow"
          ],
          [
           "rain"
          ],
          [
           "sun"
          ],
          [
           "rain"
          ],
          [
           "snow"
          ],
          [
           "sun"
          ],
          [
           "sun"
          ],
          [
           "rain"
          ],
          [
           "rain"
          ],
          [
           "drizzle"
          ],
          [
           "sun"
          ],
          [
           "rain"
          ],
          [
           "sun"
          ],
          [
           "sun"
          ],
          [
           "rain"
          ],
          [
           "rain"
          ],
          [
           "sun"
          ],
          [
           "fog"
          ],
          [
           "sun"
          ],
          [
           "sun"
          ],
          [
           "rain"
          ],
          [
           "rain"
          ],
          [
           "sun"
          ],
          [
           "rain"
          ],
          [
           "fog"
          ],
          [
           "sun"
          ],
          [
           "sun"
          ],
          [
           "sun"
          ],
          [
           "sun"
          ],
          [
           "snow"
          ],
          [
           "rain"
          ],
          [
           "sun"
          ],
          [
           "sun"
          ],
          [
           "sun"
          ],
          [
           "sun"
          ],
          [
           "sun"
          ],
          [
           "sun"
          ],
          [
           "fog"
          ],
          [
           "rain"
          ],
          [
           "sun"
          ],
          [
           "rain"
          ],
          [
           "rain"
          ],
          [
           "drizzle"
          ],
          [
           "fog"
          ],
          [
           "rain"
          ],
          [
           "rain"
          ],
          [
           "rain"
          ],
          [
           "rain"
          ],
          [
           "sun"
          ],
          [
           "rain"
          ],
          [
           "rain"
          ],
          [
           "rain"
          ],
          [
           "fog"
          ],
          [
           "sun"
          ],
          [
           "rain"
          ],
          [
           "sun"
          ],
          [
           "rain"
          ],
          [
           "rain"
          ],
          [
           "sun"
          ],
          [
           "rain"
          ],
          [
           "rain"
          ],
          [
           "rain"
          ],
          [
           "rain"
          ],
          [
           "sun"
          ],
          [
           "rain"
          ],
          [
           "rain"
          ],
          [
           "fog"
          ],
          [
           "sun"
          ],
          [
           "rain"
          ],
          [
           "sun"
          ],
          [
           "rain"
          ],
          [
           "rain"
          ],
          [
           "rain"
          ],
          [
           "drizzle"
          ],
          [
           "rain"
          ],
          [
           "sun"
          ],
          [
           "fog"
          ],
          [
           "fog"
          ],
          [
           "rain"
          ],
          [
           "fog"
          ],
          [
           "rain"
          ],
          [
           "rain"
          ],
          [
           "sun"
          ],
          [
           "rain"
          ],
          [
           "fog"
          ],
          [
           "sun"
          ],
          [
           "sun"
          ],
          [
           "rain"
          ],
          [
           "rain"
          ],
          [
           "sun"
          ],
          [
           "fog"
          ],
          [
           "sun"
          ],
          [
           "rain"
          ],
          [
           "fog"
          ],
          [
           "sun"
          ],
          [
           "sun"
          ],
          [
           "drizzle"
          ],
          [
           "snow"
          ],
          [
           "rain"
          ],
          [
           "sun"
          ],
          [
           "rain"
          ],
          [
           "rain"
          ],
          [
           "sun"
          ],
          [
           "rain"
          ],
          [
           "rain"
          ],
          [
           "sun"
          ],
          [
           "rain"
          ],
          [
           "rain"
          ],
          [
           "fog"
          ],
          [
           "rain"
          ],
          [
           "sun"
          ],
          [
           "sun"
          ],
          [
           "fog"
          ],
          [
           "fog"
          ],
          [
           "sun"
          ],
          [
           "rain"
          ],
          [
           "rain"
          ],
          [
           "rain"
          ],
          [
           "rain"
          ],
          [
           "rain"
          ],
          [
           "rain"
          ],
          [
           "sun"
          ],
          [
           "fog"
          ],
          [
           "rain"
          ],
          [
           "sun"
          ],
          [
           "sun"
          ],
          [
           "rain"
          ],
          [
           "fog"
          ],
          [
           "rain"
          ],
          [
           "fog"
          ],
          [
           "rain"
          ],
          [
           "sun"
          ],
          [
           "sun"
          ],
          [
           "rain"
          ],
          [
           "sun"
          ],
          [
           "rain"
          ],
          [
           "sun"
          ],
          [
           "rain"
          ],
          [
           "sun"
          ],
          [
           "snow"
          ],
          [
           "fog"
          ],
          [
           "rain"
          ],
          [
           "sun"
          ],
          [
           "fog"
          ],
          [
           "sun"
          ],
          [
           "rain"
          ],
          [
           "sun"
          ],
          [
           "sun"
          ],
          [
           "drizzle"
          ],
          [
           "sun"
          ],
          [
           "rain"
          ],
          [
           "rain"
          ],
          [
           "rain"
          ],
          [
           "drizzle"
          ],
          [
           "rain"
          ],
          [
           "drizzle"
          ],
          [
           "rain"
          ],
          [
           "rain"
          ],
          [
           "fog"
          ],
          [
           "sun"
          ],
          [
           "rain"
          ],
          [
           "drizzle"
          ],
          [
           "sun"
          ],
          [
           "fog"
          ],
          [
           "rain"
          ],
          [
           "rain"
          ],
          [
           "sun"
          ],
          [
           "rain"
          ],
          [
           "sun"
          ],
          [
           "fog"
          ],
          [
           "sun"
          ],
          [
           "rain"
          ],
          [
           "sun"
          ],
          [
           "sun"
          ],
          [
           "sun"
          ],
          [
           "rain"
          ],
          [
           "sun"
          ],
          [
           "sun"
          ],
          [
           "rain"
          ],
          [
           "rain"
          ],
          [
           "snow"
          ],
          [
           "sun"
          ],
          [
           "sun"
          ],
          [
           "rain"
          ],
          [
           "sun"
          ],
          [
           "sun"
          ],
          [
           "sun"
          ],
          [
           "rain"
          ],
          [
           "rain"
          ],
          [
           "rain"
          ],
          [
           "sun"
          ],
          [
           "snow"
          ],
          [
           "sun"
          ],
          [
           "sun"
          ],
          [
           "rain"
          ],
          [
           "rain"
          ],
          [
           "sun"
          ],
          [
           "sun"
          ],
          [
           "fog"
          ],
          [
           "rain"
          ],
          [
           "sun"
          ],
          [
           "sun"
          ],
          [
           "rain"
          ],
          [
           "sun"
          ],
          [
           "fog"
          ],
          [
           "rain"
          ],
          [
           "sun"
          ],
          [
           "rain"
          ],
          [
           "rain"
          ],
          [
           "rain"
          ],
          [
           "rain"
          ],
          [
           "sun"
          ],
          [
           "sun"
          ],
          [
           "snow"
          ],
          [
           "snow"
          ],
          [
           "sun"
          ],
          [
           "rain"
          ],
          [
           "rain"
          ],
          [
           "sun"
          ],
          [
           "rain"
          ],
          [
           "sun"
          ],
          [
           "sun"
          ],
          [
           "rain"
          ],
          [
           "rain"
          ],
          [
           "rain"
          ],
          [
           "rain"
          ],
          [
           "sun"
          ],
          [
           "sun"
          ],
          [
           "sun"
          ],
          [
           "sun"
          ],
          [
           "rain"
          ],
          [
           "rain"
          ],
          [
           "fog"
          ],
          [
           "rain"
          ],
          [
           "sun"
          ],
          [
           "rain"
          ],
          [
           "sun"
          ],
          [
           "sun"
          ],
          [
           "rain"
          ],
          [
           "drizzle"
          ],
          [
           "fog"
          ],
          [
           "sun"
          ],
          [
           "sun"
          ],
          [
           "rain"
          ],
          [
           "rain"
          ],
          [
           "sun"
          ],
          [
           "sun"
          ],
          [
           "sun"
          ],
          [
           "sun"
          ],
          [
           "rain"
          ],
          [
           "sun"
          ],
          [
           "sun"
          ],
          [
           "rain"
          ],
          [
           "rain"
          ],
          [
           "drizzle"
          ],
          [
           "fog"
          ],
          [
           "rain"
          ],
          [
           "sun"
          ],
          [
           "rain"
          ],
          [
           "snow"
          ],
          [
           "sun"
          ],
          [
           "rain"
          ],
          [
           "rain"
          ],
          [
           "sun"
          ],
          [
           "rain"
          ],
          [
           "sun"
          ],
          [
           "sun"
          ],
          [
           "fog"
          ],
          [
           "rain"
          ],
          [
           "sun"
          ],
          [
           "sun"
          ],
          [
           "rain"
          ],
          [
           "rain"
          ],
          [
           "fog"
          ],
          [
           "sun"
          ],
          [
           "rain"
          ],
          [
           "rain"
          ],
          [
           "sun"
          ],
          [
           "sun"
          ],
          [
           "sun"
          ],
          [
           "sun"
          ],
          [
           "sun"
          ],
          [
           "rain"
          ],
          [
           "rain"
          ],
          [
           "rain"
          ],
          [
           "rain"
          ],
          [
           "drizzle"
          ],
          [
           "sun"
          ],
          [
           "sun"
          ],
          [
           "rain"
          ],
          [
           "rain"
          ],
          [
           "rain"
          ],
          [
           "sun"
          ],
          [
           "rain"
          ],
          [
           "rain"
          ],
          [
           "rain"
          ],
          [
           "rain"
          ],
          [
           "sun"
          ],
          [
           "rain"
          ],
          [
           "sun"
          ],
          [
           "sun"
          ],
          [
           "rain"
          ],
          [
           "fog"
          ],
          [
           "sun"
          ],
          [
           "sun"
          ],
          [
           "rain"
          ],
          [
           "sun"
          ],
          [
           "drizzle"
          ],
          [
           "rain"
          ],
          [
           "fog"
          ],
          [
           "sun"
          ],
          [
           "sun"
          ],
          [
           "sun"
          ],
          [
           "drizzle"
          ],
          [
           "rain"
          ],
          [
           "sun"
          ],
          [
           "sun"
          ],
          [
           "sun"
          ],
          [
           "sun"
          ],
          [
           "rain"
          ],
          [
           "rain"
          ],
          [
           "sun"
          ],
          [
           "drizzle"
          ],
          [
           "sun"
          ],
          [
           "drizzle"
          ],
          [
           "rain"
          ],
          [
           "rain"
          ],
          [
           "drizzle"
          ],
          [
           "rain"
          ],
          [
           "drizzle"
          ],
          [
           "sun"
          ],
          [
           "rain"
          ],
          [
           "sun"
          ],
          [
           "sun"
          ],
          [
           "snow"
          ],
          [
           "snow"
          ],
          [
           "rain"
          ],
          [
           "sun"
          ],
          [
           "rain"
          ],
          [
           "rain"
          ],
          [
           "sun"
          ],
          [
           "sun"
          ],
          [
           "sun"
          ],
          [
           "rain"
          ],
          [
           "rain"
          ],
          [
           "rain"
          ],
          [
           "rain"
          ],
          [
           "sun"
          ],
          [
           "drizzle"
          ],
          [
           "sun"
          ],
          [
           "drizzle"
          ],
          [
           "sun"
          ],
          [
           "rain"
          ],
          [
           "sun"
          ],
          [
           "sun"
          ],
          [
           "sun"
          ],
          [
           "sun"
          ],
          [
           "rain"
          ],
          [
           "rain"
          ],
          [
           "sun"
          ],
          [
           "drizzle"
          ],
          [
           "rain"
          ],
          [
           "sun"
          ],
          [
           "sun"
          ],
          [
           "rain"
          ],
          [
           "sun"
          ],
          [
           "rain"
          ],
          [
           "sun"
          ],
          [
           "sun"
          ],
          [
           "sun"
          ],
          [
           "rain"
          ],
          [
           "sun"
          ],
          [
           "rain"
          ],
          [
           "sun"
          ],
          [
           "rain"
          ],
          [
           "rain"
          ],
          [
           "sun"
          ],
          [
           "rain"
          ],
          [
           "rain"
          ],
          [
           "rain"
          ],
          [
           "sun"
          ],
          [
           "sun"
          ],
          [
           "sun"
          ],
          [
           "sun"
          ],
          [
           "sun"
          ],
          [
           "rain"
          ],
          [
           "rain"
          ],
          [
           "rain"
          ],
          [
           "rain"
          ],
          [
           "rain"
          ],
          [
           "sun"
          ],
          [
           "rain"
          ],
          [
           "sun"
          ],
          [
           "sun"
          ],
          [
           "sun"
          ],
          [
           "sun"
          ],
          [
           "rain"
          ],
          [
           "rain"
          ],
          [
           "rain"
          ],
          [
           "sun"
          ],
          [
           "sun"
          ],
          [
           "rain"
          ],
          [
           "sun"
          ],
          [
           "rain"
          ],
          [
           "rain"
          ],
          [
           "sun"
          ],
          [
           "rain"
          ],
          [
           "sun"
          ],
          [
           "sun"
          ],
          [
           "sun"
          ],
          [
           "sun"
          ],
          [
           "sun"
          ],
          [
           "sun"
          ],
          [
           "sun"
          ],
          [
           "rain"
          ],
          [
           "rain"
          ],
          [
           "rain"
          ],
          [
           "rain"
          ],
          [
           "sun"
          ],
          [
           "rain"
          ],
          [
           "sun"
          ],
          [
           "drizzle"
          ],
          [
           "rain"
          ],
          [
           "rain"
          ],
          [
           "rain"
          ],
          [
           "rain"
          ],
          [
           "sun"
          ],
          [
           "rain"
          ],
          [
           "rain"
          ],
          [
           "sun"
          ],
          [
           "rain"
          ],
          [
           "rain"
          ],
          [
           "sun"
          ],
          [
           "rain"
          ],
          [
           "fog"
          ],
          [
           "sun"
          ],
          [
           "fog"
          ],
          [
           "rain"
          ],
          [
           "sun"
          ],
          [
           "rain"
          ],
          [
           "rain"
          ],
          [
           "sun"
          ],
          [
           "sun"
          ],
          [
           "rain"
          ],
          [
           "rain"
          ],
          [
           "sun"
          ],
          [
           "rain"
          ],
          [
           "rain"
          ],
          [
           "sun"
          ],
          [
           "sun"
          ],
          [
           "fog"
          ],
          [
           "sun"
          ],
          [
           "rain"
          ],
          [
           "rain"
          ],
          [
           "sun"
          ],
          [
           "rain"
          ],
          [
           "rain"
          ],
          [
           "rain"
          ],
          [
           "fog"
          ],
          [
           "sun"
          ],
          [
           "rain"
          ],
          [
           "sun"
          ],
          [
           "rain"
          ],
          [
           "sun"
          ],
          [
           "rain"
          ],
          [
           "drizzle"
          ],
          [
           "rain"
          ],
          [
           "rain"
          ],
          [
           "sun"
          ],
          [
           "rain"
          ],
          [
           "sun"
          ],
          [
           "rain"
          ],
          [
           "rain"
          ],
          [
           "rain"
          ],
          [
           "sun"
          ],
          [
           "rain"
          ]
         ],
         "domain": {
          "x": [
           0,
           1
          ],
          "y": [
           0,
           1
          ]
         },
         "hovertemplate": "weather=%{customdata[0]}<extra></extra>",
         "labels": [
          "drizzle",
          "rain",
          "sun",
          "rain",
          "sun",
          "rain",
          "rain",
          "rain",
          "fog",
          "rain",
          "rain",
          "rain",
          "rain",
          "sun",
          "sun",
          "rain",
          "sun",
          "sun",
          "fog",
          "rain",
          "sun",
          "sun",
          "sun",
          "rain",
          "fog",
          "sun",
          "sun",
          "rain",
          "sun",
          "drizzle",
          "snow",
          "drizzle",
          "sun",
          "sun",
          "sun",
          "sun",
          "rain",
          "rain",
          "sun",
          "sun",
          "rain",
          "sun",
          "sun",
          "drizzle",
          "rain",
          "rain",
          "sun",
          "sun",
          "rain",
          "rain",
          "rain",
          "rain",
          "rain",
          "rain",
          "sun",
          "sun",
          "rain",
          "rain",
          "rain",
          "sun",
          "sun",
          "sun",
          "rain",
          "rain",
          "rain",
          "sun",
          "rain",
          "sun",
          "fog",
          "rain",
          "rain",
          "sun",
          "sun",
          "sun",
          "rain",
          "sun",
          "rain",
          "sun",
          "sun",
          "rain",
          "rain",
          "snow",
          "fog",
          "sun",
          "sun",
          "rain",
          "sun",
          "rain",
          "sun",
          "sun",
          "sun",
          "rain",
          "sun",
          "sun",
          "rain",
          "sun",
          "sun",
          "sun",
          "rain",
          "rain",
          "rain",
          "rain",
          "sun",
          "sun",
          "sun",
          "sun",
          "rain",
          "rain",
          "snow",
          "sun",
          "rain",
          "sun",
          "sun",
          "rain",
          "drizzle",
          "sun",
          "rain",
          "sun",
          "rain",
          "rain",
          "sun",
          "rain",
          "rain",
          "drizzle",
          "rain",
          "rain",
          "sun",
          "rain",
          "rain",
          "rain",
          "sun",
          "rain",
          "rain",
          "sun",
          "sun",
          "sun",
          "sun",
          "sun",
          "rain",
          "sun",
          "rain",
          "rain",
          "rain",
          "rain",
          "sun",
          "rain",
          "drizzle",
          "sun",
          "sun",
          "fog",
          "rain",
          "sun",
          "rain",
          "sun",
          "rain",
          "rain",
          "rain",
          "sun",
          "rain",
          "fog",
          "rain",
          "rain",
          "rain",
          "sun",
          "rain",
          "sun",
          "sun",
          "rain",
          "rain",
          "sun",
          "sun",
          "rain",
          "sun",
          "rain",
          "sun",
          "sun",
          "rain",
          "rain",
          "sun",
          "rain",
          "rain",
          "rain",
          "sun",
          "rain",
          "sun",
          "rain",
          "fog",
          "sun",
          "sun",
          "sun",
          "sun",
          "sun",
          "sun",
          "sun",
          "rain",
          "rain",
          "sun",
          "sun",
          "sun",
          "sun",
          "snow",
          "drizzle",
          "rain",
          "sun",
          "rain",
          "rain",
          "sun",
          "fog",
          "sun",
          "rain",
          "sun",
          "rain",
          "sun",
          "sun",
          "rain",
          "rain",
          "fog",
          "sun",
          "rain",
          "rain",
          "rain",
          "sun",
          "rain",
          "sun",
          "sun",
          "drizzle",
          "sun",
          "rain",
          "rain",
          "sun",
          "rain",
          "rain",
          "sun",
          "rain",
          "sun",
          "rain",
          "sun",
          "sun",
          "sun",
          "sun",
          "sun",
          "sun",
          "sun",
          "sun",
          "rain",
          "drizzle",
          "sun",
          "rain",
          "sun",
          "sun",
          "rain",
          "sun",
          "rain",
          "sun",
          "fog",
          "sun",
          "rain",
          "rain",
          "rain",
          "rain",
          "rain",
          "rain",
          "sun",
          "fog",
          "rain",
          "rain",
          "rain",
          "drizzle",
          "rain",
          "sun",
          "sun",
          "drizzle",
          "sun",
          "sun",
          "rain",
          "rain",
          "rain",
          "drizzle",
          "sun",
          "rain",
          "rain",
          "rain",
          "rain",
          "drizzle",
          "snow",
          "rain",
          "rain",
          "sun",
          "drizzle",
          "sun",
          "sun",
          "rain",
          "rain",
          "sun",
          "sun",
          "sun",
          "sun",
          "rain",
          "rain",
          "sun",
          "rain",
          "rain",
          "sun",
          "fog",
          "rain",
          "sun",
          "rain",
          "sun",
          "sun",
          "sun",
          "rain",
          "rain",
          "sun",
          "rain",
          "rain",
          "sun",
          "rain",
          "rain",
          "fog",
          "rain",
          "sun",
          "sun",
          "sun",
          "rain",
          "sun",
          "fog",
          "rain",
          "rain",
          "rain",
          "sun",
          "sun",
          "rain",
          "sun",
          "rain",
          "rain",
          "sun",
          "rain",
          "rain",
          "rain",
          "rain",
          "sun",
          "sun",
          "sun",
          "rain",
          "rain",
          "rain",
          "rain",
          "drizzle",
          "sun",
          "rain",
          "fog",
          "rain",
          "rain",
          "rain",
          "drizzle",
          "rain",
          "sun",
          "rain",
          "sun",
          "fog",
          "rain",
          "sun",
          "rain",
          "rain",
          "sun",
          "sun",
          "sun",
          "sun",
          "rain",
          "rain",
          "rain",
          "rain",
          "fog",
          "sun",
          "rain",
          "rain",
          "sun",
          "sun",
          "rain",
          "sun",
          "rain",
          "rain",
          "sun",
          "rain",
          "rain",
          "sun",
          "sun",
          "sun",
          "rain",
          "rain",
          "sun",
          "sun",
          "drizzle",
          "sun",
          "rain",
          "sun",
          "rain",
          "sun",
          "sun",
          "sun",
          "sun",
          "rain",
          "sun",
          "sun",
          "fog",
          "sun",
          "rain",
          "rain",
          "fog",
          "sun",
          "rain",
          "sun",
          "rain",
          "sun",
          "sun",
          "sun",
          "rain",
          "rain",
          "rain",
          "rain",
          "sun",
          "rain",
          "rain",
          "sun",
          "sun",
          "sun",
          "sun",
          "sun",
          "sun",
          "sun",
          "fog",
          "sun",
          "rain",
          "sun",
          "rain",
          "sun",
          "sun",
          "rain",
          "rain",
          "fog",
          "fog",
          "rain",
          "fog",
          "rain",
          "rain",
          "sun",
          "rain",
          "sun",
          "sun",
          "sun",
          "rain",
          "drizzle",
          "sun",
          "sun",
          "rain",
          "rain",
          "sun",
          "fog",
          "sun",
          "rain",
          "rain",
          "fog",
          "sun",
          "rain",
          "sun",
          "snow",
          "sun",
          "rain",
          "rain",
          "sun",
          "sun",
          "sun",
          "sun",
          "rain",
          "sun",
          "sun",
          "sun",
          "sun",
          "rain",
          "rain",
          "sun",
          "sun",
          "sun",
          "sun",
          "sun",
          "sun",
          "sun",
          "fog",
          "rain",
          "rain",
          "rain",
          "rain",
          "sun",
          "sun",
          "snow",
          "sun",
          "rain",
          "rain",
          "sun",
          "rain",
          "rain",
          "sun",
          "sun",
          "sun",
          "sun",
          "sun",
          "rain",
          "sun",
          "rain",
          "fog",
          "sun",
          "rain",
          "sun",
          "fog",
          "rain",
          "sun",
          "sun",
          "rain",
          "sun",
          "sun",
          "rain",
          "fog",
          "sun",
          "sun",
          "rain",
          "sun",
          "fog",
          "sun",
          "sun",
          "rain",
          "rain",
          "rain",
          "sun",
          "rain",
          "sun",
          "rain",
          "snow",
          "sun",
          "fog",
          "sun",
          "sun",
          "rain",
          "sun",
          "rain",
          "sun",
          "sun",
          "rain",
          "rain",
          "sun",
          "fog",
          "rain",
          "fog",
          "sun",
          "sun",
          "fog",
          "fog",
          "sun",
          "sun",
          "rain",
          "rain",
          "rain",
          "rain",
          "sun",
          "sun",
          "sun",
          "rain",
          "rain",
          "sun",
          "sun",
          "sun",
          "sun",
          "sun",
          "fog",
          "rain",
          "sun",
          "sun",
          "sun",
          "sun",
          "sun",
          "rain",
          "sun",
          "drizzle",
          "rain",
          "rain",
          "sun",
          "sun",
          "sun",
          "rain",
          "fog",
          "drizzle",
          "sun",
          "sun",
          "sun",
          "sun",
          "rain",
          "sun",
          "sun",
          "sun",
          "drizzle",
          "sun",
          "sun",
          "sun",
          "sun",
          "rain",
          "sun",
          "rain",
          "sun",
          "rain",
          "sun",
          "fog",
          "sun",
          "rain",
          "rain",
          "fog",
          "rain",
          "rain",
          "rain",
          "rain",
          "sun",
          "rain",
          "fog",
          "rain",
          "sun",
          "sun",
          "rain",
          "rain",
          "sun",
          "sun",
          "sun",
          "sun",
          "sun",
          "sun",
          "rain",
          "drizzle",
          "rain",
          "rain",
          "rain",
          "rain",
          "rain",
          "sun",
          "rain",
          "fog",
          "sun",
          "rain",
          "sun",
          "rain",
          "sun",
          "rain",
          "rain",
          "sun",
          "rain",
          "rain",
          "sun",
          "rain",
          "sun",
          "rain",
          "rain",
          "sun",
          "rain",
          "sun",
          "rain",
          "sun",
          "sun",
          "sun",
          "fog",
          "rain",
          "sun",
          "rain",
          "rain",
          "sun",
          "rain",
          "sun",
          "sun",
          "rain",
          "sun",
          "sun",
          "rain",
          "sun",
          "snow",
          "rain",
          "rain",
          "sun",
          "sun",
          "rain",
          "sun",
          "rain",
          "sun",
          "rain",
          "rain",
          "sun",
          "rain",
          "sun",
          "sun",
          "sun",
          "fog",
          "sun",
          "sun",
          "drizzle",
          "fog",
          "rain",
          "rain",
          "sun",
          "sun",
          "fog",
          "drizzle",
          "rain",
          "rain",
          "fog",
          "sun",
          "rain",
          "sun",
          "rain",
          "rain",
          "fog",
          "fog",
          "sun",
          "rain",
          "rain",
          "sun",
          "sun",
          "snow",
          "sun",
          "rain",
          "sun",
          "sun",
          "sun",
          "rain",
          "sun",
          "sun",
          "sun",
          "sun",
          "sun",
          "sun",
          "rain",
          "rain",
          "snow",
          "rain",
          "rain",
          "rain",
          "sun",
          "fog",
          "sun",
          "rain",
          "sun",
          "sun",
          "rain",
          "sun",
          "sun",
          "rain",
          "rain",
          "sun",
          "rain",
          "rain",
          "rain",
          "rain",
          "rain",
          "rain",
          "rain",
          "rain",
          "rain",
          "rain",
          "rain",
          "rain",
          "rain",
          "sun",
          "rain",
          "fog",
          "rain",
          "rain",
          "snow",
          "rain",
          "rain",
          "sun",
          "sun",
          "drizzle",
          "rain",
          "sun",
          "rain",
          "rain",
          "sun",
          "sun",
          "rain",
          "rain",
          "fog",
          "rain",
          "rain",
          "sun",
          "sun",
          "sun",
          "sun",
          "sun",
          "sun",
          "rain",
          "rain",
          "sun",
          "rain",
          "rain",
          "sun",
          "fog",
          "sun",
          "rain",
          "rain",
          "sun",
          "rain",
          "sun",
          "rain",
          "sun",
          "fog",
          "rain",
          "rain",
          "rain",
          "sun",
          "rain",
          "sun",
          "drizzle",
          "sun",
          "sun",
          "rain",
          "sun",
          "sun",
          "fog",
          "drizzle",
          "sun",
          "sun",
          "sun",
          "fog",
          "fog",
          "sun",
          "sun",
          "sun",
          "rain",
          "sun",
          "rain",
          "rain",
          "rain",
          "sun",
          "sun",
          "rain",
          "sun",
          "rain",
          "sun",
          "sun",
          "rain",
          "fog",
          "sun",
          "rain",
          "fog",
          "sun",
          "rain",
          "rain",
          "rain",
          "rain",
          "rain",
          "rain",
          "rain",
          "sun",
          "rain",
          "rain",
          "rain",
          "rain",
          "rain",
          "rain",
          "rain",
          "fog",
          "sun",
          "rain",
          "sun",
          "rain",
          "sun",
          "sun",
          "rain",
          "drizzle",
          "rain",
          "rain",
          "rain",
          "sun",
          "fog",
          "rain",
          "snow",
          "rain",
          "rain",
          "rain",
          "sun",
          "sun",
          "rain",
          "sun",
          "sun",
          "rain",
          "rain",
          "sun",
          "rain",
          "sun",
          "sun",
          "rain",
          "rain",
          "rain",
          "rain",
          "rain",
          "sun",
          "rain",
          "rain",
          "sun",
          "sun",
          "sun",
          "rain",
          "rain",
          "rain",
          "rain",
          "rain",
          "rain",
          "sun",
          "sun",
          "rain",
          "rain",
          "sun",
          "sun",
          "sun",
          "sun",
          "sun",
          "sun",
          "rain",
          "drizzle",
          "rain",
          "sun",
          "sun",
          "rain",
          "fog",
          "sun",
          "sun",
          "rain",
          "rain",
          "sun",
          "rain",
          "sun",
          "rain",
          "sun",
          "rain",
          "rain",
          "sun",
          "rain",
          "sun",
          "rain",
          "sun",
          "sun",
          "sun",
          "rain",
          "sun",
          "sun",
          "rain",
          "sun",
          "sun",
          "rain",
          "sun",
          "sun",
          "sun",
          "rain",
          "sun",
          "sun",
          "rain",
          "sun",
          "sun",
          "drizzle",
          "sun",
          "rain",
          "rain",
          "fog",
          "rain",
          "sun",
          "sun",
          "rain",
          "sun",
          "rain",
          "sun",
          "fog",
          "snow",
          "sun",
          "rain",
          "rain",
          "rain",
          "rain",
          "rain",
          "fog",
          "rain",
          "sun",
          "sun",
          "snow",
          "rain",
          "sun",
          "rain",
          "snow",
          "sun",
          "sun",
          "rain",
          "rain",
          "drizzle",
          "sun",
          "rain",
          "sun",
          "sun",
          "rain",
          "rain",
          "sun",
          "fog",
          "sun",
          "sun",
          "rain",
          "rain",
          "sun",
          "rain",
          "fog",
          "sun",
          "sun",
          "sun",
          "sun",
          "snow",
          "rain",
          "sun",
          "sun",
          "sun",
          "sun",
          "sun",
          "sun",
          "fog",
          "rain",
          "sun",
          "rain",
          "rain",
          "drizzle",
          "fog",
          "rain",
          "rain",
          "rain",
          "rain",
          "sun",
          "rain",
          "rain",
          "rain",
          "fog",
          "sun",
          "rain",
          "sun",
          "rain",
          "rain",
          "sun",
          "rain",
          "rain",
          "rain",
          "rain",
          "sun",
          "rain",
          "rain",
          "fog",
          "sun",
          "rain",
          "sun",
          "rain",
          "rain",
          "rain",
          "drizzle",
          "rain",
          "sun",
          "fog",
          "fog",
          "rain",
          "fog",
          "rain",
          "rain",
          "sun",
          "rain",
          "fog",
          "sun",
          "sun",
          "rain",
          "rain",
          "sun",
          "fog",
          "sun",
          "rain",
          "fog",
          "sun",
          "sun",
          "drizzle",
          "snow",
          "rain",
          "sun",
          "rain",
          "rain",
          "sun",
          "rain",
          "rain",
          "sun",
          "rain",
          "rain",
          "fog",
          "rain",
          "sun",
          "sun",
          "fog",
          "fog",
          "sun",
          "rain",
          "rain",
          "rain",
          "rain",
          "rain",
          "rain",
          "sun",
          "fog",
          "rain",
          "sun",
          "sun",
          "rain",
          "fog",
          "rain",
          "fog",
          "rain",
          "sun",
          "sun",
          "rain",
          "sun",
          "rain",
          "sun",
          "rain",
          "sun",
          "snow",
          "fog",
          "rain",
          "sun",
          "fog",
          "sun",
          "rain",
          "sun",
          "sun",
          "drizzle",
          "sun",
          "rain",
          "rain",
          "rain",
          "drizzle",
          "rain",
          "drizzle",
          "rain",
          "rain",
          "fog",
          "sun",
          "rain",
          "drizzle",
          "sun",
          "fog",
          "rain",
          "rain",
          "sun",
          "rain",
          "sun",
          "fog",
          "sun",
          "rain",
          "sun",
          "sun",
          "sun",
          "rain",
          "sun",
          "sun",
          "rain",
          "rain",
          "snow",
          "sun",
          "sun",
          "rain",
          "sun",
          "sun",
          "sun",
          "rain",
          "rain",
          "rain",
          "sun",
          "snow",
          "sun",
          "sun",
          "rain",
          "rain",
          "sun",
          "sun",
          "fog",
          "rain",
          "sun",
          "sun",
          "rain",
          "sun",
          "fog",
          "rain",
          "sun",
          "rain",
          "rain",
          "rain",
          "rain",
          "sun",
          "sun",
          "snow",
          "snow",
          "sun",
          "rain",
          "rain",
          "sun",
          "rain",
          "sun",
          "sun",
          "rain",
          "rain",
          "rain",
          "rain",
          "sun",
          "sun",
          "sun",
          "sun",
          "rain",
          "rain",
          "fog",
          "rain",
          "sun",
          "rain",
          "sun",
          "sun",
          "rain",
          "drizzle",
          "fog",
          "sun",
          "sun",
          "rain",
          "rain",
          "sun",
          "sun",
          "sun",
          "sun",
          "rain",
          "sun",
          "sun",
          "rain",
          "rain",
          "drizzle",
          "fog",
          "rain",
          "sun",
          "rain",
          "snow",
          "sun",
          "rain",
          "rain",
          "sun",
          "rain",
          "sun",
          "sun",
          "fog",
          "rain",
          "sun",
          "sun",
          "rain",
          "rain",
          "fog",
          "sun",
          "rain",
          "rain",
          "sun",
          "sun",
          "sun",
          "sun",
          "sun",
          "rain",
          "rain",
          "rain",
          "rain",
          "drizzle",
          "sun",
          "sun",
          "rain",
          "rain",
          "rain",
          "sun",
          "rain",
          "rain",
          "rain",
          "rain",
          "sun",
          "rain",
          "sun",
          "sun",
          "rain",
          "fog",
          "sun",
          "sun",
          "rain",
          "sun",
          "drizzle",
          "rain",
          "fog",
          "sun",
          "sun",
          "sun",
          "drizzle",
          "rain",
          "sun",
          "sun",
          "sun",
          "sun",
          "rain",
          "rain",
          "sun",
          "drizzle",
          "sun",
          "drizzle",
          "rain",
          "rain",
          "drizzle",
          "rain",
          "drizzle",
          "sun",
          "rain",
          "sun",
          "sun",
          "snow",
          "snow",
          "rain",
          "sun",
          "rain",
          "rain",
          "sun",
          "sun",
          "sun",
          "rain",
          "rain",
          "rain",
          "rain",
          "sun",
          "drizzle",
          "sun",
          "drizzle",
          "sun",
          "rain",
          "sun",
          "sun",
          "sun",
          "sun",
          "rain",
          "rain",
          "sun",
          "drizzle",
          "rain",
          "sun",
          "sun",
          "rain",
          "sun",
          "rain",
          "sun",
          "sun",
          "sun",
          "rain",
          "sun",
          "rain",
          "sun",
          "rain",
          "rain",
          "sun",
          "rain",
          "rain",
          "rain",
          "sun",
          "sun",
          "sun",
          "sun",
          "sun",
          "rain",
          "rain",
          "rain",
          "rain",
          "rain",
          "sun",
          "rain",
          "sun",
          "sun",
          "sun",
          "sun",
          "rain",
          "rain",
          "rain",
          "sun",
          "sun",
          "rain",
          "sun",
          "rain",
          "rain",
          "sun",
          "rain",
          "sun",
          "sun",
          "sun",
          "sun",
          "sun",
          "sun",
          "sun",
          "rain",
          "rain",
          "rain",
          "rain",
          "sun",
          "rain",
          "sun",
          "drizzle",
          "rain",
          "rain",
          "rain",
          "rain",
          "sun",
          "rain",
          "rain",
          "sun",
          "rain",
          "rain",
          "sun",
          "rain",
          "fog",
          "sun",
          "fog",
          "rain",
          "sun",
          "rain",
          "rain",
          "sun",
          "sun",
          "rain",
          "rain",
          "sun",
          "rain",
          "rain",
          "sun",
          "sun",
          "fog",
          "sun",
          "rain",
          "rain",
          "sun",
          "rain",
          "rain",
          "rain",
          "fog",
          "sun",
          "rain",
          "sun",
          "rain",
          "sun",
          "rain",
          "drizzle",
          "rain",
          "rain",
          "sun",
          "rain",
          "sun",
          "rain",
          "rain",
          "rain",
          "sun",
          "rain"
         ],
         "legendgroup": "",
         "marker": {
          "colors": [
           "#636efa",
           "#EF553B",
           "#00cc96",
           "#EF553B",
           "#00cc96",
           "#EF553B",
           "#EF553B",
           "#EF553B",
           "#ab63fa",
           "#EF553B",
           "#EF553B",
           "#EF553B",
           "#EF553B",
           "#00cc96",
           "#00cc96",
           "#EF553B",
           "#00cc96",
           "#00cc96",
           "#ab63fa",
           "#EF553B",
           "#00cc96",
           "#00cc96",
           "#00cc96",
           "#EF553B",
           "#ab63fa",
           "#00cc96",
           "#00cc96",
           "#EF553B",
           "#00cc96",
           "#636efa",
           "#FFA15A",
           "#636efa",
           "#00cc96",
           "#00cc96",
           "#00cc96",
           "#00cc96",
           "#EF553B",
           "#EF553B",
           "#00cc96",
           "#00cc96",
           "#EF553B",
           "#00cc96",
           "#00cc96",
           "#636efa",
           "#EF553B",
           "#EF553B",
           "#00cc96",
           "#00cc96",
           "#EF553B",
           "#EF553B",
           "#EF553B",
           "#EF553B",
           "#EF553B",
           "#EF553B",
           "#00cc96",
           "#00cc96",
           "#EF553B",
           "#EF553B",
           "#EF553B",
           "#00cc96",
           "#00cc96",
           "#00cc96",
           "#EF553B",
           "#EF553B",
           "#EF553B",
           "#00cc96",
           "#EF553B",
           "#00cc96",
           "#ab63fa",
           "#EF553B",
           "#EF553B",
           "#00cc96",
           "#00cc96",
           "#00cc96",
           "#EF553B",
           "#00cc96",
           "#EF553B",
           "#00cc96",
           "#00cc96",
           "#EF553B",
           "#EF553B",
           "#FFA15A",
           "#ab63fa",
           "#00cc96",
           "#00cc96",
           "#EF553B",
           "#00cc96",
           "#EF553B",
           "#00cc96",
           "#00cc96",
           "#00cc96",
           "#EF553B",
           "#00cc96",
           "#00cc96",
           "#EF553B",
           "#00cc96",
           "#00cc96",
           "#00cc96",
           "#EF553B",
           "#EF553B",
           "#EF553B",
           "#EF553B",
           "#00cc96",
           "#00cc96",
           "#00cc96",
           "#00cc96",
           "#EF553B",
           "#EF553B",
           "#FFA15A",
           "#00cc96",
           "#EF553B",
           "#00cc96",
           "#00cc96",
           "#EF553B",
           "#636efa",
           "#00cc96",
           "#EF553B",
           "#00cc96",
           "#EF553B",
           "#EF553B",
           "#00cc96",
           "#EF553B",
           "#EF553B",
           "#636efa",
           "#EF553B",
           "#EF553B",
           "#00cc96",
           "#EF553B",
           "#EF553B",
           "#EF553B",
           "#00cc96",
           "#EF553B",
           "#EF553B",
           "#00cc96",
           "#00cc96",
           "#00cc96",
           "#00cc96",
           "#00cc96",
           "#EF553B",
           "#00cc96",
           "#EF553B",
           "#EF553B",
           "#EF553B",
           "#EF553B",
           "#00cc96",
           "#EF553B",
           "#636efa",
           "#00cc96",
           "#00cc96",
           "#ab63fa",
           "#EF553B",
           "#00cc96",
           "#EF553B",
           "#00cc96",
           "#EF553B",
           "#EF553B",
           "#EF553B",
           "#00cc96",
           "#EF553B",
           "#ab63fa",
           "#EF553B",
           "#EF553B",
           "#EF553B",
           "#00cc96",
           "#EF553B",
           "#00cc96",
           "#00cc96",
           "#EF553B",
           "#EF553B",
           "#00cc96",
           "#00cc96",
           "#EF553B",
           "#00cc96",
           "#EF553B",
           "#00cc96",
           "#00cc96",
           "#EF553B",
           "#EF553B",
           "#00cc96",
           "#EF553B",
           "#EF553B",
           "#EF553B",
           "#00cc96",
           "#EF553B",
           "#00cc96",
           "#EF553B",
           "#ab63fa",
           "#00cc96",
           "#00cc96",
           "#00cc96",
           "#00cc96",
           "#00cc96",
           "#00cc96",
           "#00cc96",
           "#EF553B",
           "#EF553B",
           "#00cc96",
           "#00cc96",
           "#00cc96",
           "#00cc96",
           "#FFA15A",
           "#636efa",
           "#EF553B",
           "#00cc96",
           "#EF553B",
           "#EF553B",
           "#00cc96",
           "#ab63fa",
           "#00cc96",
           "#EF553B",
           "#00cc96",
           "#EF553B",
           "#00cc96",
           "#00cc96",
           "#EF553B",
           "#EF553B",
           "#ab63fa",
           "#00cc96",
           "#EF553B",
           "#EF553B",
           "#EF553B",
           "#00cc96",
           "#EF553B",
           "#00cc96",
           "#00cc96",
           "#636efa",
           "#00cc96",
           "#EF553B",
           "#EF553B",
           "#00cc96",
           "#EF553B",
           "#EF553B",
           "#00cc96",
           "#EF553B",
           "#00cc96",
           "#EF553B",
           "#00cc96",
           "#00cc96",
           "#00cc96",
           "#00cc96",
           "#00cc96",
           "#00cc96",
           "#00cc96",
           "#00cc96",
           "#EF553B",
           "#636efa",
           "#00cc96",
           "#EF553B",
           "#00cc96",
           "#00cc96",
           "#EF553B",
           "#00cc96",
           "#EF553B",
           "#00cc96",
           "#ab63fa",
           "#00cc96",
           "#EF553B",
           "#EF553B",
           "#EF553B",
           "#EF553B",
           "#EF553B",
           "#EF553B",
           "#00cc96",
           "#ab63fa",
           "#EF553B",
           "#EF553B",
           "#EF553B",
           "#636efa",
           "#EF553B",
           "#00cc96",
           "#00cc96",
           "#636efa",
           "#00cc96",
           "#00cc96",
           "#EF553B",
           "#EF553B",
           "#EF553B",
           "#636efa",
           "#00cc96",
           "#EF553B",
           "#EF553B",
           "#EF553B",
           "#EF553B",
           "#636efa",
           "#FFA15A",
           "#EF553B",
           "#EF553B",
           "#00cc96",
           "#636efa",
           "#00cc96",
           "#00cc96",
           "#EF553B",
           "#EF553B",
           "#00cc96",
           "#00cc96",
           "#00cc96",
           "#00cc96",
           "#EF553B",
           "#EF553B",
           "#00cc96",
           "#EF553B",
           "#EF553B",
           "#00cc96",
           "#ab63fa",
           "#EF553B",
           "#00cc96",
           "#EF553B",
           "#00cc96",
           "#00cc96",
           "#00cc96",
           "#EF553B",
           "#EF553B",
           "#00cc96",
           "#EF553B",
           "#EF553B",
           "#00cc96",
           "#EF553B",
           "#EF553B",
           "#ab63fa",
           "#EF553B",
           "#00cc96",
           "#00cc96",
           "#00cc96",
           "#EF553B",
           "#00cc96",
           "#ab63fa",
           "#EF553B",
           "#EF553B",
           "#EF553B",
           "#00cc96",
           "#00cc96",
           "#EF553B",
           "#00cc96",
           "#EF553B",
           "#EF553B",
           "#00cc96",
           "#EF553B",
           "#EF553B",
           "#EF553B",
           "#EF553B",
           "#00cc96",
           "#00cc96",
           "#00cc96",
           "#EF553B",
           "#EF553B",
           "#EF553B",
           "#EF553B",
           "#636efa",
           "#00cc96",
           "#EF553B",
           "#ab63fa",
           "#EF553B",
           "#EF553B",
           "#EF553B",
           "#636efa",
           "#EF553B",
           "#00cc96",
           "#EF553B",
           "#00cc96",
           "#ab63fa",
           "#EF553B",
           "#00cc96",
           "#EF553B",
           "#EF553B",
           "#00cc96",
           "#00cc96",
           "#00cc96",
           "#00cc96",
           "#EF553B",
           "#EF553B",
           "#EF553B",
           "#EF553B",
           "#ab63fa",
           "#00cc96",
           "#EF553B",
           "#EF553B",
           "#00cc96",
           "#00cc96",
           "#EF553B",
           "#00cc96",
           "#EF553B",
           "#EF553B",
           "#00cc96",
           "#EF553B",
           "#EF553B",
           "#00cc96",
           "#00cc96",
           "#00cc96",
           "#EF553B",
           "#EF553B",
           "#00cc96",
           "#00cc96",
           "#636efa",
           "#00cc96",
           "#EF553B",
           "#00cc96",
           "#EF553B",
           "#00cc96",
           "#00cc96",
           "#00cc96",
           "#00cc96",
           "#EF553B",
           "#00cc96",
           "#00cc96",
           "#ab63fa",
           "#00cc96",
           "#EF553B",
           "#EF553B",
           "#ab63fa",
           "#00cc96",
           "#EF553B",
           "#00cc96",
           "#EF553B",
           "#00cc96",
           "#00cc96",
           "#00cc96",
           "#EF553B",
           "#EF553B",
           "#EF553B",
           "#EF553B",
           "#00cc96",
           "#EF553B",
           "#EF553B",
           "#00cc96",
           "#00cc96",
           "#00cc96",
           "#00cc96",
           "#00cc96",
           "#00cc96",
           "#00cc96",
           "#ab63fa",
           "#00cc96",
           "#EF553B",
           "#00cc96",
           "#EF553B",
           "#00cc96",
           "#00cc96",
           "#EF553B",
           "#EF553B",
           "#ab63fa",
           "#ab63fa",
           "#EF553B",
           "#ab63fa",
           "#EF553B",
           "#EF553B",
           "#00cc96",
           "#EF553B",
           "#00cc96",
           "#00cc96",
           "#00cc96",
           "#EF553B",
           "#636efa",
           "#00cc96",
           "#00cc96",
           "#EF553B",
           "#EF553B",
           "#00cc96",
           "#ab63fa",
           "#00cc96",
           "#EF553B",
           "#EF553B",
           "#ab63fa",
           "#00cc96",
           "#EF553B",
           "#00cc96",
           "#FFA15A",
           "#00cc96",
           "#EF553B",
           "#EF553B",
           "#00cc96",
           "#00cc96",
           "#00cc96",
           "#00cc96",
           "#EF553B",
           "#00cc96",
           "#00cc96",
           "#00cc96",
           "#00cc96",
           "#EF553B",
           "#EF553B",
           "#00cc96",
           "#00cc96",
           "#00cc96",
           "#00cc96",
           "#00cc96",
           "#00cc96",
           "#00cc96",
           "#ab63fa",
           "#EF553B",
           "#EF553B",
           "#EF553B",
           "#EF553B",
           "#00cc96",
           "#00cc96",
           "#FFA15A",
           "#00cc96",
           "#EF553B",
           "#EF553B",
           "#00cc96",
           "#EF553B",
           "#EF553B",
           "#00cc96",
           "#00cc96",
           "#00cc96",
           "#00cc96",
           "#00cc96",
           "#EF553B",
           "#00cc96",
           "#EF553B",
           "#ab63fa",
           "#00cc96",
           "#EF553B",
           "#00cc96",
           "#ab63fa",
           "#EF553B",
           "#00cc96",
           "#00cc96",
           "#EF553B",
           "#00cc96",
           "#00cc96",
           "#EF553B",
           "#ab63fa",
           "#00cc96",
           "#00cc96",
           "#EF553B",
           "#00cc96",
           "#ab63fa",
           "#00cc96",
           "#00cc96",
           "#EF553B",
           "#EF553B",
           "#EF553B",
           "#00cc96",
           "#EF553B",
           "#00cc96",
           "#EF553B",
           "#FFA15A",
           "#00cc96",
           "#ab63fa",
           "#00cc96",
           "#00cc96",
           "#EF553B",
           "#00cc96",
           "#EF553B",
           "#00cc96",
           "#00cc96",
           "#EF553B",
           "#EF553B",
           "#00cc96",
           "#ab63fa",
           "#EF553B",
           "#ab63fa",
           "#00cc96",
           "#00cc96",
           "#ab63fa",
           "#ab63fa",
           "#00cc96",
           "#00cc96",
           "#EF553B",
           "#EF553B",
           "#EF553B",
           "#EF553B",
           "#00cc96",
           "#00cc96",
           "#00cc96",
           "#EF553B",
           "#EF553B",
           "#00cc96",
           "#00cc96",
           "#00cc96",
           "#00cc96",
           "#00cc96",
           "#ab63fa",
           "#EF553B",
           "#00cc96",
           "#00cc96",
           "#00cc96",
           "#00cc96",
           "#00cc96",
           "#EF553B",
           "#00cc96",
           "#636efa",
           "#EF553B",
           "#EF553B",
           "#00cc96",
           "#00cc96",
           "#00cc96",
           "#EF553B",
           "#ab63fa",
           "#636efa",
           "#00cc96",
           "#00cc96",
           "#00cc96",
           "#00cc96",
           "#EF553B",
           "#00cc96",
           "#00cc96",
           "#00cc96",
           "#636efa",
           "#00cc96",
           "#00cc96",
           "#00cc96",
           "#00cc96",
           "#EF553B",
           "#00cc96",
           "#EF553B",
           "#00cc96",
           "#EF553B",
           "#00cc96",
           "#ab63fa",
           "#00cc96",
           "#EF553B",
           "#EF553B",
           "#ab63fa",
           "#EF553B",
           "#EF553B",
           "#EF553B",
           "#EF553B",
           "#00cc96",
           "#EF553B",
           "#ab63fa",
           "#EF553B",
           "#00cc96",
           "#00cc96",
           "#EF553B",
           "#EF553B",
           "#00cc96",
           "#00cc96",
           "#00cc96",
           "#00cc96",
           "#00cc96",
           "#00cc96",
           "#EF553B",
           "#636efa",
           "#EF553B",
           "#EF553B",
           "#EF553B",
           "#EF553B",
           "#EF553B",
           "#00cc96",
           "#EF553B",
           "#ab63fa",
           "#00cc96",
           "#EF553B",
           "#00cc96",
           "#EF553B",
           "#00cc96",
           "#EF553B",
           "#EF553B",
           "#00cc96",
           "#EF553B",
           "#EF553B",
           "#00cc96",
           "#EF553B",
           "#00cc96",
           "#EF553B",
           "#EF553B",
           "#00cc96",
           "#EF553B",
           "#00cc96",
           "#EF553B",
           "#00cc96",
           "#00cc96",
           "#00cc96",
           "#ab63fa",
           "#EF553B",
           "#00cc96",
           "#EF553B",
           "#EF553B",
           "#00cc96",
           "#EF553B",
           "#00cc96",
           "#00cc96",
           "#EF553B",
           "#00cc96",
           "#00cc96",
           "#EF553B",
           "#00cc96",
           "#FFA15A",
           "#EF553B",
           "#EF553B",
           "#00cc96",
           "#00cc96",
           "#EF553B",
           "#00cc96",
           "#EF553B",
           "#00cc96",
           "#EF553B",
           "#EF553B",
           "#00cc96",
           "#EF553B",
           "#00cc96",
           "#00cc96",
           "#00cc96",
           "#ab63fa",
           "#00cc96",
           "#00cc96",
           "#636efa",
           "#ab63fa",
           "#EF553B",
           "#EF553B",
           "#00cc96",
           "#00cc96",
           "#ab63fa",
           "#636efa",
           "#EF553B",
           "#EF553B",
           "#ab63fa",
           "#00cc96",
           "#EF553B",
           "#00cc96",
           "#EF553B",
           "#EF553B",
           "#ab63fa",
           "#ab63fa",
           "#00cc96",
           "#EF553B",
           "#EF553B",
           "#00cc96",
           "#00cc96",
           "#FFA15A",
           "#00cc96",
           "#EF553B",
           "#00cc96",
           "#00cc96",
           "#00cc96",
           "#EF553B",
           "#00cc96",
           "#00cc96",
           "#00cc96",
           "#00cc96",
           "#00cc96",
           "#00cc96",
           "#EF553B",
           "#EF553B",
           "#FFA15A",
           "#EF553B",
           "#EF553B",
           "#EF553B",
           "#00cc96",
           "#ab63fa",
           "#00cc96",
           "#EF553B",
           "#00cc96",
           "#00cc96",
           "#EF553B",
           "#00cc96",
           "#00cc96",
           "#EF553B",
           "#EF553B",
           "#00cc96",
           "#EF553B",
           "#EF553B",
           "#EF553B",
           "#EF553B",
           "#EF553B",
           "#EF553B",
           "#EF553B",
           "#EF553B",
           "#EF553B",
           "#EF553B",
           "#EF553B",
           "#EF553B",
           "#EF553B",
           "#00cc96",
           "#EF553B",
           "#ab63fa",
           "#EF553B",
           "#EF553B",
           "#FFA15A",
           "#EF553B",
           "#EF553B",
           "#00cc96",
           "#00cc96",
           "#636efa",
           "#EF553B",
           "#00cc96",
           "#EF553B",
           "#EF553B",
           "#00cc96",
           "#00cc96",
           "#EF553B",
           "#EF553B",
           "#ab63fa",
           "#EF553B",
           "#EF553B",
           "#00cc96",
           "#00cc96",
           "#00cc96",
           "#00cc96",
           "#00cc96",
           "#00cc96",
           "#EF553B",
           "#EF553B",
           "#00cc96",
           "#EF553B",
           "#EF553B",
           "#00cc96",
           "#ab63fa",
           "#00cc96",
           "#EF553B",
           "#EF553B",
           "#00cc96",
           "#EF553B",
           "#00cc96",
           "#EF553B",
           "#00cc96",
           "#ab63fa",
           "#EF553B",
           "#EF553B",
           "#EF553B",
           "#00cc96",
           "#EF553B",
           "#00cc96",
           "#636efa",
           "#00cc96",
           "#00cc96",
           "#EF553B",
           "#00cc96",
           "#00cc96",
           "#ab63fa",
           "#636efa",
           "#00cc96",
           "#00cc96",
           "#00cc96",
           "#ab63fa",
           "#ab63fa",
           "#00cc96",
           "#00cc96",
           "#00cc96",
           "#EF553B",
           "#00cc96",
           "#EF553B",
           "#EF553B",
           "#EF553B",
           "#00cc96",
           "#00cc96",
           "#EF553B",
           "#00cc96",
           "#EF553B",
           "#00cc96",
           "#00cc96",
           "#EF553B",
           "#ab63fa",
           "#00cc96",
           "#EF553B",
           "#ab63fa",
           "#00cc96",
           "#EF553B",
           "#EF553B",
           "#EF553B",
           "#EF553B",
           "#EF553B",
           "#EF553B",
           "#EF553B",
           "#00cc96",
           "#EF553B",
           "#EF553B",
           "#EF553B",
           "#EF553B",
           "#EF553B",
           "#EF553B",
           "#EF553B",
           "#ab63fa",
           "#00cc96",
           "#EF553B",
           "#00cc96",
           "#EF553B",
           "#00cc96",
           "#00cc96",
           "#EF553B",
           "#636efa",
           "#EF553B",
           "#EF553B",
           "#EF553B",
           "#00cc96",
           "#ab63fa",
           "#EF553B",
           "#FFA15A",
           "#EF553B",
           "#EF553B",
           "#EF553B",
           "#00cc96",
           "#00cc96",
           "#EF553B",
           "#00cc96",
           "#00cc96",
           "#EF553B",
           "#EF553B",
           "#00cc96",
           "#EF553B",
           "#00cc96",
           "#00cc96",
           "#EF553B",
           "#EF553B",
           "#EF553B",
           "#EF553B",
           "#EF553B",
           "#00cc96",
           "#EF553B",
           "#EF553B",
           "#00cc96",
           "#00cc96",
           "#00cc96",
           "#EF553B",
           "#EF553B",
           "#EF553B",
           "#EF553B",
           "#EF553B",
           "#EF553B",
           "#00cc96",
           "#00cc96",
           "#EF553B",
           "#EF553B",
           "#00cc96",
           "#00cc96",
           "#00cc96",
           "#00cc96",
           "#00cc96",
           "#00cc96",
           "#EF553B",
           "#636efa",
           "#EF553B",
           "#00cc96",
           "#00cc96",
           "#EF553B",
           "#ab63fa",
           "#00cc96",
           "#00cc96",
           "#EF553B",
           "#EF553B",
           "#00cc96",
           "#EF553B",
           "#00cc96",
           "#EF553B",
           "#00cc96",
           "#EF553B",
           "#EF553B",
           "#00cc96",
           "#EF553B",
           "#00cc96",
           "#EF553B",
           "#00cc96",
           "#00cc96",
           "#00cc96",
           "#EF553B",
           "#00cc96",
           "#00cc96",
           "#EF553B",
           "#00cc96",
           "#00cc96",
           "#EF553B",
           "#00cc96",
           "#00cc96",
           "#00cc96",
           "#EF553B",
           "#00cc96",
           "#00cc96",
           "#EF553B",
           "#00cc96",
           "#00cc96",
           "#636efa",
           "#00cc96",
           "#EF553B",
           "#EF553B",
           "#ab63fa",
           "#EF553B",
           "#00cc96",
           "#00cc96",
           "#EF553B",
           "#00cc96",
           "#EF553B",
           "#00cc96",
           "#ab63fa",
           "#FFA15A",
           "#00cc96",
           "#EF553B",
           "#EF553B",
           "#EF553B",
           "#EF553B",
           "#EF553B",
           "#ab63fa",
           "#EF553B",
           "#00cc96",
           "#00cc96",
           "#FFA15A",
           "#EF553B",
           "#00cc96",
           "#EF553B",
           "#FFA15A",
           "#00cc96",
           "#00cc96",
           "#EF553B",
           "#EF553B",
           "#636efa",
           "#00cc96",
           "#EF553B",
           "#00cc96",
           "#00cc96",
           "#EF553B",
           "#EF553B",
           "#00cc96",
           "#ab63fa",
           "#00cc96",
           "#00cc96",
           "#EF553B",
           "#EF553B",
           "#00cc96",
           "#EF553B",
           "#ab63fa",
           "#00cc96",
           "#00cc96",
           "#00cc96",
           "#00cc96",
           "#FFA15A",
           "#EF553B",
           "#00cc96",
           "#00cc96",
           "#00cc96",
           "#00cc96",
           "#00cc96",
           "#00cc96",
           "#ab63fa",
           "#EF553B",
           "#00cc96",
           "#EF553B",
           "#EF553B",
           "#636efa",
           "#ab63fa",
           "#EF553B",
           "#EF553B",
           "#EF553B",
           "#EF553B",
           "#00cc96",
           "#EF553B",
           "#EF553B",
           "#EF553B",
           "#ab63fa",
           "#00cc96",
           "#EF553B",
           "#00cc96",
           "#EF553B",
           "#EF553B",
           "#00cc96",
           "#EF553B",
           "#EF553B",
           "#EF553B",
           "#EF553B",
           "#00cc96",
           "#EF553B",
           "#EF553B",
           "#ab63fa",
           "#00cc96",
           "#EF553B",
           "#00cc96",
           "#EF553B",
           "#EF553B",
           "#EF553B",
           "#636efa",
           "#EF553B",
           "#00cc96",
           "#ab63fa",
           "#ab63fa",
           "#EF553B",
           "#ab63fa",
           "#EF553B",
           "#EF553B",
           "#00cc96",
           "#EF553B",
           "#ab63fa",
           "#00cc96",
           "#00cc96",
           "#EF553B",
           "#EF553B",
           "#00cc96",
           "#ab63fa",
           "#00cc96",
           "#EF553B",
           "#ab63fa",
           "#00cc96",
           "#00cc96",
           "#636efa",
           "#FFA15A",
           "#EF553B",
           "#00cc96",
           "#EF553B",
           "#EF553B",
           "#00cc96",
           "#EF553B",
           "#EF553B",
           "#00cc96",
           "#EF553B",
           "#EF553B",
           "#ab63fa",
           "#EF553B",
           "#00cc96",
           "#00cc96",
           "#ab63fa",
           "#ab63fa",
           "#00cc96",
           "#EF553B",
           "#EF553B",
           "#EF553B",
           "#EF553B",
           "#EF553B",
           "#EF553B",
           "#00cc96",
           "#ab63fa",
           "#EF553B",
           "#00cc96",
           "#00cc96",
           "#EF553B",
           "#ab63fa",
           "#EF553B",
           "#ab63fa",
           "#EF553B",
           "#00cc96",
           "#00cc96",
           "#EF553B",
           "#00cc96",
           "#EF553B",
           "#00cc96",
           "#EF553B",
           "#00cc96",
           "#FFA15A",
           "#ab63fa",
           "#EF553B",
           "#00cc96",
           "#ab63fa",
           "#00cc96",
           "#EF553B",
           "#00cc96",
           "#00cc96",
           "#636efa",
           "#00cc96",
           "#EF553B",
           "#EF553B",
           "#EF553B",
           "#636efa",
           "#EF553B",
           "#636efa",
           "#EF553B",
           "#EF553B",
           "#ab63fa",
           "#00cc96",
           "#EF553B",
           "#636efa",
           "#00cc96",
           "#ab63fa",
           "#EF553B",
           "#EF553B",
           "#00cc96",
           "#EF553B",
           "#00cc96",
           "#ab63fa",
           "#00cc96",
           "#EF553B",
           "#00cc96",
           "#00cc96",
           "#00cc96",
           "#EF553B",
           "#00cc96",
           "#00cc96",
           "#EF553B",
           "#EF553B",
           "#FFA15A",
           "#00cc96",
           "#00cc96",
           "#EF553B",
           "#00cc96",
           "#00cc96",
           "#00cc96",
           "#EF553B",
           "#EF553B",
           "#EF553B",
           "#00cc96",
           "#FFA15A",
           "#00cc96",
           "#00cc96",
           "#EF553B",
           "#EF553B",
           "#00cc96",
           "#00cc96",
           "#ab63fa",
           "#EF553B",
           "#00cc96",
           "#00cc96",
           "#EF553B",
           "#00cc96",
           "#ab63fa",
           "#EF553B",
           "#00cc96",
           "#EF553B",
           "#EF553B",
           "#EF553B",
           "#EF553B",
           "#00cc96",
           "#00cc96",
           "#FFA15A",
           "#FFA15A",
           "#00cc96",
           "#EF553B",
           "#EF553B",
           "#00cc96",
           "#EF553B",
           "#00cc96",
           "#00cc96",
           "#EF553B",
           "#EF553B",
           "#EF553B",
           "#EF553B",
           "#00cc96",
           "#00cc96",
           "#00cc96",
           "#00cc96",
           "#EF553B",
           "#EF553B",
           "#ab63fa",
           "#EF553B",
           "#00cc96",
           "#EF553B",
           "#00cc96",
           "#00cc96",
           "#EF553B",
           "#636efa",
           "#ab63fa",
           "#00cc96",
           "#00cc96",
           "#EF553B",
           "#EF553B",
           "#00cc96",
           "#00cc96",
           "#00cc96",
           "#00cc96",
           "#EF553B",
           "#00cc96",
           "#00cc96",
           "#EF553B",
           "#EF553B",
           "#636efa",
           "#ab63fa",
           "#EF553B",
           "#00cc96",
           "#EF553B",
           "#FFA15A",
           "#00cc96",
           "#EF553B",
           "#EF553B",
           "#00cc96",
           "#EF553B",
           "#00cc96",
           "#00cc96",
           "#ab63fa",
           "#EF553B",
           "#00cc96",
           "#00cc96",
           "#EF553B",
           "#EF553B",
           "#ab63fa",
           "#00cc96",
           "#EF553B",
           "#EF553B",
           "#00cc96",
           "#00cc96",
           "#00cc96",
           "#00cc96",
           "#00cc96",
           "#EF553B",
           "#EF553B",
           "#EF553B",
           "#EF553B",
           "#636efa",
           "#00cc96",
           "#00cc96",
           "#EF553B",
           "#EF553B",
           "#EF553B",
           "#00cc96",
           "#EF553B",
           "#EF553B",
           "#EF553B",
           "#EF553B",
           "#00cc96",
           "#EF553B",
           "#00cc96",
           "#00cc96",
           "#EF553B",
           "#ab63fa",
           "#00cc96",
           "#00cc96",
           "#EF553B",
           "#00cc96",
           "#636efa",
           "#EF553B",
           "#ab63fa",
           "#00cc96",
           "#00cc96",
           "#00cc96",
           "#636efa",
           "#EF553B",
           "#00cc96",
           "#00cc96",
           "#00cc96",
           "#00cc96",
           "#EF553B",
           "#EF553B",
           "#00cc96",
           "#636efa",
           "#00cc96",
           "#636efa",
           "#EF553B",
           "#EF553B",
           "#636efa",
           "#EF553B",
           "#636efa",
           "#00cc96",
           "#EF553B",
           "#00cc96",
           "#00cc96",
           "#FFA15A",
           "#FFA15A",
           "#EF553B",
           "#00cc96",
           "#EF553B",
           "#EF553B",
           "#00cc96",
           "#00cc96",
           "#00cc96",
           "#EF553B",
           "#EF553B",
           "#EF553B",
           "#EF553B",
           "#00cc96",
           "#636efa",
           "#00cc96",
           "#636efa",
           "#00cc96",
           "#EF553B",
           "#00cc96",
           "#00cc96",
           "#00cc96",
           "#00cc96",
           "#EF553B",
           "#EF553B",
           "#00cc96",
           "#636efa",
           "#EF553B",
           "#00cc96",
           "#00cc96",
           "#EF553B",
           "#00cc96",
           "#EF553B",
           "#00cc96",
           "#00cc96",
           "#00cc96",
           "#EF553B",
           "#00cc96",
           "#EF553B",
           "#00cc96",
           "#EF553B",
           "#EF553B",
           "#00cc96",
           "#EF553B",
           "#EF553B",
           "#EF553B",
           "#00cc96",
           "#00cc96",
           "#00cc96",
           "#00cc96",
           "#00cc96",
           "#EF553B",
           "#EF553B",
           "#EF553B",
           "#EF553B",
           "#EF553B",
           "#00cc96",
           "#EF553B",
           "#00cc96",
           "#00cc96",
           "#00cc96",
           "#00cc96",
           "#EF553B",
           "#EF553B",
           "#EF553B",
           "#00cc96",
           "#00cc96",
           "#EF553B",
           "#00cc96",
           "#EF553B",
           "#EF553B",
           "#00cc96",
           "#EF553B",
           "#00cc96",
           "#00cc96",
           "#00cc96",
           "#00cc96",
           "#00cc96",
           "#00cc96",
           "#00cc96",
           "#EF553B",
           "#EF553B",
           "#EF553B",
           "#EF553B",
           "#00cc96",
           "#EF553B",
           "#00cc96",
           "#636efa",
           "#EF553B",
           "#EF553B",
           "#EF553B",
           "#EF553B",
           "#00cc96",
           "#EF553B",
           "#EF553B",
           "#00cc96",
           "#EF553B",
           "#EF553B",
           "#00cc96",
           "#EF553B",
           "#ab63fa",
           "#00cc96",
           "#ab63fa",
           "#EF553B",
           "#00cc96",
           "#EF553B",
           "#EF553B",
           "#00cc96",
           "#00cc96",
           "#EF553B",
           "#EF553B",
           "#00cc96",
           "#EF553B",
           "#EF553B",
           "#00cc96",
           "#00cc96",
           "#ab63fa",
           "#00cc96",
           "#EF553B",
           "#EF553B",
           "#00cc96",
           "#EF553B",
           "#EF553B",
           "#EF553B",
           "#ab63fa",
           "#00cc96",
           "#EF553B",
           "#00cc96",
           "#EF553B",
           "#00cc96",
           "#EF553B",
           "#636efa",
           "#EF553B",
           "#EF553B",
           "#00cc96",
           "#EF553B",
           "#00cc96",
           "#EF553B",
           "#EF553B",
           "#EF553B",
           "#00cc96",
           "#EF553B"
          ]
         },
         "name": "",
         "showlegend": true,
         "type": "pie"
        }
       ],
       "layout": {
        "legend": {
         "tracegroupgap": 0
        },
        "template": {
         "data": {
          "bar": [
           {
            "error_x": {
             "color": "#f2f5fa"
            },
            "error_y": {
             "color": "#f2f5fa"
            },
            "marker": {
             "line": {
              "color": "rgb(17,17,17)",
              "width": 0.5
             },
             "pattern": {
              "fillmode": "overlay",
              "size": 10,
              "solidity": 0.2
             }
            },
            "type": "bar"
           }
          ],
          "barpolar": [
           {
            "marker": {
             "line": {
              "color": "rgb(17,17,17)",
              "width": 0.5
             },
             "pattern": {
              "fillmode": "overlay",
              "size": 10,
              "solidity": 0.2
             }
            },
            "type": "barpolar"
           }
          ],
          "carpet": [
           {
            "aaxis": {
             "endlinecolor": "#A2B1C6",
             "gridcolor": "#506784",
             "linecolor": "#506784",
             "minorgridcolor": "#506784",
             "startlinecolor": "#A2B1C6"
            },
            "baxis": {
             "endlinecolor": "#A2B1C6",
             "gridcolor": "#506784",
             "linecolor": "#506784",
             "minorgridcolor": "#506784",
             "startlinecolor": "#A2B1C6"
            },
            "type": "carpet"
           }
          ],
          "choropleth": [
           {
            "colorbar": {
             "outlinewidth": 0,
             "ticks": ""
            },
            "type": "choropleth"
           }
          ],
          "contour": [
           {
            "colorbar": {
             "outlinewidth": 0,
             "ticks": ""
            },
            "colorscale": [
             [
              0,
              "#0d0887"
             ],
             [
              0.1111111111111111,
              "#46039f"
             ],
             [
              0.2222222222222222,
              "#7201a8"
             ],
             [
              0.3333333333333333,
              "#9c179e"
             ],
             [
              0.4444444444444444,
              "#bd3786"
             ],
             [
              0.5555555555555556,
              "#d8576b"
             ],
             [
              0.6666666666666666,
              "#ed7953"
             ],
             [
              0.7777777777777778,
              "#fb9f3a"
             ],
             [
              0.8888888888888888,
              "#fdca26"
             ],
             [
              1,
              "#f0f921"
             ]
            ],
            "type": "contour"
           }
          ],
          "contourcarpet": [
           {
            "colorbar": {
             "outlinewidth": 0,
             "ticks": ""
            },
            "type": "contourcarpet"
           }
          ],
          "heatmap": [
           {
            "colorbar": {
             "outlinewidth": 0,
             "ticks": ""
            },
            "colorscale": [
             [
              0,
              "#0d0887"
             ],
             [
              0.1111111111111111,
              "#46039f"
             ],
             [
              0.2222222222222222,
              "#7201a8"
             ],
             [
              0.3333333333333333,
              "#9c179e"
             ],
             [
              0.4444444444444444,
              "#bd3786"
             ],
             [
              0.5555555555555556,
              "#d8576b"
             ],
             [
              0.6666666666666666,
              "#ed7953"
             ],
             [
              0.7777777777777778,
              "#fb9f3a"
             ],
             [
              0.8888888888888888,
              "#fdca26"
             ],
             [
              1,
              "#f0f921"
             ]
            ],
            "type": "heatmap"
           }
          ],
          "heatmapgl": [
           {
            "colorbar": {
             "outlinewidth": 0,
             "ticks": ""
            },
            "colorscale": [
             [
              0,
              "#0d0887"
             ],
             [
              0.1111111111111111,
              "#46039f"
             ],
             [
              0.2222222222222222,
              "#7201a8"
             ],
             [
              0.3333333333333333,
              "#9c179e"
             ],
             [
              0.4444444444444444,
              "#bd3786"
             ],
             [
              0.5555555555555556,
              "#d8576b"
             ],
             [
              0.6666666666666666,
              "#ed7953"
             ],
             [
              0.7777777777777778,
              "#fb9f3a"
             ],
             [
              0.8888888888888888,
              "#fdca26"
             ],
             [
              1,
              "#f0f921"
             ]
            ],
            "type": "heatmapgl"
           }
          ],
          "histogram": [
           {
            "marker": {
             "pattern": {
              "fillmode": "overlay",
              "size": 10,
              "solidity": 0.2
             }
            },
            "type": "histogram"
           }
          ],
          "histogram2d": [
           {
            "colorbar": {
             "outlinewidth": 0,
             "ticks": ""
            },
            "colorscale": [
             [
              0,
              "#0d0887"
             ],
             [
              0.1111111111111111,
              "#46039f"
             ],
             [
              0.2222222222222222,
              "#7201a8"
             ],
             [
              0.3333333333333333,
              "#9c179e"
             ],
             [
              0.4444444444444444,
              "#bd3786"
             ],
             [
              0.5555555555555556,
              "#d8576b"
             ],
             [
              0.6666666666666666,
              "#ed7953"
             ],
             [
              0.7777777777777778,
              "#fb9f3a"
             ],
             [
              0.8888888888888888,
              "#fdca26"
             ],
             [
              1,
              "#f0f921"
             ]
            ],
            "type": "histogram2d"
           }
          ],
          "histogram2dcontour": [
           {
            "colorbar": {
             "outlinewidth": 0,
             "ticks": ""
            },
            "colorscale": [
             [
              0,
              "#0d0887"
             ],
             [
              0.1111111111111111,
              "#46039f"
             ],
             [
              0.2222222222222222,
              "#7201a8"
             ],
             [
              0.3333333333333333,
              "#9c179e"
             ],
             [
              0.4444444444444444,
              "#bd3786"
             ],
             [
              0.5555555555555556,
              "#d8576b"
             ],
             [
              0.6666666666666666,
              "#ed7953"
             ],
             [
              0.7777777777777778,
              "#fb9f3a"
             ],
             [
              0.8888888888888888,
              "#fdca26"
             ],
             [
              1,
              "#f0f921"
             ]
            ],
            "type": "histogram2dcontour"
           }
          ],
          "mesh3d": [
           {
            "colorbar": {
             "outlinewidth": 0,
             "ticks": ""
            },
            "type": "mesh3d"
           }
          ],
          "parcoords": [
           {
            "line": {
             "colorbar": {
              "outlinewidth": 0,
              "ticks": ""
             }
            },
            "type": "parcoords"
           }
          ],
          "pie": [
           {
            "automargin": true,
            "type": "pie"
           }
          ],
          "scatter": [
           {
            "marker": {
             "line": {
              "color": "#283442"
             }
            },
            "type": "scatter"
           }
          ],
          "scatter3d": [
           {
            "line": {
             "colorbar": {
              "outlinewidth": 0,
              "ticks": ""
             }
            },
            "marker": {
             "colorbar": {
              "outlinewidth": 0,
              "ticks": ""
             }
            },
            "type": "scatter3d"
           }
          ],
          "scattercarpet": [
           {
            "marker": {
             "colorbar": {
              "outlinewidth": 0,
              "ticks": ""
             }
            },
            "type": "scattercarpet"
           }
          ],
          "scattergeo": [
           {
            "marker": {
             "colorbar": {
              "outlinewidth": 0,
              "ticks": ""
             }
            },
            "type": "scattergeo"
           }
          ],
          "scattergl": [
           {
            "marker": {
             "line": {
              "color": "#283442"
             }
            },
            "type": "scattergl"
           }
          ],
          "scattermapbox": [
           {
            "marker": {
             "colorbar": {
              "outlinewidth": 0,
              "ticks": ""
             }
            },
            "type": "scattermapbox"
           }
          ],
          "scatterpolar": [
           {
            "marker": {
             "colorbar": {
              "outlinewidth": 0,
              "ticks": ""
             }
            },
            "type": "scatterpolar"
           }
          ],
          "scatterpolargl": [
           {
            "marker": {
             "colorbar": {
              "outlinewidth": 0,
              "ticks": ""
             }
            },
            "type": "scatterpolargl"
           }
          ],
          "scatterternary": [
           {
            "marker": {
             "colorbar": {
              "outlinewidth": 0,
              "ticks": ""
             }
            },
            "type": "scatterternary"
           }
          ],
          "surface": [
           {
            "colorbar": {
             "outlinewidth": 0,
             "ticks": ""
            },
            "colorscale": [
             [
              0,
              "#0d0887"
             ],
             [
              0.1111111111111111,
              "#46039f"
             ],
             [
              0.2222222222222222,
              "#7201a8"
             ],
             [
              0.3333333333333333,
              "#9c179e"
             ],
             [
              0.4444444444444444,
              "#bd3786"
             ],
             [
              0.5555555555555556,
              "#d8576b"
             ],
             [
              0.6666666666666666,
              "#ed7953"
             ],
             [
              0.7777777777777778,
              "#fb9f3a"
             ],
             [
              0.8888888888888888,
              "#fdca26"
             ],
             [
              1,
              "#f0f921"
             ]
            ],
            "type": "surface"
           }
          ],
          "table": [
           {
            "cells": {
             "fill": {
              "color": "#506784"
             },
             "line": {
              "color": "rgb(17,17,17)"
             }
            },
            "header": {
             "fill": {
              "color": "#2a3f5f"
             },
             "line": {
              "color": "rgb(17,17,17)"
             }
            },
            "type": "table"
           }
          ]
         },
         "layout": {
          "annotationdefaults": {
           "arrowcolor": "#f2f5fa",
           "arrowhead": 0,
           "arrowwidth": 1
          },
          "autotypenumbers": "strict",
          "coloraxis": {
           "colorbar": {
            "outlinewidth": 0,
            "ticks": ""
           }
          },
          "colorscale": {
           "diverging": [
            [
             0,
             "#8e0152"
            ],
            [
             0.1,
             "#c51b7d"
            ],
            [
             0.2,
             "#de77ae"
            ],
            [
             0.3,
             "#f1b6da"
            ],
            [
             0.4,
             "#fde0ef"
            ],
            [
             0.5,
             "#f7f7f7"
            ],
            [
             0.6,
             "#e6f5d0"
            ],
            [
             0.7,
             "#b8e186"
            ],
            [
             0.8,
             "#7fbc41"
            ],
            [
             0.9,
             "#4d9221"
            ],
            [
             1,
             "#276419"
            ]
           ],
           "sequential": [
            [
             0,
             "#0d0887"
            ],
            [
             0.1111111111111111,
             "#46039f"
            ],
            [
             0.2222222222222222,
             "#7201a8"
            ],
            [
             0.3333333333333333,
             "#9c179e"
            ],
            [
             0.4444444444444444,
             "#bd3786"
            ],
            [
             0.5555555555555556,
             "#d8576b"
            ],
            [
             0.6666666666666666,
             "#ed7953"
            ],
            [
             0.7777777777777778,
             "#fb9f3a"
            ],
            [
             0.8888888888888888,
             "#fdca26"
            ],
            [
             1,
             "#f0f921"
            ]
           ],
           "sequentialminus": [
            [
             0,
             "#0d0887"
            ],
            [
             0.1111111111111111,
             "#46039f"
            ],
            [
             0.2222222222222222,
             "#7201a8"
            ],
            [
             0.3333333333333333,
             "#9c179e"
            ],
            [
             0.4444444444444444,
             "#bd3786"
            ],
            [
             0.5555555555555556,
             "#d8576b"
            ],
            [
             0.6666666666666666,
             "#ed7953"
            ],
            [
             0.7777777777777778,
             "#fb9f3a"
            ],
            [
             0.8888888888888888,
             "#fdca26"
            ],
            [
             1,
             "#f0f921"
            ]
           ]
          },
          "colorway": [
           "#636efa",
           "#EF553B",
           "#00cc96",
           "#ab63fa",
           "#FFA15A",
           "#19d3f3",
           "#FF6692",
           "#B6E880",
           "#FF97FF",
           "#FECB52"
          ],
          "font": {
           "color": "#f2f5fa"
          },
          "geo": {
           "bgcolor": "rgb(17,17,17)",
           "lakecolor": "rgb(17,17,17)",
           "landcolor": "rgb(17,17,17)",
           "showlakes": true,
           "showland": true,
           "subunitcolor": "#506784"
          },
          "hoverlabel": {
           "align": "left"
          },
          "hovermode": "closest",
          "mapbox": {
           "style": "dark"
          },
          "paper_bgcolor": "rgb(17,17,17)",
          "plot_bgcolor": "rgb(17,17,17)",
          "polar": {
           "angularaxis": {
            "gridcolor": "#506784",
            "linecolor": "#506784",
            "ticks": ""
           },
           "bgcolor": "rgb(17,17,17)",
           "radialaxis": {
            "gridcolor": "#506784",
            "linecolor": "#506784",
            "ticks": ""
           }
          },
          "scene": {
           "xaxis": {
            "backgroundcolor": "rgb(17,17,17)",
            "gridcolor": "#506784",
            "gridwidth": 2,
            "linecolor": "#506784",
            "showbackground": true,
            "ticks": "",
            "zerolinecolor": "#C8D4E3"
           },
           "yaxis": {
            "backgroundcolor": "rgb(17,17,17)",
            "gridcolor": "#506784",
            "gridwidth": 2,
            "linecolor": "#506784",
            "showbackground": true,
            "ticks": "",
            "zerolinecolor": "#C8D4E3"
           },
           "zaxis": {
            "backgroundcolor": "rgb(17,17,17)",
            "gridcolor": "#506784",
            "gridwidth": 2,
            "linecolor": "#506784",
            "showbackground": true,
            "ticks": "",
            "zerolinecolor": "#C8D4E3"
           }
          },
          "shapedefaults": {
           "line": {
            "color": "#f2f5fa"
           }
          },
          "sliderdefaults": {
           "bgcolor": "#C8D4E3",
           "bordercolor": "rgb(17,17,17)",
           "borderwidth": 1,
           "tickwidth": 0
          },
          "ternary": {
           "aaxis": {
            "gridcolor": "#506784",
            "linecolor": "#506784",
            "ticks": ""
           },
           "baxis": {
            "gridcolor": "#506784",
            "linecolor": "#506784",
            "ticks": ""
           },
           "bgcolor": "rgb(17,17,17)",
           "caxis": {
            "gridcolor": "#506784",
            "linecolor": "#506784",
            "ticks": ""
           }
          },
          "title": {
           "x": 0.05
          },
          "updatemenudefaults": {
           "bgcolor": "#506784",
           "borderwidth": 0
          },
          "xaxis": {
           "automargin": true,
           "gridcolor": "#283442",
           "linecolor": "#506784",
           "ticks": "",
           "title": {
            "standoff": 15
           },
           "zerolinecolor": "#283442",
           "zerolinewidth": 2
          },
          "yaxis": {
           "automargin": true,
           "gridcolor": "#283442",
           "linecolor": "#506784",
           "ticks": "",
           "title": {
            "standoff": 15
           },
           "zerolinecolor": "#283442",
           "zerolinewidth": 2
          }
         }
        },
        "title": {
         "text": "Different weathers in our dataset with their %"
        }
       }
      },
      "text/html": [
       "<div>                            <div id=\"5d40383e-6b53-4c56-8e89-276f9965776c\" class=\"plotly-graph-div\" style=\"height:525px; width:100%;\"></div>            <script type=\"text/javascript\">                require([\"plotly\"], function(Plotly) {                    window.PLOTLYENV=window.PLOTLYENV || {};                                    if (document.getElementById(\"5d40383e-6b53-4c56-8e89-276f9965776c\")) {                    Plotly.newPlot(                        \"5d40383e-6b53-4c56-8e89-276f9965776c\",                        [{\"customdata\":[[\"drizzle\"],[\"rain\"],[\"sun\"],[\"rain\"],[\"sun\"],[\"rain\"],[\"rain\"],[\"rain\"],[\"fog\"],[\"rain\"],[\"rain\"],[\"rain\"],[\"rain\"],[\"sun\"],[\"sun\"],[\"rain\"],[\"sun\"],[\"sun\"],[\"fog\"],[\"rain\"],[\"sun\"],[\"sun\"],[\"sun\"],[\"rain\"],[\"fog\"],[\"sun\"],[\"sun\"],[\"rain\"],[\"sun\"],[\"drizzle\"],[\"snow\"],[\"drizzle\"],[\"sun\"],[\"sun\"],[\"sun\"],[\"sun\"],[\"rain\"],[\"rain\"],[\"sun\"],[\"sun\"],[\"rain\"],[\"sun\"],[\"sun\"],[\"drizzle\"],[\"rain\"],[\"rain\"],[\"sun\"],[\"sun\"],[\"rain\"],[\"rain\"],[\"rain\"],[\"rain\"],[\"rain\"],[\"rain\"],[\"sun\"],[\"sun\"],[\"rain\"],[\"rain\"],[\"rain\"],[\"sun\"],[\"sun\"],[\"sun\"],[\"rain\"],[\"rain\"],[\"rain\"],[\"sun\"],[\"rain\"],[\"sun\"],[\"fog\"],[\"rain\"],[\"rain\"],[\"sun\"],[\"sun\"],[\"sun\"],[\"rain\"],[\"sun\"],[\"rain\"],[\"sun\"],[\"sun\"],[\"rain\"],[\"rain\"],[\"snow\"],[\"fog\"],[\"sun\"],[\"sun\"],[\"rain\"],[\"sun\"],[\"rain\"],[\"sun\"],[\"sun\"],[\"sun\"],[\"rain\"],[\"sun\"],[\"sun\"],[\"rain\"],[\"sun\"],[\"sun\"],[\"sun\"],[\"rain\"],[\"rain\"],[\"rain\"],[\"rain\"],[\"sun\"],[\"sun\"],[\"sun\"],[\"sun\"],[\"rain\"],[\"rain\"],[\"snow\"],[\"sun\"],[\"rain\"],[\"sun\"],[\"sun\"],[\"rain\"],[\"drizzle\"],[\"sun\"],[\"rain\"],[\"sun\"],[\"rain\"],[\"rain\"],[\"sun\"],[\"rain\"],[\"rain\"],[\"drizzle\"],[\"rain\"],[\"rain\"],[\"sun\"],[\"rain\"],[\"rain\"],[\"rain\"],[\"sun\"],[\"rain\"],[\"rain\"],[\"sun\"],[\"sun\"],[\"sun\"],[\"sun\"],[\"sun\"],[\"rain\"],[\"sun\"],[\"rain\"],[\"rain\"],[\"rain\"],[\"rain\"],[\"sun\"],[\"rain\"],[\"drizzle\"],[\"sun\"],[\"sun\"],[\"fog\"],[\"rain\"],[\"sun\"],[\"rain\"],[\"sun\"],[\"rain\"],[\"rain\"],[\"rain\"],[\"sun\"],[\"rain\"],[\"fog\"],[\"rain\"],[\"rain\"],[\"rain\"],[\"sun\"],[\"rain\"],[\"sun\"],[\"sun\"],[\"rain\"],[\"rain\"],[\"sun\"],[\"sun\"],[\"rain\"],[\"sun\"],[\"rain\"],[\"sun\"],[\"sun\"],[\"rain\"],[\"rain\"],[\"sun\"],[\"rain\"],[\"rain\"],[\"rain\"],[\"sun\"],[\"rain\"],[\"sun\"],[\"rain\"],[\"fog\"],[\"sun\"],[\"sun\"],[\"sun\"],[\"sun\"],[\"sun\"],[\"sun\"],[\"sun\"],[\"rain\"],[\"rain\"],[\"sun\"],[\"sun\"],[\"sun\"],[\"sun\"],[\"snow\"],[\"drizzle\"],[\"rain\"],[\"sun\"],[\"rain\"],[\"rain\"],[\"sun\"],[\"fog\"],[\"sun\"],[\"rain\"],[\"sun\"],[\"rain\"],[\"sun\"],[\"sun\"],[\"rain\"],[\"rain\"],[\"fog\"],[\"sun\"],[\"rain\"],[\"rain\"],[\"rain\"],[\"sun\"],[\"rain\"],[\"sun\"],[\"sun\"],[\"drizzle\"],[\"sun\"],[\"rain\"],[\"rain\"],[\"sun\"],[\"rain\"],[\"rain\"],[\"sun\"],[\"rain\"],[\"sun\"],[\"rain\"],[\"sun\"],[\"sun\"],[\"sun\"],[\"sun\"],[\"sun\"],[\"sun\"],[\"sun\"],[\"sun\"],[\"rain\"],[\"drizzle\"],[\"sun\"],[\"rain\"],[\"sun\"],[\"sun\"],[\"rain\"],[\"sun\"],[\"rain\"],[\"sun\"],[\"fog\"],[\"sun\"],[\"rain\"],[\"rain\"],[\"rain\"],[\"rain\"],[\"rain\"],[\"rain\"],[\"sun\"],[\"fog\"],[\"rain\"],[\"rain\"],[\"rain\"],[\"drizzle\"],[\"rain\"],[\"sun\"],[\"sun\"],[\"drizzle\"],[\"sun\"],[\"sun\"],[\"rain\"],[\"rain\"],[\"rain\"],[\"drizzle\"],[\"sun\"],[\"rain\"],[\"rain\"],[\"rain\"],[\"rain\"],[\"drizzle\"],[\"snow\"],[\"rain\"],[\"rain\"],[\"sun\"],[\"drizzle\"],[\"sun\"],[\"sun\"],[\"rain\"],[\"rain\"],[\"sun\"],[\"sun\"],[\"sun\"],[\"sun\"],[\"rain\"],[\"rain\"],[\"sun\"],[\"rain\"],[\"rain\"],[\"sun\"],[\"fog\"],[\"rain\"],[\"sun\"],[\"rain\"],[\"sun\"],[\"sun\"],[\"sun\"],[\"rain\"],[\"rain\"],[\"sun\"],[\"rain\"],[\"rain\"],[\"sun\"],[\"rain\"],[\"rain\"],[\"fog\"],[\"rain\"],[\"sun\"],[\"sun\"],[\"sun\"],[\"rain\"],[\"sun\"],[\"fog\"],[\"rain\"],[\"rain\"],[\"rain\"],[\"sun\"],[\"sun\"],[\"rain\"],[\"sun\"],[\"rain\"],[\"rain\"],[\"sun\"],[\"rain\"],[\"rain\"],[\"rain\"],[\"rain\"],[\"sun\"],[\"sun\"],[\"sun\"],[\"rain\"],[\"rain\"],[\"rain\"],[\"rain\"],[\"drizzle\"],[\"sun\"],[\"rain\"],[\"fog\"],[\"rain\"],[\"rain\"],[\"rain\"],[\"drizzle\"],[\"rain\"],[\"sun\"],[\"rain\"],[\"sun\"],[\"fog\"],[\"rain\"],[\"sun\"],[\"rain\"],[\"rain\"],[\"sun\"],[\"sun\"],[\"sun\"],[\"sun\"],[\"rain\"],[\"rain\"],[\"rain\"],[\"rain\"],[\"fog\"],[\"sun\"],[\"rain\"],[\"rain\"],[\"sun\"],[\"sun\"],[\"rain\"],[\"sun\"],[\"rain\"],[\"rain\"],[\"sun\"],[\"rain\"],[\"rain\"],[\"sun\"],[\"sun\"],[\"sun\"],[\"rain\"],[\"rain\"],[\"sun\"],[\"sun\"],[\"drizzle\"],[\"sun\"],[\"rain\"],[\"sun\"],[\"rain\"],[\"sun\"],[\"sun\"],[\"sun\"],[\"sun\"],[\"rain\"],[\"sun\"],[\"sun\"],[\"fog\"],[\"sun\"],[\"rain\"],[\"rain\"],[\"fog\"],[\"sun\"],[\"rain\"],[\"sun\"],[\"rain\"],[\"sun\"],[\"sun\"],[\"sun\"],[\"rain\"],[\"rain\"],[\"rain\"],[\"rain\"],[\"sun\"],[\"rain\"],[\"rain\"],[\"sun\"],[\"sun\"],[\"sun\"],[\"sun\"],[\"sun\"],[\"sun\"],[\"sun\"],[\"fog\"],[\"sun\"],[\"rain\"],[\"sun\"],[\"rain\"],[\"sun\"],[\"sun\"],[\"rain\"],[\"rain\"],[\"fog\"],[\"fog\"],[\"rain\"],[\"fog\"],[\"rain\"],[\"rain\"],[\"sun\"],[\"rain\"],[\"sun\"],[\"sun\"],[\"sun\"],[\"rain\"],[\"drizzle\"],[\"sun\"],[\"sun\"],[\"rain\"],[\"rain\"],[\"sun\"],[\"fog\"],[\"sun\"],[\"rain\"],[\"rain\"],[\"fog\"],[\"sun\"],[\"rain\"],[\"sun\"],[\"snow\"],[\"sun\"],[\"rain\"],[\"rain\"],[\"sun\"],[\"sun\"],[\"sun\"],[\"sun\"],[\"rain\"],[\"sun\"],[\"sun\"],[\"sun\"],[\"sun\"],[\"rain\"],[\"rain\"],[\"sun\"],[\"sun\"],[\"sun\"],[\"sun\"],[\"sun\"],[\"sun\"],[\"sun\"],[\"fog\"],[\"rain\"],[\"rain\"],[\"rain\"],[\"rain\"],[\"sun\"],[\"sun\"],[\"snow\"],[\"sun\"],[\"rain\"],[\"rain\"],[\"sun\"],[\"rain\"],[\"rain\"],[\"sun\"],[\"sun\"],[\"sun\"],[\"sun\"],[\"sun\"],[\"rain\"],[\"sun\"],[\"rain\"],[\"fog\"],[\"sun\"],[\"rain\"],[\"sun\"],[\"fog\"],[\"rain\"],[\"sun\"],[\"sun\"],[\"rain\"],[\"sun\"],[\"sun\"],[\"rain\"],[\"fog\"],[\"sun\"],[\"sun\"],[\"rain\"],[\"sun\"],[\"fog\"],[\"sun\"],[\"sun\"],[\"rain\"],[\"rain\"],[\"rain\"],[\"sun\"],[\"rain\"],[\"sun\"],[\"rain\"],[\"snow\"],[\"sun\"],[\"fog\"],[\"sun\"],[\"sun\"],[\"rain\"],[\"sun\"],[\"rain\"],[\"sun\"],[\"sun\"],[\"rain\"],[\"rain\"],[\"sun\"],[\"fog\"],[\"rain\"],[\"fog\"],[\"sun\"],[\"sun\"],[\"fog\"],[\"fog\"],[\"sun\"],[\"sun\"],[\"rain\"],[\"rain\"],[\"rain\"],[\"rain\"],[\"sun\"],[\"sun\"],[\"sun\"],[\"rain\"],[\"rain\"],[\"sun\"],[\"sun\"],[\"sun\"],[\"sun\"],[\"sun\"],[\"fog\"],[\"rain\"],[\"sun\"],[\"sun\"],[\"sun\"],[\"sun\"],[\"sun\"],[\"rain\"],[\"sun\"],[\"drizzle\"],[\"rain\"],[\"rain\"],[\"sun\"],[\"sun\"],[\"sun\"],[\"rain\"],[\"fog\"],[\"drizzle\"],[\"sun\"],[\"sun\"],[\"sun\"],[\"sun\"],[\"rain\"],[\"sun\"],[\"sun\"],[\"sun\"],[\"drizzle\"],[\"sun\"],[\"sun\"],[\"sun\"],[\"sun\"],[\"rain\"],[\"sun\"],[\"rain\"],[\"sun\"],[\"rain\"],[\"sun\"],[\"fog\"],[\"sun\"],[\"rain\"],[\"rain\"],[\"fog\"],[\"rain\"],[\"rain\"],[\"rain\"],[\"rain\"],[\"sun\"],[\"rain\"],[\"fog\"],[\"rain\"],[\"sun\"],[\"sun\"],[\"rain\"],[\"rain\"],[\"sun\"],[\"sun\"],[\"sun\"],[\"sun\"],[\"sun\"],[\"sun\"],[\"rain\"],[\"drizzle\"],[\"rain\"],[\"rain\"],[\"rain\"],[\"rain\"],[\"rain\"],[\"sun\"],[\"rain\"],[\"fog\"],[\"sun\"],[\"rain\"],[\"sun\"],[\"rain\"],[\"sun\"],[\"rain\"],[\"rain\"],[\"sun\"],[\"rain\"],[\"rain\"],[\"sun\"],[\"rain\"],[\"sun\"],[\"rain\"],[\"rain\"],[\"sun\"],[\"rain\"],[\"sun\"],[\"rain\"],[\"sun\"],[\"sun\"],[\"sun\"],[\"fog\"],[\"rain\"],[\"sun\"],[\"rain\"],[\"rain\"],[\"sun\"],[\"rain\"],[\"sun\"],[\"sun\"],[\"rain\"],[\"sun\"],[\"sun\"],[\"rain\"],[\"sun\"],[\"snow\"],[\"rain\"],[\"rain\"],[\"sun\"],[\"sun\"],[\"rain\"],[\"sun\"],[\"rain\"],[\"sun\"],[\"rain\"],[\"rain\"],[\"sun\"],[\"rain\"],[\"sun\"],[\"sun\"],[\"sun\"],[\"fog\"],[\"sun\"],[\"sun\"],[\"drizzle\"],[\"fog\"],[\"rain\"],[\"rain\"],[\"sun\"],[\"sun\"],[\"fog\"],[\"drizzle\"],[\"rain\"],[\"rain\"],[\"fog\"],[\"sun\"],[\"rain\"],[\"sun\"],[\"rain\"],[\"rain\"],[\"fog\"],[\"fog\"],[\"sun\"],[\"rain\"],[\"rain\"],[\"sun\"],[\"sun\"],[\"snow\"],[\"sun\"],[\"rain\"],[\"sun\"],[\"sun\"],[\"sun\"],[\"rain\"],[\"sun\"],[\"sun\"],[\"sun\"],[\"sun\"],[\"sun\"],[\"sun\"],[\"rain\"],[\"rain\"],[\"snow\"],[\"rain\"],[\"rain\"],[\"rain\"],[\"sun\"],[\"fog\"],[\"sun\"],[\"rain\"],[\"sun\"],[\"sun\"],[\"rain\"],[\"sun\"],[\"sun\"],[\"rain\"],[\"rain\"],[\"sun\"],[\"rain\"],[\"rain\"],[\"rain\"],[\"rain\"],[\"rain\"],[\"rain\"],[\"rain\"],[\"rain\"],[\"rain\"],[\"rain\"],[\"rain\"],[\"rain\"],[\"rain\"],[\"sun\"],[\"rain\"],[\"fog\"],[\"rain\"],[\"rain\"],[\"snow\"],[\"rain\"],[\"rain\"],[\"sun\"],[\"sun\"],[\"drizzle\"],[\"rain\"],[\"sun\"],[\"rain\"],[\"rain\"],[\"sun\"],[\"sun\"],[\"rain\"],[\"rain\"],[\"fog\"],[\"rain\"],[\"rain\"],[\"sun\"],[\"sun\"],[\"sun\"],[\"sun\"],[\"sun\"],[\"sun\"],[\"rain\"],[\"rain\"],[\"sun\"],[\"rain\"],[\"rain\"],[\"sun\"],[\"fog\"],[\"sun\"],[\"rain\"],[\"rain\"],[\"sun\"],[\"rain\"],[\"sun\"],[\"rain\"],[\"sun\"],[\"fog\"],[\"rain\"],[\"rain\"],[\"rain\"],[\"sun\"],[\"rain\"],[\"sun\"],[\"drizzle\"],[\"sun\"],[\"sun\"],[\"rain\"],[\"sun\"],[\"sun\"],[\"fog\"],[\"drizzle\"],[\"sun\"],[\"sun\"],[\"sun\"],[\"fog\"],[\"fog\"],[\"sun\"],[\"sun\"],[\"sun\"],[\"rain\"],[\"sun\"],[\"rain\"],[\"rain\"],[\"rain\"],[\"sun\"],[\"sun\"],[\"rain\"],[\"sun\"],[\"rain\"],[\"sun\"],[\"sun\"],[\"rain\"],[\"fog\"],[\"sun\"],[\"rain\"],[\"fog\"],[\"sun\"],[\"rain\"],[\"rain\"],[\"rain\"],[\"rain\"],[\"rain\"],[\"rain\"],[\"rain\"],[\"sun\"],[\"rain\"],[\"rain\"],[\"rain\"],[\"rain\"],[\"rain\"],[\"rain\"],[\"rain\"],[\"fog\"],[\"sun\"],[\"rain\"],[\"sun\"],[\"rain\"],[\"sun\"],[\"sun\"],[\"rain\"],[\"drizzle\"],[\"rain\"],[\"rain\"],[\"rain\"],[\"sun\"],[\"fog\"],[\"rain\"],[\"snow\"],[\"rain\"],[\"rain\"],[\"rain\"],[\"sun\"],[\"sun\"],[\"rain\"],[\"sun\"],[\"sun\"],[\"rain\"],[\"rain\"],[\"sun\"],[\"rain\"],[\"sun\"],[\"sun\"],[\"rain\"],[\"rain\"],[\"rain\"],[\"rain\"],[\"rain\"],[\"sun\"],[\"rain\"],[\"rain\"],[\"sun\"],[\"sun\"],[\"sun\"],[\"rain\"],[\"rain\"],[\"rain\"],[\"rain\"],[\"rain\"],[\"rain\"],[\"sun\"],[\"sun\"],[\"rain\"],[\"rain\"],[\"sun\"],[\"sun\"],[\"sun\"],[\"sun\"],[\"sun\"],[\"sun\"],[\"rain\"],[\"drizzle\"],[\"rain\"],[\"sun\"],[\"sun\"],[\"rain\"],[\"fog\"],[\"sun\"],[\"sun\"],[\"rain\"],[\"rain\"],[\"sun\"],[\"rain\"],[\"sun\"],[\"rain\"],[\"sun\"],[\"rain\"],[\"rain\"],[\"sun\"],[\"rain\"],[\"sun\"],[\"rain\"],[\"sun\"],[\"sun\"],[\"sun\"],[\"rain\"],[\"sun\"],[\"sun\"],[\"rain\"],[\"sun\"],[\"sun\"],[\"rain\"],[\"sun\"],[\"sun\"],[\"sun\"],[\"rain\"],[\"sun\"],[\"sun\"],[\"rain\"],[\"sun\"],[\"sun\"],[\"drizzle\"],[\"sun\"],[\"rain\"],[\"rain\"],[\"fog\"],[\"rain\"],[\"sun\"],[\"sun\"],[\"rain\"],[\"sun\"],[\"rain\"],[\"sun\"],[\"fog\"],[\"snow\"],[\"sun\"],[\"rain\"],[\"rain\"],[\"rain\"],[\"rain\"],[\"rain\"],[\"fog\"],[\"rain\"],[\"sun\"],[\"sun\"],[\"snow\"],[\"rain\"],[\"sun\"],[\"rain\"],[\"snow\"],[\"sun\"],[\"sun\"],[\"rain\"],[\"rain\"],[\"drizzle\"],[\"sun\"],[\"rain\"],[\"sun\"],[\"sun\"],[\"rain\"],[\"rain\"],[\"sun\"],[\"fog\"],[\"sun\"],[\"sun\"],[\"rain\"],[\"rain\"],[\"sun\"],[\"rain\"],[\"fog\"],[\"sun\"],[\"sun\"],[\"sun\"],[\"sun\"],[\"snow\"],[\"rain\"],[\"sun\"],[\"sun\"],[\"sun\"],[\"sun\"],[\"sun\"],[\"sun\"],[\"fog\"],[\"rain\"],[\"sun\"],[\"rain\"],[\"rain\"],[\"drizzle\"],[\"fog\"],[\"rain\"],[\"rain\"],[\"rain\"],[\"rain\"],[\"sun\"],[\"rain\"],[\"rain\"],[\"rain\"],[\"fog\"],[\"sun\"],[\"rain\"],[\"sun\"],[\"rain\"],[\"rain\"],[\"sun\"],[\"rain\"],[\"rain\"],[\"rain\"],[\"rain\"],[\"sun\"],[\"rain\"],[\"rain\"],[\"fog\"],[\"sun\"],[\"rain\"],[\"sun\"],[\"rain\"],[\"rain\"],[\"rain\"],[\"drizzle\"],[\"rain\"],[\"sun\"],[\"fog\"],[\"fog\"],[\"rain\"],[\"fog\"],[\"rain\"],[\"rain\"],[\"sun\"],[\"rain\"],[\"fog\"],[\"sun\"],[\"sun\"],[\"rain\"],[\"rain\"],[\"sun\"],[\"fog\"],[\"sun\"],[\"rain\"],[\"fog\"],[\"sun\"],[\"sun\"],[\"drizzle\"],[\"snow\"],[\"rain\"],[\"sun\"],[\"rain\"],[\"rain\"],[\"sun\"],[\"rain\"],[\"rain\"],[\"sun\"],[\"rain\"],[\"rain\"],[\"fog\"],[\"rain\"],[\"sun\"],[\"sun\"],[\"fog\"],[\"fog\"],[\"sun\"],[\"rain\"],[\"rain\"],[\"rain\"],[\"rain\"],[\"rain\"],[\"rain\"],[\"sun\"],[\"fog\"],[\"rain\"],[\"sun\"],[\"sun\"],[\"rain\"],[\"fog\"],[\"rain\"],[\"fog\"],[\"rain\"],[\"sun\"],[\"sun\"],[\"rain\"],[\"sun\"],[\"rain\"],[\"sun\"],[\"rain\"],[\"sun\"],[\"snow\"],[\"fog\"],[\"rain\"],[\"sun\"],[\"fog\"],[\"sun\"],[\"rain\"],[\"sun\"],[\"sun\"],[\"drizzle\"],[\"sun\"],[\"rain\"],[\"rain\"],[\"rain\"],[\"drizzle\"],[\"rain\"],[\"drizzle\"],[\"rain\"],[\"rain\"],[\"fog\"],[\"sun\"],[\"rain\"],[\"drizzle\"],[\"sun\"],[\"fog\"],[\"rain\"],[\"rain\"],[\"sun\"],[\"rain\"],[\"sun\"],[\"fog\"],[\"sun\"],[\"rain\"],[\"sun\"],[\"sun\"],[\"sun\"],[\"rain\"],[\"sun\"],[\"sun\"],[\"rain\"],[\"rain\"],[\"snow\"],[\"sun\"],[\"sun\"],[\"rain\"],[\"sun\"],[\"sun\"],[\"sun\"],[\"rain\"],[\"rain\"],[\"rain\"],[\"sun\"],[\"snow\"],[\"sun\"],[\"sun\"],[\"rain\"],[\"rain\"],[\"sun\"],[\"sun\"],[\"fog\"],[\"rain\"],[\"sun\"],[\"sun\"],[\"rain\"],[\"sun\"],[\"fog\"],[\"rain\"],[\"sun\"],[\"rain\"],[\"rain\"],[\"rain\"],[\"rain\"],[\"sun\"],[\"sun\"],[\"snow\"],[\"snow\"],[\"sun\"],[\"rain\"],[\"rain\"],[\"sun\"],[\"rain\"],[\"sun\"],[\"sun\"],[\"rain\"],[\"rain\"],[\"rain\"],[\"rain\"],[\"sun\"],[\"sun\"],[\"sun\"],[\"sun\"],[\"rain\"],[\"rain\"],[\"fog\"],[\"rain\"],[\"sun\"],[\"rain\"],[\"sun\"],[\"sun\"],[\"rain\"],[\"drizzle\"],[\"fog\"],[\"sun\"],[\"sun\"],[\"rain\"],[\"rain\"],[\"sun\"],[\"sun\"],[\"sun\"],[\"sun\"],[\"rain\"],[\"sun\"],[\"sun\"],[\"rain\"],[\"rain\"],[\"drizzle\"],[\"fog\"],[\"rain\"],[\"sun\"],[\"rain\"],[\"snow\"],[\"sun\"],[\"rain\"],[\"rain\"],[\"sun\"],[\"rain\"],[\"sun\"],[\"sun\"],[\"fog\"],[\"rain\"],[\"sun\"],[\"sun\"],[\"rain\"],[\"rain\"],[\"fog\"],[\"sun\"],[\"rain\"],[\"rain\"],[\"sun\"],[\"sun\"],[\"sun\"],[\"sun\"],[\"sun\"],[\"rain\"],[\"rain\"],[\"rain\"],[\"rain\"],[\"drizzle\"],[\"sun\"],[\"sun\"],[\"rain\"],[\"rain\"],[\"rain\"],[\"sun\"],[\"rain\"],[\"rain\"],[\"rain\"],[\"rain\"],[\"sun\"],[\"rain\"],[\"sun\"],[\"sun\"],[\"rain\"],[\"fog\"],[\"sun\"],[\"sun\"],[\"rain\"],[\"sun\"],[\"drizzle\"],[\"rain\"],[\"fog\"],[\"sun\"],[\"sun\"],[\"sun\"],[\"drizzle\"],[\"rain\"],[\"sun\"],[\"sun\"],[\"sun\"],[\"sun\"],[\"rain\"],[\"rain\"],[\"sun\"],[\"drizzle\"],[\"sun\"],[\"drizzle\"],[\"rain\"],[\"rain\"],[\"drizzle\"],[\"rain\"],[\"drizzle\"],[\"sun\"],[\"rain\"],[\"sun\"],[\"sun\"],[\"snow\"],[\"snow\"],[\"rain\"],[\"sun\"],[\"rain\"],[\"rain\"],[\"sun\"],[\"sun\"],[\"sun\"],[\"rain\"],[\"rain\"],[\"rain\"],[\"rain\"],[\"sun\"],[\"drizzle\"],[\"sun\"],[\"drizzle\"],[\"sun\"],[\"rain\"],[\"sun\"],[\"sun\"],[\"sun\"],[\"sun\"],[\"rain\"],[\"rain\"],[\"sun\"],[\"drizzle\"],[\"rain\"],[\"sun\"],[\"sun\"],[\"rain\"],[\"sun\"],[\"rain\"],[\"sun\"],[\"sun\"],[\"sun\"],[\"rain\"],[\"sun\"],[\"rain\"],[\"sun\"],[\"rain\"],[\"rain\"],[\"sun\"],[\"rain\"],[\"rain\"],[\"rain\"],[\"sun\"],[\"sun\"],[\"sun\"],[\"sun\"],[\"sun\"],[\"rain\"],[\"rain\"],[\"rain\"],[\"rain\"],[\"rain\"],[\"sun\"],[\"rain\"],[\"sun\"],[\"sun\"],[\"sun\"],[\"sun\"],[\"rain\"],[\"rain\"],[\"rain\"],[\"sun\"],[\"sun\"],[\"rain\"],[\"sun\"],[\"rain\"],[\"rain\"],[\"sun\"],[\"rain\"],[\"sun\"],[\"sun\"],[\"sun\"],[\"sun\"],[\"sun\"],[\"sun\"],[\"sun\"],[\"rain\"],[\"rain\"],[\"rain\"],[\"rain\"],[\"sun\"],[\"rain\"],[\"sun\"],[\"drizzle\"],[\"rain\"],[\"rain\"],[\"rain\"],[\"rain\"],[\"sun\"],[\"rain\"],[\"rain\"],[\"sun\"],[\"rain\"],[\"rain\"],[\"sun\"],[\"rain\"],[\"fog\"],[\"sun\"],[\"fog\"],[\"rain\"],[\"sun\"],[\"rain\"],[\"rain\"],[\"sun\"],[\"sun\"],[\"rain\"],[\"rain\"],[\"sun\"],[\"rain\"],[\"rain\"],[\"sun\"],[\"sun\"],[\"fog\"],[\"sun\"],[\"rain\"],[\"rain\"],[\"sun\"],[\"rain\"],[\"rain\"],[\"rain\"],[\"fog\"],[\"sun\"],[\"rain\"],[\"sun\"],[\"rain\"],[\"sun\"],[\"rain\"],[\"drizzle\"],[\"rain\"],[\"rain\"],[\"sun\"],[\"rain\"],[\"sun\"],[\"rain\"],[\"rain\"],[\"rain\"],[\"sun\"],[\"rain\"]],\"domain\":{\"x\":[0.0,1.0],\"y\":[0.0,1.0]},\"hovertemplate\":\"weather=%{customdata[0]}<extra></extra>\",\"labels\":[\"drizzle\",\"rain\",\"sun\",\"rain\",\"sun\",\"rain\",\"rain\",\"rain\",\"fog\",\"rain\",\"rain\",\"rain\",\"rain\",\"sun\",\"sun\",\"rain\",\"sun\",\"sun\",\"fog\",\"rain\",\"sun\",\"sun\",\"sun\",\"rain\",\"fog\",\"sun\",\"sun\",\"rain\",\"sun\",\"drizzle\",\"snow\",\"drizzle\",\"sun\",\"sun\",\"sun\",\"sun\",\"rain\",\"rain\",\"sun\",\"sun\",\"rain\",\"sun\",\"sun\",\"drizzle\",\"rain\",\"rain\",\"sun\",\"sun\",\"rain\",\"rain\",\"rain\",\"rain\",\"rain\",\"rain\",\"sun\",\"sun\",\"rain\",\"rain\",\"rain\",\"sun\",\"sun\",\"sun\",\"rain\",\"rain\",\"rain\",\"sun\",\"rain\",\"sun\",\"fog\",\"rain\",\"rain\",\"sun\",\"sun\",\"sun\",\"rain\",\"sun\",\"rain\",\"sun\",\"sun\",\"rain\",\"rain\",\"snow\",\"fog\",\"sun\",\"sun\",\"rain\",\"sun\",\"rain\",\"sun\",\"sun\",\"sun\",\"rain\",\"sun\",\"sun\",\"rain\",\"sun\",\"sun\",\"sun\",\"rain\",\"rain\",\"rain\",\"rain\",\"sun\",\"sun\",\"sun\",\"sun\",\"rain\",\"rain\",\"snow\",\"sun\",\"rain\",\"sun\",\"sun\",\"rain\",\"drizzle\",\"sun\",\"rain\",\"sun\",\"rain\",\"rain\",\"sun\",\"rain\",\"rain\",\"drizzle\",\"rain\",\"rain\",\"sun\",\"rain\",\"rain\",\"rain\",\"sun\",\"rain\",\"rain\",\"sun\",\"sun\",\"sun\",\"sun\",\"sun\",\"rain\",\"sun\",\"rain\",\"rain\",\"rain\",\"rain\",\"sun\",\"rain\",\"drizzle\",\"sun\",\"sun\",\"fog\",\"rain\",\"sun\",\"rain\",\"sun\",\"rain\",\"rain\",\"rain\",\"sun\",\"rain\",\"fog\",\"rain\",\"rain\",\"rain\",\"sun\",\"rain\",\"sun\",\"sun\",\"rain\",\"rain\",\"sun\",\"sun\",\"rain\",\"sun\",\"rain\",\"sun\",\"sun\",\"rain\",\"rain\",\"sun\",\"rain\",\"rain\",\"rain\",\"sun\",\"rain\",\"sun\",\"rain\",\"fog\",\"sun\",\"sun\",\"sun\",\"sun\",\"sun\",\"sun\",\"sun\",\"rain\",\"rain\",\"sun\",\"sun\",\"sun\",\"sun\",\"snow\",\"drizzle\",\"rain\",\"sun\",\"rain\",\"rain\",\"sun\",\"fog\",\"sun\",\"rain\",\"sun\",\"rain\",\"sun\",\"sun\",\"rain\",\"rain\",\"fog\",\"sun\",\"rain\",\"rain\",\"rain\",\"sun\",\"rain\",\"sun\",\"sun\",\"drizzle\",\"sun\",\"rain\",\"rain\",\"sun\",\"rain\",\"rain\",\"sun\",\"rain\",\"sun\",\"rain\",\"sun\",\"sun\",\"sun\",\"sun\",\"sun\",\"sun\",\"sun\",\"sun\",\"rain\",\"drizzle\",\"sun\",\"rain\",\"sun\",\"sun\",\"rain\",\"sun\",\"rain\",\"sun\",\"fog\",\"sun\",\"rain\",\"rain\",\"rain\",\"rain\",\"rain\",\"rain\",\"sun\",\"fog\",\"rain\",\"rain\",\"rain\",\"drizzle\",\"rain\",\"sun\",\"sun\",\"drizzle\",\"sun\",\"sun\",\"rain\",\"rain\",\"rain\",\"drizzle\",\"sun\",\"rain\",\"rain\",\"rain\",\"rain\",\"drizzle\",\"snow\",\"rain\",\"rain\",\"sun\",\"drizzle\",\"sun\",\"sun\",\"rain\",\"rain\",\"sun\",\"sun\",\"sun\",\"sun\",\"rain\",\"rain\",\"sun\",\"rain\",\"rain\",\"sun\",\"fog\",\"rain\",\"sun\",\"rain\",\"sun\",\"sun\",\"sun\",\"rain\",\"rain\",\"sun\",\"rain\",\"rain\",\"sun\",\"rain\",\"rain\",\"fog\",\"rain\",\"sun\",\"sun\",\"sun\",\"rain\",\"sun\",\"fog\",\"rain\",\"rain\",\"rain\",\"sun\",\"sun\",\"rain\",\"sun\",\"rain\",\"rain\",\"sun\",\"rain\",\"rain\",\"rain\",\"rain\",\"sun\",\"sun\",\"sun\",\"rain\",\"rain\",\"rain\",\"rain\",\"drizzle\",\"sun\",\"rain\",\"fog\",\"rain\",\"rain\",\"rain\",\"drizzle\",\"rain\",\"sun\",\"rain\",\"sun\",\"fog\",\"rain\",\"sun\",\"rain\",\"rain\",\"sun\",\"sun\",\"sun\",\"sun\",\"rain\",\"rain\",\"rain\",\"rain\",\"fog\",\"sun\",\"rain\",\"rain\",\"sun\",\"sun\",\"rain\",\"sun\",\"rain\",\"rain\",\"sun\",\"rain\",\"rain\",\"sun\",\"sun\",\"sun\",\"rain\",\"rain\",\"sun\",\"sun\",\"drizzle\",\"sun\",\"rain\",\"sun\",\"rain\",\"sun\",\"sun\",\"sun\",\"sun\",\"rain\",\"sun\",\"sun\",\"fog\",\"sun\",\"rain\",\"rain\",\"fog\",\"sun\",\"rain\",\"sun\",\"rain\",\"sun\",\"sun\",\"sun\",\"rain\",\"rain\",\"rain\",\"rain\",\"sun\",\"rain\",\"rain\",\"sun\",\"sun\",\"sun\",\"sun\",\"sun\",\"sun\",\"sun\",\"fog\",\"sun\",\"rain\",\"sun\",\"rain\",\"sun\",\"sun\",\"rain\",\"rain\",\"fog\",\"fog\",\"rain\",\"fog\",\"rain\",\"rain\",\"sun\",\"rain\",\"sun\",\"sun\",\"sun\",\"rain\",\"drizzle\",\"sun\",\"sun\",\"rain\",\"rain\",\"sun\",\"fog\",\"sun\",\"rain\",\"rain\",\"fog\",\"sun\",\"rain\",\"sun\",\"snow\",\"sun\",\"rain\",\"rain\",\"sun\",\"sun\",\"sun\",\"sun\",\"rain\",\"sun\",\"sun\",\"sun\",\"sun\",\"rain\",\"rain\",\"sun\",\"sun\",\"sun\",\"sun\",\"sun\",\"sun\",\"sun\",\"fog\",\"rain\",\"rain\",\"rain\",\"rain\",\"sun\",\"sun\",\"snow\",\"sun\",\"rain\",\"rain\",\"sun\",\"rain\",\"rain\",\"sun\",\"sun\",\"sun\",\"sun\",\"sun\",\"rain\",\"sun\",\"rain\",\"fog\",\"sun\",\"rain\",\"sun\",\"fog\",\"rain\",\"sun\",\"sun\",\"rain\",\"sun\",\"sun\",\"rain\",\"fog\",\"sun\",\"sun\",\"rain\",\"sun\",\"fog\",\"sun\",\"sun\",\"rain\",\"rain\",\"rain\",\"sun\",\"rain\",\"sun\",\"rain\",\"snow\",\"sun\",\"fog\",\"sun\",\"sun\",\"rain\",\"sun\",\"rain\",\"sun\",\"sun\",\"rain\",\"rain\",\"sun\",\"fog\",\"rain\",\"fog\",\"sun\",\"sun\",\"fog\",\"fog\",\"sun\",\"sun\",\"rain\",\"rain\",\"rain\",\"rain\",\"sun\",\"sun\",\"sun\",\"rain\",\"rain\",\"sun\",\"sun\",\"sun\",\"sun\",\"sun\",\"fog\",\"rain\",\"sun\",\"sun\",\"sun\",\"sun\",\"sun\",\"rain\",\"sun\",\"drizzle\",\"rain\",\"rain\",\"sun\",\"sun\",\"sun\",\"rain\",\"fog\",\"drizzle\",\"sun\",\"sun\",\"sun\",\"sun\",\"rain\",\"sun\",\"sun\",\"sun\",\"drizzle\",\"sun\",\"sun\",\"sun\",\"sun\",\"rain\",\"sun\",\"rain\",\"sun\",\"rain\",\"sun\",\"fog\",\"sun\",\"rain\",\"rain\",\"fog\",\"rain\",\"rain\",\"rain\",\"rain\",\"sun\",\"rain\",\"fog\",\"rain\",\"sun\",\"sun\",\"rain\",\"rain\",\"sun\",\"sun\",\"sun\",\"sun\",\"sun\",\"sun\",\"rain\",\"drizzle\",\"rain\",\"rain\",\"rain\",\"rain\",\"rain\",\"sun\",\"rain\",\"fog\",\"sun\",\"rain\",\"sun\",\"rain\",\"sun\",\"rain\",\"rain\",\"sun\",\"rain\",\"rain\",\"sun\",\"rain\",\"sun\",\"rain\",\"rain\",\"sun\",\"rain\",\"sun\",\"rain\",\"sun\",\"sun\",\"sun\",\"fog\",\"rain\",\"sun\",\"rain\",\"rain\",\"sun\",\"rain\",\"sun\",\"sun\",\"rain\",\"sun\",\"sun\",\"rain\",\"sun\",\"snow\",\"rain\",\"rain\",\"sun\",\"sun\",\"rain\",\"sun\",\"rain\",\"sun\",\"rain\",\"rain\",\"sun\",\"rain\",\"sun\",\"sun\",\"sun\",\"fog\",\"sun\",\"sun\",\"drizzle\",\"fog\",\"rain\",\"rain\",\"sun\",\"sun\",\"fog\",\"drizzle\",\"rain\",\"rain\",\"fog\",\"sun\",\"rain\",\"sun\",\"rain\",\"rain\",\"fog\",\"fog\",\"sun\",\"rain\",\"rain\",\"sun\",\"sun\",\"snow\",\"sun\",\"rain\",\"sun\",\"sun\",\"sun\",\"rain\",\"sun\",\"sun\",\"sun\",\"sun\",\"sun\",\"sun\",\"rain\",\"rain\",\"snow\",\"rain\",\"rain\",\"rain\",\"sun\",\"fog\",\"sun\",\"rain\",\"sun\",\"sun\",\"rain\",\"sun\",\"sun\",\"rain\",\"rain\",\"sun\",\"rain\",\"rain\",\"rain\",\"rain\",\"rain\",\"rain\",\"rain\",\"rain\",\"rain\",\"rain\",\"rain\",\"rain\",\"rain\",\"sun\",\"rain\",\"fog\",\"rain\",\"rain\",\"snow\",\"rain\",\"rain\",\"sun\",\"sun\",\"drizzle\",\"rain\",\"sun\",\"rain\",\"rain\",\"sun\",\"sun\",\"rain\",\"rain\",\"fog\",\"rain\",\"rain\",\"sun\",\"sun\",\"sun\",\"sun\",\"sun\",\"sun\",\"rain\",\"rain\",\"sun\",\"rain\",\"rain\",\"sun\",\"fog\",\"sun\",\"rain\",\"rain\",\"sun\",\"rain\",\"sun\",\"rain\",\"sun\",\"fog\",\"rain\",\"rain\",\"rain\",\"sun\",\"rain\",\"sun\",\"drizzle\",\"sun\",\"sun\",\"rain\",\"sun\",\"sun\",\"fog\",\"drizzle\",\"sun\",\"sun\",\"sun\",\"fog\",\"fog\",\"sun\",\"sun\",\"sun\",\"rain\",\"sun\",\"rain\",\"rain\",\"rain\",\"sun\",\"sun\",\"rain\",\"sun\",\"rain\",\"sun\",\"sun\",\"rain\",\"fog\",\"sun\",\"rain\",\"fog\",\"sun\",\"rain\",\"rain\",\"rain\",\"rain\",\"rain\",\"rain\",\"rain\",\"sun\",\"rain\",\"rain\",\"rain\",\"rain\",\"rain\",\"rain\",\"rain\",\"fog\",\"sun\",\"rain\",\"sun\",\"rain\",\"sun\",\"sun\",\"rain\",\"drizzle\",\"rain\",\"rain\",\"rain\",\"sun\",\"fog\",\"rain\",\"snow\",\"rain\",\"rain\",\"rain\",\"sun\",\"sun\",\"rain\",\"sun\",\"sun\",\"rain\",\"rain\",\"sun\",\"rain\",\"sun\",\"sun\",\"rain\",\"rain\",\"rain\",\"rain\",\"rain\",\"sun\",\"rain\",\"rain\",\"sun\",\"sun\",\"sun\",\"rain\",\"rain\",\"rain\",\"rain\",\"rain\",\"rain\",\"sun\",\"sun\",\"rain\",\"rain\",\"sun\",\"sun\",\"sun\",\"sun\",\"sun\",\"sun\",\"rain\",\"drizzle\",\"rain\",\"sun\",\"sun\",\"rain\",\"fog\",\"sun\",\"sun\",\"rain\",\"rain\",\"sun\",\"rain\",\"sun\",\"rain\",\"sun\",\"rain\",\"rain\",\"sun\",\"rain\",\"sun\",\"rain\",\"sun\",\"sun\",\"sun\",\"rain\",\"sun\",\"sun\",\"rain\",\"sun\",\"sun\",\"rain\",\"sun\",\"sun\",\"sun\",\"rain\",\"sun\",\"sun\",\"rain\",\"sun\",\"sun\",\"drizzle\",\"sun\",\"rain\",\"rain\",\"fog\",\"rain\",\"sun\",\"sun\",\"rain\",\"sun\",\"rain\",\"sun\",\"fog\",\"snow\",\"sun\",\"rain\",\"rain\",\"rain\",\"rain\",\"rain\",\"fog\",\"rain\",\"sun\",\"sun\",\"snow\",\"rain\",\"sun\",\"rain\",\"snow\",\"sun\",\"sun\",\"rain\",\"rain\",\"drizzle\",\"sun\",\"rain\",\"sun\",\"sun\",\"rain\",\"rain\",\"sun\",\"fog\",\"sun\",\"sun\",\"rain\",\"rain\",\"sun\",\"rain\",\"fog\",\"sun\",\"sun\",\"sun\",\"sun\",\"snow\",\"rain\",\"sun\",\"sun\",\"sun\",\"sun\",\"sun\",\"sun\",\"fog\",\"rain\",\"sun\",\"rain\",\"rain\",\"drizzle\",\"fog\",\"rain\",\"rain\",\"rain\",\"rain\",\"sun\",\"rain\",\"rain\",\"rain\",\"fog\",\"sun\",\"rain\",\"sun\",\"rain\",\"rain\",\"sun\",\"rain\",\"rain\",\"rain\",\"rain\",\"sun\",\"rain\",\"rain\",\"fog\",\"sun\",\"rain\",\"sun\",\"rain\",\"rain\",\"rain\",\"drizzle\",\"rain\",\"sun\",\"fog\",\"fog\",\"rain\",\"fog\",\"rain\",\"rain\",\"sun\",\"rain\",\"fog\",\"sun\",\"sun\",\"rain\",\"rain\",\"sun\",\"fog\",\"sun\",\"rain\",\"fog\",\"sun\",\"sun\",\"drizzle\",\"snow\",\"rain\",\"sun\",\"rain\",\"rain\",\"sun\",\"rain\",\"rain\",\"sun\",\"rain\",\"rain\",\"fog\",\"rain\",\"sun\",\"sun\",\"fog\",\"fog\",\"sun\",\"rain\",\"rain\",\"rain\",\"rain\",\"rain\",\"rain\",\"sun\",\"fog\",\"rain\",\"sun\",\"sun\",\"rain\",\"fog\",\"rain\",\"fog\",\"rain\",\"sun\",\"sun\",\"rain\",\"sun\",\"rain\",\"sun\",\"rain\",\"sun\",\"snow\",\"fog\",\"rain\",\"sun\",\"fog\",\"sun\",\"rain\",\"sun\",\"sun\",\"drizzle\",\"sun\",\"rain\",\"rain\",\"rain\",\"drizzle\",\"rain\",\"drizzle\",\"rain\",\"rain\",\"fog\",\"sun\",\"rain\",\"drizzle\",\"sun\",\"fog\",\"rain\",\"rain\",\"sun\",\"rain\",\"sun\",\"fog\",\"sun\",\"rain\",\"sun\",\"sun\",\"sun\",\"rain\",\"sun\",\"sun\",\"rain\",\"rain\",\"snow\",\"sun\",\"sun\",\"rain\",\"sun\",\"sun\",\"sun\",\"rain\",\"rain\",\"rain\",\"sun\",\"snow\",\"sun\",\"sun\",\"rain\",\"rain\",\"sun\",\"sun\",\"fog\",\"rain\",\"sun\",\"sun\",\"rain\",\"sun\",\"fog\",\"rain\",\"sun\",\"rain\",\"rain\",\"rain\",\"rain\",\"sun\",\"sun\",\"snow\",\"snow\",\"sun\",\"rain\",\"rain\",\"sun\",\"rain\",\"sun\",\"sun\",\"rain\",\"rain\",\"rain\",\"rain\",\"sun\",\"sun\",\"sun\",\"sun\",\"rain\",\"rain\",\"fog\",\"rain\",\"sun\",\"rain\",\"sun\",\"sun\",\"rain\",\"drizzle\",\"fog\",\"sun\",\"sun\",\"rain\",\"rain\",\"sun\",\"sun\",\"sun\",\"sun\",\"rain\",\"sun\",\"sun\",\"rain\",\"rain\",\"drizzle\",\"fog\",\"rain\",\"sun\",\"rain\",\"snow\",\"sun\",\"rain\",\"rain\",\"sun\",\"rain\",\"sun\",\"sun\",\"fog\",\"rain\",\"sun\",\"sun\",\"rain\",\"rain\",\"fog\",\"sun\",\"rain\",\"rain\",\"sun\",\"sun\",\"sun\",\"sun\",\"sun\",\"rain\",\"rain\",\"rain\",\"rain\",\"drizzle\",\"sun\",\"sun\",\"rain\",\"rain\",\"rain\",\"sun\",\"rain\",\"rain\",\"rain\",\"rain\",\"sun\",\"rain\",\"sun\",\"sun\",\"rain\",\"fog\",\"sun\",\"sun\",\"rain\",\"sun\",\"drizzle\",\"rain\",\"fog\",\"sun\",\"sun\",\"sun\",\"drizzle\",\"rain\",\"sun\",\"sun\",\"sun\",\"sun\",\"rain\",\"rain\",\"sun\",\"drizzle\",\"sun\",\"drizzle\",\"rain\",\"rain\",\"drizzle\",\"rain\",\"drizzle\",\"sun\",\"rain\",\"sun\",\"sun\",\"snow\",\"snow\",\"rain\",\"sun\",\"rain\",\"rain\",\"sun\",\"sun\",\"sun\",\"rain\",\"rain\",\"rain\",\"rain\",\"sun\",\"drizzle\",\"sun\",\"drizzle\",\"sun\",\"rain\",\"sun\",\"sun\",\"sun\",\"sun\",\"rain\",\"rain\",\"sun\",\"drizzle\",\"rain\",\"sun\",\"sun\",\"rain\",\"sun\",\"rain\",\"sun\",\"sun\",\"sun\",\"rain\",\"sun\",\"rain\",\"sun\",\"rain\",\"rain\",\"sun\",\"rain\",\"rain\",\"rain\",\"sun\",\"sun\",\"sun\",\"sun\",\"sun\",\"rain\",\"rain\",\"rain\",\"rain\",\"rain\",\"sun\",\"rain\",\"sun\",\"sun\",\"sun\",\"sun\",\"rain\",\"rain\",\"rain\",\"sun\",\"sun\",\"rain\",\"sun\",\"rain\",\"rain\",\"sun\",\"rain\",\"sun\",\"sun\",\"sun\",\"sun\",\"sun\",\"sun\",\"sun\",\"rain\",\"rain\",\"rain\",\"rain\",\"sun\",\"rain\",\"sun\",\"drizzle\",\"rain\",\"rain\",\"rain\",\"rain\",\"sun\",\"rain\",\"rain\",\"sun\",\"rain\",\"rain\",\"sun\",\"rain\",\"fog\",\"sun\",\"fog\",\"rain\",\"sun\",\"rain\",\"rain\",\"sun\",\"sun\",\"rain\",\"rain\",\"sun\",\"rain\",\"rain\",\"sun\",\"sun\",\"fog\",\"sun\",\"rain\",\"rain\",\"sun\",\"rain\",\"rain\",\"rain\",\"fog\",\"sun\",\"rain\",\"sun\",\"rain\",\"sun\",\"rain\",\"drizzle\",\"rain\",\"rain\",\"sun\",\"rain\",\"sun\",\"rain\",\"rain\",\"rain\",\"sun\",\"rain\"],\"legendgroup\":\"\",\"marker\":{\"colors\":[\"#636efa\",\"#EF553B\",\"#00cc96\",\"#EF553B\",\"#00cc96\",\"#EF553B\",\"#EF553B\",\"#EF553B\",\"#ab63fa\",\"#EF553B\",\"#EF553B\",\"#EF553B\",\"#EF553B\",\"#00cc96\",\"#00cc96\",\"#EF553B\",\"#00cc96\",\"#00cc96\",\"#ab63fa\",\"#EF553B\",\"#00cc96\",\"#00cc96\",\"#00cc96\",\"#EF553B\",\"#ab63fa\",\"#00cc96\",\"#00cc96\",\"#EF553B\",\"#00cc96\",\"#636efa\",\"#FFA15A\",\"#636efa\",\"#00cc96\",\"#00cc96\",\"#00cc96\",\"#00cc96\",\"#EF553B\",\"#EF553B\",\"#00cc96\",\"#00cc96\",\"#EF553B\",\"#00cc96\",\"#00cc96\",\"#636efa\",\"#EF553B\",\"#EF553B\",\"#00cc96\",\"#00cc96\",\"#EF553B\",\"#EF553B\",\"#EF553B\",\"#EF553B\",\"#EF553B\",\"#EF553B\",\"#00cc96\",\"#00cc96\",\"#EF553B\",\"#EF553B\",\"#EF553B\",\"#00cc96\",\"#00cc96\",\"#00cc96\",\"#EF553B\",\"#EF553B\",\"#EF553B\",\"#00cc96\",\"#EF553B\",\"#00cc96\",\"#ab63fa\",\"#EF553B\",\"#EF553B\",\"#00cc96\",\"#00cc96\",\"#00cc96\",\"#EF553B\",\"#00cc96\",\"#EF553B\",\"#00cc96\",\"#00cc96\",\"#EF553B\",\"#EF553B\",\"#FFA15A\",\"#ab63fa\",\"#00cc96\",\"#00cc96\",\"#EF553B\",\"#00cc96\",\"#EF553B\",\"#00cc96\",\"#00cc96\",\"#00cc96\",\"#EF553B\",\"#00cc96\",\"#00cc96\",\"#EF553B\",\"#00cc96\",\"#00cc96\",\"#00cc96\",\"#EF553B\",\"#EF553B\",\"#EF553B\",\"#EF553B\",\"#00cc96\",\"#00cc96\",\"#00cc96\",\"#00cc96\",\"#EF553B\",\"#EF553B\",\"#FFA15A\",\"#00cc96\",\"#EF553B\",\"#00cc96\",\"#00cc96\",\"#EF553B\",\"#636efa\",\"#00cc96\",\"#EF553B\",\"#00cc96\",\"#EF553B\",\"#EF553B\",\"#00cc96\",\"#EF553B\",\"#EF553B\",\"#636efa\",\"#EF553B\",\"#EF553B\",\"#00cc96\",\"#EF553B\",\"#EF553B\",\"#EF553B\",\"#00cc96\",\"#EF553B\",\"#EF553B\",\"#00cc96\",\"#00cc96\",\"#00cc96\",\"#00cc96\",\"#00cc96\",\"#EF553B\",\"#00cc96\",\"#EF553B\",\"#EF553B\",\"#EF553B\",\"#EF553B\",\"#00cc96\",\"#EF553B\",\"#636efa\",\"#00cc96\",\"#00cc96\",\"#ab63fa\",\"#EF553B\",\"#00cc96\",\"#EF553B\",\"#00cc96\",\"#EF553B\",\"#EF553B\",\"#EF553B\",\"#00cc96\",\"#EF553B\",\"#ab63fa\",\"#EF553B\",\"#EF553B\",\"#EF553B\",\"#00cc96\",\"#EF553B\",\"#00cc96\",\"#00cc96\",\"#EF553B\",\"#EF553B\",\"#00cc96\",\"#00cc96\",\"#EF553B\",\"#00cc96\",\"#EF553B\",\"#00cc96\",\"#00cc96\",\"#EF553B\",\"#EF553B\",\"#00cc96\",\"#EF553B\",\"#EF553B\",\"#EF553B\",\"#00cc96\",\"#EF553B\",\"#00cc96\",\"#EF553B\",\"#ab63fa\",\"#00cc96\",\"#00cc96\",\"#00cc96\",\"#00cc96\",\"#00cc96\",\"#00cc96\",\"#00cc96\",\"#EF553B\",\"#EF553B\",\"#00cc96\",\"#00cc96\",\"#00cc96\",\"#00cc96\",\"#FFA15A\",\"#636efa\",\"#EF553B\",\"#00cc96\",\"#EF553B\",\"#EF553B\",\"#00cc96\",\"#ab63fa\",\"#00cc96\",\"#EF553B\",\"#00cc96\",\"#EF553B\",\"#00cc96\",\"#00cc96\",\"#EF553B\",\"#EF553B\",\"#ab63fa\",\"#00cc96\",\"#EF553B\",\"#EF553B\",\"#EF553B\",\"#00cc96\",\"#EF553B\",\"#00cc96\",\"#00cc96\",\"#636efa\",\"#00cc96\",\"#EF553B\",\"#EF553B\",\"#00cc96\",\"#EF553B\",\"#EF553B\",\"#00cc96\",\"#EF553B\",\"#00cc96\",\"#EF553B\",\"#00cc96\",\"#00cc96\",\"#00cc96\",\"#00cc96\",\"#00cc96\",\"#00cc96\",\"#00cc96\",\"#00cc96\",\"#EF553B\",\"#636efa\",\"#00cc96\",\"#EF553B\",\"#00cc96\",\"#00cc96\",\"#EF553B\",\"#00cc96\",\"#EF553B\",\"#00cc96\",\"#ab63fa\",\"#00cc96\",\"#EF553B\",\"#EF553B\",\"#EF553B\",\"#EF553B\",\"#EF553B\",\"#EF553B\",\"#00cc96\",\"#ab63fa\",\"#EF553B\",\"#EF553B\",\"#EF553B\",\"#636efa\",\"#EF553B\",\"#00cc96\",\"#00cc96\",\"#636efa\",\"#00cc96\",\"#00cc96\",\"#EF553B\",\"#EF553B\",\"#EF553B\",\"#636efa\",\"#00cc96\",\"#EF553B\",\"#EF553B\",\"#EF553B\",\"#EF553B\",\"#636efa\",\"#FFA15A\",\"#EF553B\",\"#EF553B\",\"#00cc96\",\"#636efa\",\"#00cc96\",\"#00cc96\",\"#EF553B\",\"#EF553B\",\"#00cc96\",\"#00cc96\",\"#00cc96\",\"#00cc96\",\"#EF553B\",\"#EF553B\",\"#00cc96\",\"#EF553B\",\"#EF553B\",\"#00cc96\",\"#ab63fa\",\"#EF553B\",\"#00cc96\",\"#EF553B\",\"#00cc96\",\"#00cc96\",\"#00cc96\",\"#EF553B\",\"#EF553B\",\"#00cc96\",\"#EF553B\",\"#EF553B\",\"#00cc96\",\"#EF553B\",\"#EF553B\",\"#ab63fa\",\"#EF553B\",\"#00cc96\",\"#00cc96\",\"#00cc96\",\"#EF553B\",\"#00cc96\",\"#ab63fa\",\"#EF553B\",\"#EF553B\",\"#EF553B\",\"#00cc96\",\"#00cc96\",\"#EF553B\",\"#00cc96\",\"#EF553B\",\"#EF553B\",\"#00cc96\",\"#EF553B\",\"#EF553B\",\"#EF553B\",\"#EF553B\",\"#00cc96\",\"#00cc96\",\"#00cc96\",\"#EF553B\",\"#EF553B\",\"#EF553B\",\"#EF553B\",\"#636efa\",\"#00cc96\",\"#EF553B\",\"#ab63fa\",\"#EF553B\",\"#EF553B\",\"#EF553B\",\"#636efa\",\"#EF553B\",\"#00cc96\",\"#EF553B\",\"#00cc96\",\"#ab63fa\",\"#EF553B\",\"#00cc96\",\"#EF553B\",\"#EF553B\",\"#00cc96\",\"#00cc96\",\"#00cc96\",\"#00cc96\",\"#EF553B\",\"#EF553B\",\"#EF553B\",\"#EF553B\",\"#ab63fa\",\"#00cc96\",\"#EF553B\",\"#EF553B\",\"#00cc96\",\"#00cc96\",\"#EF553B\",\"#00cc96\",\"#EF553B\",\"#EF553B\",\"#00cc96\",\"#EF553B\",\"#EF553B\",\"#00cc96\",\"#00cc96\",\"#00cc96\",\"#EF553B\",\"#EF553B\",\"#00cc96\",\"#00cc96\",\"#636efa\",\"#00cc96\",\"#EF553B\",\"#00cc96\",\"#EF553B\",\"#00cc96\",\"#00cc96\",\"#00cc96\",\"#00cc96\",\"#EF553B\",\"#00cc96\",\"#00cc96\",\"#ab63fa\",\"#00cc96\",\"#EF553B\",\"#EF553B\",\"#ab63fa\",\"#00cc96\",\"#EF553B\",\"#00cc96\",\"#EF553B\",\"#00cc96\",\"#00cc96\",\"#00cc96\",\"#EF553B\",\"#EF553B\",\"#EF553B\",\"#EF553B\",\"#00cc96\",\"#EF553B\",\"#EF553B\",\"#00cc96\",\"#00cc96\",\"#00cc96\",\"#00cc96\",\"#00cc96\",\"#00cc96\",\"#00cc96\",\"#ab63fa\",\"#00cc96\",\"#EF553B\",\"#00cc96\",\"#EF553B\",\"#00cc96\",\"#00cc96\",\"#EF553B\",\"#EF553B\",\"#ab63fa\",\"#ab63fa\",\"#EF553B\",\"#ab63fa\",\"#EF553B\",\"#EF553B\",\"#00cc96\",\"#EF553B\",\"#00cc96\",\"#00cc96\",\"#00cc96\",\"#EF553B\",\"#636efa\",\"#00cc96\",\"#00cc96\",\"#EF553B\",\"#EF553B\",\"#00cc96\",\"#ab63fa\",\"#00cc96\",\"#EF553B\",\"#EF553B\",\"#ab63fa\",\"#00cc96\",\"#EF553B\",\"#00cc96\",\"#FFA15A\",\"#00cc96\",\"#EF553B\",\"#EF553B\",\"#00cc96\",\"#00cc96\",\"#00cc96\",\"#00cc96\",\"#EF553B\",\"#00cc96\",\"#00cc96\",\"#00cc96\",\"#00cc96\",\"#EF553B\",\"#EF553B\",\"#00cc96\",\"#00cc96\",\"#00cc96\",\"#00cc96\",\"#00cc96\",\"#00cc96\",\"#00cc96\",\"#ab63fa\",\"#EF553B\",\"#EF553B\",\"#EF553B\",\"#EF553B\",\"#00cc96\",\"#00cc96\",\"#FFA15A\",\"#00cc96\",\"#EF553B\",\"#EF553B\",\"#00cc96\",\"#EF553B\",\"#EF553B\",\"#00cc96\",\"#00cc96\",\"#00cc96\",\"#00cc96\",\"#00cc96\",\"#EF553B\",\"#00cc96\",\"#EF553B\",\"#ab63fa\",\"#00cc96\",\"#EF553B\",\"#00cc96\",\"#ab63fa\",\"#EF553B\",\"#00cc96\",\"#00cc96\",\"#EF553B\",\"#00cc96\",\"#00cc96\",\"#EF553B\",\"#ab63fa\",\"#00cc96\",\"#00cc96\",\"#EF553B\",\"#00cc96\",\"#ab63fa\",\"#00cc96\",\"#00cc96\",\"#EF553B\",\"#EF553B\",\"#EF553B\",\"#00cc96\",\"#EF553B\",\"#00cc96\",\"#EF553B\",\"#FFA15A\",\"#00cc96\",\"#ab63fa\",\"#00cc96\",\"#00cc96\",\"#EF553B\",\"#00cc96\",\"#EF553B\",\"#00cc96\",\"#00cc96\",\"#EF553B\",\"#EF553B\",\"#00cc96\",\"#ab63fa\",\"#EF553B\",\"#ab63fa\",\"#00cc96\",\"#00cc96\",\"#ab63fa\",\"#ab63fa\",\"#00cc96\",\"#00cc96\",\"#EF553B\",\"#EF553B\",\"#EF553B\",\"#EF553B\",\"#00cc96\",\"#00cc96\",\"#00cc96\",\"#EF553B\",\"#EF553B\",\"#00cc96\",\"#00cc96\",\"#00cc96\",\"#00cc96\",\"#00cc96\",\"#ab63fa\",\"#EF553B\",\"#00cc96\",\"#00cc96\",\"#00cc96\",\"#00cc96\",\"#00cc96\",\"#EF553B\",\"#00cc96\",\"#636efa\",\"#EF553B\",\"#EF553B\",\"#00cc96\",\"#00cc96\",\"#00cc96\",\"#EF553B\",\"#ab63fa\",\"#636efa\",\"#00cc96\",\"#00cc96\",\"#00cc96\",\"#00cc96\",\"#EF553B\",\"#00cc96\",\"#00cc96\",\"#00cc96\",\"#636efa\",\"#00cc96\",\"#00cc96\",\"#00cc96\",\"#00cc96\",\"#EF553B\",\"#00cc96\",\"#EF553B\",\"#00cc96\",\"#EF553B\",\"#00cc96\",\"#ab63fa\",\"#00cc96\",\"#EF553B\",\"#EF553B\",\"#ab63fa\",\"#EF553B\",\"#EF553B\",\"#EF553B\",\"#EF553B\",\"#00cc96\",\"#EF553B\",\"#ab63fa\",\"#EF553B\",\"#00cc96\",\"#00cc96\",\"#EF553B\",\"#EF553B\",\"#00cc96\",\"#00cc96\",\"#00cc96\",\"#00cc96\",\"#00cc96\",\"#00cc96\",\"#EF553B\",\"#636efa\",\"#EF553B\",\"#EF553B\",\"#EF553B\",\"#EF553B\",\"#EF553B\",\"#00cc96\",\"#EF553B\",\"#ab63fa\",\"#00cc96\",\"#EF553B\",\"#00cc96\",\"#EF553B\",\"#00cc96\",\"#EF553B\",\"#EF553B\",\"#00cc96\",\"#EF553B\",\"#EF553B\",\"#00cc96\",\"#EF553B\",\"#00cc96\",\"#EF553B\",\"#EF553B\",\"#00cc96\",\"#EF553B\",\"#00cc96\",\"#EF553B\",\"#00cc96\",\"#00cc96\",\"#00cc96\",\"#ab63fa\",\"#EF553B\",\"#00cc96\",\"#EF553B\",\"#EF553B\",\"#00cc96\",\"#EF553B\",\"#00cc96\",\"#00cc96\",\"#EF553B\",\"#00cc96\",\"#00cc96\",\"#EF553B\",\"#00cc96\",\"#FFA15A\",\"#EF553B\",\"#EF553B\",\"#00cc96\",\"#00cc96\",\"#EF553B\",\"#00cc96\",\"#EF553B\",\"#00cc96\",\"#EF553B\",\"#EF553B\",\"#00cc96\",\"#EF553B\",\"#00cc96\",\"#00cc96\",\"#00cc96\",\"#ab63fa\",\"#00cc96\",\"#00cc96\",\"#636efa\",\"#ab63fa\",\"#EF553B\",\"#EF553B\",\"#00cc96\",\"#00cc96\",\"#ab63fa\",\"#636efa\",\"#EF553B\",\"#EF553B\",\"#ab63fa\",\"#00cc96\",\"#EF553B\",\"#00cc96\",\"#EF553B\",\"#EF553B\",\"#ab63fa\",\"#ab63fa\",\"#00cc96\",\"#EF553B\",\"#EF553B\",\"#00cc96\",\"#00cc96\",\"#FFA15A\",\"#00cc96\",\"#EF553B\",\"#00cc96\",\"#00cc96\",\"#00cc96\",\"#EF553B\",\"#00cc96\",\"#00cc96\",\"#00cc96\",\"#00cc96\",\"#00cc96\",\"#00cc96\",\"#EF553B\",\"#EF553B\",\"#FFA15A\",\"#EF553B\",\"#EF553B\",\"#EF553B\",\"#00cc96\",\"#ab63fa\",\"#00cc96\",\"#EF553B\",\"#00cc96\",\"#00cc96\",\"#EF553B\",\"#00cc96\",\"#00cc96\",\"#EF553B\",\"#EF553B\",\"#00cc96\",\"#EF553B\",\"#EF553B\",\"#EF553B\",\"#EF553B\",\"#EF553B\",\"#EF553B\",\"#EF553B\",\"#EF553B\",\"#EF553B\",\"#EF553B\",\"#EF553B\",\"#EF553B\",\"#EF553B\",\"#00cc96\",\"#EF553B\",\"#ab63fa\",\"#EF553B\",\"#EF553B\",\"#FFA15A\",\"#EF553B\",\"#EF553B\",\"#00cc96\",\"#00cc96\",\"#636efa\",\"#EF553B\",\"#00cc96\",\"#EF553B\",\"#EF553B\",\"#00cc96\",\"#00cc96\",\"#EF553B\",\"#EF553B\",\"#ab63fa\",\"#EF553B\",\"#EF553B\",\"#00cc96\",\"#00cc96\",\"#00cc96\",\"#00cc96\",\"#00cc96\",\"#00cc96\",\"#EF553B\",\"#EF553B\",\"#00cc96\",\"#EF553B\",\"#EF553B\",\"#00cc96\",\"#ab63fa\",\"#00cc96\",\"#EF553B\",\"#EF553B\",\"#00cc96\",\"#EF553B\",\"#00cc96\",\"#EF553B\",\"#00cc96\",\"#ab63fa\",\"#EF553B\",\"#EF553B\",\"#EF553B\",\"#00cc96\",\"#EF553B\",\"#00cc96\",\"#636efa\",\"#00cc96\",\"#00cc96\",\"#EF553B\",\"#00cc96\",\"#00cc96\",\"#ab63fa\",\"#636efa\",\"#00cc96\",\"#00cc96\",\"#00cc96\",\"#ab63fa\",\"#ab63fa\",\"#00cc96\",\"#00cc96\",\"#00cc96\",\"#EF553B\",\"#00cc96\",\"#EF553B\",\"#EF553B\",\"#EF553B\",\"#00cc96\",\"#00cc96\",\"#EF553B\",\"#00cc96\",\"#EF553B\",\"#00cc96\",\"#00cc96\",\"#EF553B\",\"#ab63fa\",\"#00cc96\",\"#EF553B\",\"#ab63fa\",\"#00cc96\",\"#EF553B\",\"#EF553B\",\"#EF553B\",\"#EF553B\",\"#EF553B\",\"#EF553B\",\"#EF553B\",\"#00cc96\",\"#EF553B\",\"#EF553B\",\"#EF553B\",\"#EF553B\",\"#EF553B\",\"#EF553B\",\"#EF553B\",\"#ab63fa\",\"#00cc96\",\"#EF553B\",\"#00cc96\",\"#EF553B\",\"#00cc96\",\"#00cc96\",\"#EF553B\",\"#636efa\",\"#EF553B\",\"#EF553B\",\"#EF553B\",\"#00cc96\",\"#ab63fa\",\"#EF553B\",\"#FFA15A\",\"#EF553B\",\"#EF553B\",\"#EF553B\",\"#00cc96\",\"#00cc96\",\"#EF553B\",\"#00cc96\",\"#00cc96\",\"#EF553B\",\"#EF553B\",\"#00cc96\",\"#EF553B\",\"#00cc96\",\"#00cc96\",\"#EF553B\",\"#EF553B\",\"#EF553B\",\"#EF553B\",\"#EF553B\",\"#00cc96\",\"#EF553B\",\"#EF553B\",\"#00cc96\",\"#00cc96\",\"#00cc96\",\"#EF553B\",\"#EF553B\",\"#EF553B\",\"#EF553B\",\"#EF553B\",\"#EF553B\",\"#00cc96\",\"#00cc96\",\"#EF553B\",\"#EF553B\",\"#00cc96\",\"#00cc96\",\"#00cc96\",\"#00cc96\",\"#00cc96\",\"#00cc96\",\"#EF553B\",\"#636efa\",\"#EF553B\",\"#00cc96\",\"#00cc96\",\"#EF553B\",\"#ab63fa\",\"#00cc96\",\"#00cc96\",\"#EF553B\",\"#EF553B\",\"#00cc96\",\"#EF553B\",\"#00cc96\",\"#EF553B\",\"#00cc96\",\"#EF553B\",\"#EF553B\",\"#00cc96\",\"#EF553B\",\"#00cc96\",\"#EF553B\",\"#00cc96\",\"#00cc96\",\"#00cc96\",\"#EF553B\",\"#00cc96\",\"#00cc96\",\"#EF553B\",\"#00cc96\",\"#00cc96\",\"#EF553B\",\"#00cc96\",\"#00cc96\",\"#00cc96\",\"#EF553B\",\"#00cc96\",\"#00cc96\",\"#EF553B\",\"#00cc96\",\"#00cc96\",\"#636efa\",\"#00cc96\",\"#EF553B\",\"#EF553B\",\"#ab63fa\",\"#EF553B\",\"#00cc96\",\"#00cc96\",\"#EF553B\",\"#00cc96\",\"#EF553B\",\"#00cc96\",\"#ab63fa\",\"#FFA15A\",\"#00cc96\",\"#EF553B\",\"#EF553B\",\"#EF553B\",\"#EF553B\",\"#EF553B\",\"#ab63fa\",\"#EF553B\",\"#00cc96\",\"#00cc96\",\"#FFA15A\",\"#EF553B\",\"#00cc96\",\"#EF553B\",\"#FFA15A\",\"#00cc96\",\"#00cc96\",\"#EF553B\",\"#EF553B\",\"#636efa\",\"#00cc96\",\"#EF553B\",\"#00cc96\",\"#00cc96\",\"#EF553B\",\"#EF553B\",\"#00cc96\",\"#ab63fa\",\"#00cc96\",\"#00cc96\",\"#EF553B\",\"#EF553B\",\"#00cc96\",\"#EF553B\",\"#ab63fa\",\"#00cc96\",\"#00cc96\",\"#00cc96\",\"#00cc96\",\"#FFA15A\",\"#EF553B\",\"#00cc96\",\"#00cc96\",\"#00cc96\",\"#00cc96\",\"#00cc96\",\"#00cc96\",\"#ab63fa\",\"#EF553B\",\"#00cc96\",\"#EF553B\",\"#EF553B\",\"#636efa\",\"#ab63fa\",\"#EF553B\",\"#EF553B\",\"#EF553B\",\"#EF553B\",\"#00cc96\",\"#EF553B\",\"#EF553B\",\"#EF553B\",\"#ab63fa\",\"#00cc96\",\"#EF553B\",\"#00cc96\",\"#EF553B\",\"#EF553B\",\"#00cc96\",\"#EF553B\",\"#EF553B\",\"#EF553B\",\"#EF553B\",\"#00cc96\",\"#EF553B\",\"#EF553B\",\"#ab63fa\",\"#00cc96\",\"#EF553B\",\"#00cc96\",\"#EF553B\",\"#EF553B\",\"#EF553B\",\"#636efa\",\"#EF553B\",\"#00cc96\",\"#ab63fa\",\"#ab63fa\",\"#EF553B\",\"#ab63fa\",\"#EF553B\",\"#EF553B\",\"#00cc96\",\"#EF553B\",\"#ab63fa\",\"#00cc96\",\"#00cc96\",\"#EF553B\",\"#EF553B\",\"#00cc96\",\"#ab63fa\",\"#00cc96\",\"#EF553B\",\"#ab63fa\",\"#00cc96\",\"#00cc96\",\"#636efa\",\"#FFA15A\",\"#EF553B\",\"#00cc96\",\"#EF553B\",\"#EF553B\",\"#00cc96\",\"#EF553B\",\"#EF553B\",\"#00cc96\",\"#EF553B\",\"#EF553B\",\"#ab63fa\",\"#EF553B\",\"#00cc96\",\"#00cc96\",\"#ab63fa\",\"#ab63fa\",\"#00cc96\",\"#EF553B\",\"#EF553B\",\"#EF553B\",\"#EF553B\",\"#EF553B\",\"#EF553B\",\"#00cc96\",\"#ab63fa\",\"#EF553B\",\"#00cc96\",\"#00cc96\",\"#EF553B\",\"#ab63fa\",\"#EF553B\",\"#ab63fa\",\"#EF553B\",\"#00cc96\",\"#00cc96\",\"#EF553B\",\"#00cc96\",\"#EF553B\",\"#00cc96\",\"#EF553B\",\"#00cc96\",\"#FFA15A\",\"#ab63fa\",\"#EF553B\",\"#00cc96\",\"#ab63fa\",\"#00cc96\",\"#EF553B\",\"#00cc96\",\"#00cc96\",\"#636efa\",\"#00cc96\",\"#EF553B\",\"#EF553B\",\"#EF553B\",\"#636efa\",\"#EF553B\",\"#636efa\",\"#EF553B\",\"#EF553B\",\"#ab63fa\",\"#00cc96\",\"#EF553B\",\"#636efa\",\"#00cc96\",\"#ab63fa\",\"#EF553B\",\"#EF553B\",\"#00cc96\",\"#EF553B\",\"#00cc96\",\"#ab63fa\",\"#00cc96\",\"#EF553B\",\"#00cc96\",\"#00cc96\",\"#00cc96\",\"#EF553B\",\"#00cc96\",\"#00cc96\",\"#EF553B\",\"#EF553B\",\"#FFA15A\",\"#00cc96\",\"#00cc96\",\"#EF553B\",\"#00cc96\",\"#00cc96\",\"#00cc96\",\"#EF553B\",\"#EF553B\",\"#EF553B\",\"#00cc96\",\"#FFA15A\",\"#00cc96\",\"#00cc96\",\"#EF553B\",\"#EF553B\",\"#00cc96\",\"#00cc96\",\"#ab63fa\",\"#EF553B\",\"#00cc96\",\"#00cc96\",\"#EF553B\",\"#00cc96\",\"#ab63fa\",\"#EF553B\",\"#00cc96\",\"#EF553B\",\"#EF553B\",\"#EF553B\",\"#EF553B\",\"#00cc96\",\"#00cc96\",\"#FFA15A\",\"#FFA15A\",\"#00cc96\",\"#EF553B\",\"#EF553B\",\"#00cc96\",\"#EF553B\",\"#00cc96\",\"#00cc96\",\"#EF553B\",\"#EF553B\",\"#EF553B\",\"#EF553B\",\"#00cc96\",\"#00cc96\",\"#00cc96\",\"#00cc96\",\"#EF553B\",\"#EF553B\",\"#ab63fa\",\"#EF553B\",\"#00cc96\",\"#EF553B\",\"#00cc96\",\"#00cc96\",\"#EF553B\",\"#636efa\",\"#ab63fa\",\"#00cc96\",\"#00cc96\",\"#EF553B\",\"#EF553B\",\"#00cc96\",\"#00cc96\",\"#00cc96\",\"#00cc96\",\"#EF553B\",\"#00cc96\",\"#00cc96\",\"#EF553B\",\"#EF553B\",\"#636efa\",\"#ab63fa\",\"#EF553B\",\"#00cc96\",\"#EF553B\",\"#FFA15A\",\"#00cc96\",\"#EF553B\",\"#EF553B\",\"#00cc96\",\"#EF553B\",\"#00cc96\",\"#00cc96\",\"#ab63fa\",\"#EF553B\",\"#00cc96\",\"#00cc96\",\"#EF553B\",\"#EF553B\",\"#ab63fa\",\"#00cc96\",\"#EF553B\",\"#EF553B\",\"#00cc96\",\"#00cc96\",\"#00cc96\",\"#00cc96\",\"#00cc96\",\"#EF553B\",\"#EF553B\",\"#EF553B\",\"#EF553B\",\"#636efa\",\"#00cc96\",\"#00cc96\",\"#EF553B\",\"#EF553B\",\"#EF553B\",\"#00cc96\",\"#EF553B\",\"#EF553B\",\"#EF553B\",\"#EF553B\",\"#00cc96\",\"#EF553B\",\"#00cc96\",\"#00cc96\",\"#EF553B\",\"#ab63fa\",\"#00cc96\",\"#00cc96\",\"#EF553B\",\"#00cc96\",\"#636efa\",\"#EF553B\",\"#ab63fa\",\"#00cc96\",\"#00cc96\",\"#00cc96\",\"#636efa\",\"#EF553B\",\"#00cc96\",\"#00cc96\",\"#00cc96\",\"#00cc96\",\"#EF553B\",\"#EF553B\",\"#00cc96\",\"#636efa\",\"#00cc96\",\"#636efa\",\"#EF553B\",\"#EF553B\",\"#636efa\",\"#EF553B\",\"#636efa\",\"#00cc96\",\"#EF553B\",\"#00cc96\",\"#00cc96\",\"#FFA15A\",\"#FFA15A\",\"#EF553B\",\"#00cc96\",\"#EF553B\",\"#EF553B\",\"#00cc96\",\"#00cc96\",\"#00cc96\",\"#EF553B\",\"#EF553B\",\"#EF553B\",\"#EF553B\",\"#00cc96\",\"#636efa\",\"#00cc96\",\"#636efa\",\"#00cc96\",\"#EF553B\",\"#00cc96\",\"#00cc96\",\"#00cc96\",\"#00cc96\",\"#EF553B\",\"#EF553B\",\"#00cc96\",\"#636efa\",\"#EF553B\",\"#00cc96\",\"#00cc96\",\"#EF553B\",\"#00cc96\",\"#EF553B\",\"#00cc96\",\"#00cc96\",\"#00cc96\",\"#EF553B\",\"#00cc96\",\"#EF553B\",\"#00cc96\",\"#EF553B\",\"#EF553B\",\"#00cc96\",\"#EF553B\",\"#EF553B\",\"#EF553B\",\"#00cc96\",\"#00cc96\",\"#00cc96\",\"#00cc96\",\"#00cc96\",\"#EF553B\",\"#EF553B\",\"#EF553B\",\"#EF553B\",\"#EF553B\",\"#00cc96\",\"#EF553B\",\"#00cc96\",\"#00cc96\",\"#00cc96\",\"#00cc96\",\"#EF553B\",\"#EF553B\",\"#EF553B\",\"#00cc96\",\"#00cc96\",\"#EF553B\",\"#00cc96\",\"#EF553B\",\"#EF553B\",\"#00cc96\",\"#EF553B\",\"#00cc96\",\"#00cc96\",\"#00cc96\",\"#00cc96\",\"#00cc96\",\"#00cc96\",\"#00cc96\",\"#EF553B\",\"#EF553B\",\"#EF553B\",\"#EF553B\",\"#00cc96\",\"#EF553B\",\"#00cc96\",\"#636efa\",\"#EF553B\",\"#EF553B\",\"#EF553B\",\"#EF553B\",\"#00cc96\",\"#EF553B\",\"#EF553B\",\"#00cc96\",\"#EF553B\",\"#EF553B\",\"#00cc96\",\"#EF553B\",\"#ab63fa\",\"#00cc96\",\"#ab63fa\",\"#EF553B\",\"#00cc96\",\"#EF553B\",\"#EF553B\",\"#00cc96\",\"#00cc96\",\"#EF553B\",\"#EF553B\",\"#00cc96\",\"#EF553B\",\"#EF553B\",\"#00cc96\",\"#00cc96\",\"#ab63fa\",\"#00cc96\",\"#EF553B\",\"#EF553B\",\"#00cc96\",\"#EF553B\",\"#EF553B\",\"#EF553B\",\"#ab63fa\",\"#00cc96\",\"#EF553B\",\"#00cc96\",\"#EF553B\",\"#00cc96\",\"#EF553B\",\"#636efa\",\"#EF553B\",\"#EF553B\",\"#00cc96\",\"#EF553B\",\"#00cc96\",\"#EF553B\",\"#EF553B\",\"#EF553B\",\"#00cc96\",\"#EF553B\"]},\"name\":\"\",\"showlegend\":true,\"type\":\"pie\"}],                        {\"template\":{\"data\":{\"histogram2dcontour\":[{\"type\":\"histogram2dcontour\",\"colorbar\":{\"outlinewidth\":0,\"ticks\":\"\"},\"colorscale\":[[0.0,\"#0d0887\"],[0.1111111111111111,\"#46039f\"],[0.2222222222222222,\"#7201a8\"],[0.3333333333333333,\"#9c179e\"],[0.4444444444444444,\"#bd3786\"],[0.5555555555555556,\"#d8576b\"],[0.6666666666666666,\"#ed7953\"],[0.7777777777777778,\"#fb9f3a\"],[0.8888888888888888,\"#fdca26\"],[1.0,\"#f0f921\"]]}],\"choropleth\":[{\"type\":\"choropleth\",\"colorbar\":{\"outlinewidth\":0,\"ticks\":\"\"}}],\"histogram2d\":[{\"type\":\"histogram2d\",\"colorbar\":{\"outlinewidth\":0,\"ticks\":\"\"},\"colorscale\":[[0.0,\"#0d0887\"],[0.1111111111111111,\"#46039f\"],[0.2222222222222222,\"#7201a8\"],[0.3333333333333333,\"#9c179e\"],[0.4444444444444444,\"#bd3786\"],[0.5555555555555556,\"#d8576b\"],[0.6666666666666666,\"#ed7953\"],[0.7777777777777778,\"#fb9f3a\"],[0.8888888888888888,\"#fdca26\"],[1.0,\"#f0f921\"]]}],\"heatmap\":[{\"type\":\"heatmap\",\"colorbar\":{\"outlinewidth\":0,\"ticks\":\"\"},\"colorscale\":[[0.0,\"#0d0887\"],[0.1111111111111111,\"#46039f\"],[0.2222222222222222,\"#7201a8\"],[0.3333333333333333,\"#9c179e\"],[0.4444444444444444,\"#bd3786\"],[0.5555555555555556,\"#d8576b\"],[0.6666666666666666,\"#ed7953\"],[0.7777777777777778,\"#fb9f3a\"],[0.8888888888888888,\"#fdca26\"],[1.0,\"#f0f921\"]]}],\"heatmapgl\":[{\"type\":\"heatmapgl\",\"colorbar\":{\"outlinewidth\":0,\"ticks\":\"\"},\"colorscale\":[[0.0,\"#0d0887\"],[0.1111111111111111,\"#46039f\"],[0.2222222222222222,\"#7201a8\"],[0.3333333333333333,\"#9c179e\"],[0.4444444444444444,\"#bd3786\"],[0.5555555555555556,\"#d8576b\"],[0.6666666666666666,\"#ed7953\"],[0.7777777777777778,\"#fb9f3a\"],[0.8888888888888888,\"#fdca26\"],[1.0,\"#f0f921\"]]}],\"contourcarpet\":[{\"type\":\"contourcarpet\",\"colorbar\":{\"outlinewidth\":0,\"ticks\":\"\"}}],\"contour\":[{\"type\":\"contour\",\"colorbar\":{\"outlinewidth\":0,\"ticks\":\"\"},\"colorscale\":[[0.0,\"#0d0887\"],[0.1111111111111111,\"#46039f\"],[0.2222222222222222,\"#7201a8\"],[0.3333333333333333,\"#9c179e\"],[0.4444444444444444,\"#bd3786\"],[0.5555555555555556,\"#d8576b\"],[0.6666666666666666,\"#ed7953\"],[0.7777777777777778,\"#fb9f3a\"],[0.8888888888888888,\"#fdca26\"],[1.0,\"#f0f921\"]]}],\"surface\":[{\"type\":\"surface\",\"colorbar\":{\"outlinewidth\":0,\"ticks\":\"\"},\"colorscale\":[[0.0,\"#0d0887\"],[0.1111111111111111,\"#46039f\"],[0.2222222222222222,\"#7201a8\"],[0.3333333333333333,\"#9c179e\"],[0.4444444444444444,\"#bd3786\"],[0.5555555555555556,\"#d8576b\"],[0.6666666666666666,\"#ed7953\"],[0.7777777777777778,\"#fb9f3a\"],[0.8888888888888888,\"#fdca26\"],[1.0,\"#f0f921\"]]}],\"mesh3d\":[{\"type\":\"mesh3d\",\"colorbar\":{\"outlinewidth\":0,\"ticks\":\"\"}}],\"scatter\":[{\"marker\":{\"line\":{\"color\":\"#283442\"}},\"type\":\"scatter\"}],\"parcoords\":[{\"type\":\"parcoords\",\"line\":{\"colorbar\":{\"outlinewidth\":0,\"ticks\":\"\"}}}],\"scatterpolargl\":[{\"type\":\"scatterpolargl\",\"marker\":{\"colorbar\":{\"outlinewidth\":0,\"ticks\":\"\"}}}],\"bar\":[{\"error_x\":{\"color\":\"#f2f5fa\"},\"error_y\":{\"color\":\"#f2f5fa\"},\"marker\":{\"line\":{\"color\":\"rgb(17,17,17)\",\"width\":0.5},\"pattern\":{\"fillmode\":\"overlay\",\"size\":10,\"solidity\":0.2}},\"type\":\"bar\"}],\"scattergeo\":[{\"type\":\"scattergeo\",\"marker\":{\"colorbar\":{\"outlinewidth\":0,\"ticks\":\"\"}}}],\"scatterpolar\":[{\"type\":\"scatterpolar\",\"marker\":{\"colorbar\":{\"outlinewidth\":0,\"ticks\":\"\"}}}],\"histogram\":[{\"marker\":{\"pattern\":{\"fillmode\":\"overlay\",\"size\":10,\"solidity\":0.2}},\"type\":\"histogram\"}],\"scattergl\":[{\"marker\":{\"line\":{\"color\":\"#283442\"}},\"type\":\"scattergl\"}],\"scatter3d\":[{\"type\":\"scatter3d\",\"line\":{\"colorbar\":{\"outlinewidth\":0,\"ticks\":\"\"}},\"marker\":{\"colorbar\":{\"outlinewidth\":0,\"ticks\":\"\"}}}],\"scattermapbox\":[{\"type\":\"scattermapbox\",\"marker\":{\"colorbar\":{\"outlinewidth\":0,\"ticks\":\"\"}}}],\"scatterternary\":[{\"type\":\"scatterternary\",\"marker\":{\"colorbar\":{\"outlinewidth\":0,\"ticks\":\"\"}}}],\"scattercarpet\":[{\"type\":\"scattercarpet\",\"marker\":{\"colorbar\":{\"outlinewidth\":0,\"ticks\":\"\"}}}],\"carpet\":[{\"aaxis\":{\"endlinecolor\":\"#A2B1C6\",\"gridcolor\":\"#506784\",\"linecolor\":\"#506784\",\"minorgridcolor\":\"#506784\",\"startlinecolor\":\"#A2B1C6\"},\"baxis\":{\"endlinecolor\":\"#A2B1C6\",\"gridcolor\":\"#506784\",\"linecolor\":\"#506784\",\"minorgridcolor\":\"#506784\",\"startlinecolor\":\"#A2B1C6\"},\"type\":\"carpet\"}],\"table\":[{\"cells\":{\"fill\":{\"color\":\"#506784\"},\"line\":{\"color\":\"rgb(17,17,17)\"}},\"header\":{\"fill\":{\"color\":\"#2a3f5f\"},\"line\":{\"color\":\"rgb(17,17,17)\"}},\"type\":\"table\"}],\"barpolar\":[{\"marker\":{\"line\":{\"color\":\"rgb(17,17,17)\",\"width\":0.5},\"pattern\":{\"fillmode\":\"overlay\",\"size\":10,\"solidity\":0.2}},\"type\":\"barpolar\"}],\"pie\":[{\"automargin\":true,\"type\":\"pie\"}]},\"layout\":{\"autotypenumbers\":\"strict\",\"colorway\":[\"#636efa\",\"#EF553B\",\"#00cc96\",\"#ab63fa\",\"#FFA15A\",\"#19d3f3\",\"#FF6692\",\"#B6E880\",\"#FF97FF\",\"#FECB52\"],\"font\":{\"color\":\"#f2f5fa\"},\"hovermode\":\"closest\",\"hoverlabel\":{\"align\":\"left\"},\"paper_bgcolor\":\"rgb(17,17,17)\",\"plot_bgcolor\":\"rgb(17,17,17)\",\"polar\":{\"bgcolor\":\"rgb(17,17,17)\",\"angularaxis\":{\"gridcolor\":\"#506784\",\"linecolor\":\"#506784\",\"ticks\":\"\"},\"radialaxis\":{\"gridcolor\":\"#506784\",\"linecolor\":\"#506784\",\"ticks\":\"\"}},\"ternary\":{\"bgcolor\":\"rgb(17,17,17)\",\"aaxis\":{\"gridcolor\":\"#506784\",\"linecolor\":\"#506784\",\"ticks\":\"\"},\"baxis\":{\"gridcolor\":\"#506784\",\"linecolor\":\"#506784\",\"ticks\":\"\"},\"caxis\":{\"gridcolor\":\"#506784\",\"linecolor\":\"#506784\",\"ticks\":\"\"}},\"coloraxis\":{\"colorbar\":{\"outlinewidth\":0,\"ticks\":\"\"}},\"colorscale\":{\"sequential\":[[0.0,\"#0d0887\"],[0.1111111111111111,\"#46039f\"],[0.2222222222222222,\"#7201a8\"],[0.3333333333333333,\"#9c179e\"],[0.4444444444444444,\"#bd3786\"],[0.5555555555555556,\"#d8576b\"],[0.6666666666666666,\"#ed7953\"],[0.7777777777777778,\"#fb9f3a\"],[0.8888888888888888,\"#fdca26\"],[1.0,\"#f0f921\"]],\"sequentialminus\":[[0.0,\"#0d0887\"],[0.1111111111111111,\"#46039f\"],[0.2222222222222222,\"#7201a8\"],[0.3333333333333333,\"#9c179e\"],[0.4444444444444444,\"#bd3786\"],[0.5555555555555556,\"#d8576b\"],[0.6666666666666666,\"#ed7953\"],[0.7777777777777778,\"#fb9f3a\"],[0.8888888888888888,\"#fdca26\"],[1.0,\"#f0f921\"]],\"diverging\":[[0,\"#8e0152\"],[0.1,\"#c51b7d\"],[0.2,\"#de77ae\"],[0.3,\"#f1b6da\"],[0.4,\"#fde0ef\"],[0.5,\"#f7f7f7\"],[0.6,\"#e6f5d0\"],[0.7,\"#b8e186\"],[0.8,\"#7fbc41\"],[0.9,\"#4d9221\"],[1,\"#276419\"]]},\"xaxis\":{\"gridcolor\":\"#283442\",\"linecolor\":\"#506784\",\"ticks\":\"\",\"title\":{\"standoff\":15},\"zerolinecolor\":\"#283442\",\"automargin\":true,\"zerolinewidth\":2},\"yaxis\":{\"gridcolor\":\"#283442\",\"linecolor\":\"#506784\",\"ticks\":\"\",\"title\":{\"standoff\":15},\"zerolinecolor\":\"#283442\",\"automargin\":true,\"zerolinewidth\":2},\"scene\":{\"xaxis\":{\"backgroundcolor\":\"rgb(17,17,17)\",\"gridcolor\":\"#506784\",\"linecolor\":\"#506784\",\"showbackground\":true,\"ticks\":\"\",\"zerolinecolor\":\"#C8D4E3\",\"gridwidth\":2},\"yaxis\":{\"backgroundcolor\":\"rgb(17,17,17)\",\"gridcolor\":\"#506784\",\"linecolor\":\"#506784\",\"showbackground\":true,\"ticks\":\"\",\"zerolinecolor\":\"#C8D4E3\",\"gridwidth\":2},\"zaxis\":{\"backgroundcolor\":\"rgb(17,17,17)\",\"gridcolor\":\"#506784\",\"linecolor\":\"#506784\",\"showbackground\":true,\"ticks\":\"\",\"zerolinecolor\":\"#C8D4E3\",\"gridwidth\":2}},\"shapedefaults\":{\"line\":{\"color\":\"#f2f5fa\"}},\"annotationdefaults\":{\"arrowcolor\":\"#f2f5fa\",\"arrowhead\":0,\"arrowwidth\":1},\"geo\":{\"bgcolor\":\"rgb(17,17,17)\",\"landcolor\":\"rgb(17,17,17)\",\"subunitcolor\":\"#506784\",\"showland\":true,\"showlakes\":true,\"lakecolor\":\"rgb(17,17,17)\"},\"title\":{\"x\":0.05},\"updatemenudefaults\":{\"bgcolor\":\"#506784\",\"borderwidth\":0},\"sliderdefaults\":{\"bgcolor\":\"#C8D4E3\",\"borderwidth\":1,\"bordercolor\":\"rgb(17,17,17)\",\"tickwidth\":0},\"mapbox\":{\"style\":\"dark\"}}},\"legend\":{\"tracegroupgap\":0},\"title\":{\"text\":\"Different weathers in our dataset with their %\"}},                        {\"responsive\": true}                    ).then(function(){\n",
       "                            \n",
       "var gd = document.getElementById('5d40383e-6b53-4c56-8e89-276f9965776c');\n",
       "var x = new MutationObserver(function (mutations, observer) {{\n",
       "        var display = window.getComputedStyle(gd).display;\n",
       "        if (!display || display === 'none') {{\n",
       "            console.log([gd, 'removed!']);\n",
       "            Plotly.purge(gd);\n",
       "            observer.disconnect();\n",
       "        }}\n",
       "}});\n",
       "\n",
       "// Listen for the removal of the full notebook cells\n",
       "var notebookContainer = gd.closest('#notebook-container');\n",
       "if (notebookContainer) {{\n",
       "    x.observe(notebookContainer, {childList: true});\n",
       "}}\n",
       "\n",
       "// Listen for the clearing of the current output cell\n",
       "var outputEl = gd.closest('.output');\n",
       "if (outputEl) {{\n",
       "    x.observe(outputEl, {childList: true});\n",
       "}}\n",
       "\n",
       "                        })                };                });            </script>        </div>"
      ]
     },
     "metadata": {},
     "output_type": "display_data"
    }
   ],
   "source": [
    "fig = px.pie(dataset, names=\"weather\",color='weather',title='Different weathers in our dataset with their %')\n",
    "fig.show()"
   ]
  },
  {
   "cell_type": "code",
   "execution_count": 109,
   "metadata": {
    "collapsed": false
   },
   "outputs": [],
   "source": [
    "# classes={\n",
    "#         'drizzle':0,\n",
    "#         'fog':1,\n",
    "#         'rain':2,\n",
    "#         'snow':3,\n",
    "#         'sun':4\n",
    "# }\n",
    "# dataset['weather']=dataset['weather'].astype('category')\n",
    "# dataset['weather']=dataset['weather'].cat.codes"
   ]
  },
  {
   "cell_type": "code",
   "execution_count": 110,
   "metadata": {
    "collapsed": false
   },
   "outputs": [
    {
     "data": {
      "text/plain": [
       "rain       641\n",
       "sun        640\n",
       "fog        101\n",
       "drizzle     53\n",
       "snow        26\n",
       "Name: weather, dtype: int64"
      ]
     },
     "execution_count": 110,
     "metadata": {},
     "output_type": "execute_result"
    }
   ],
   "source": [
    "dataset['weather'].value_counts()"
   ]
  },
  {
   "cell_type": "code",
   "execution_count": 111,
   "metadata": {
    "collapsed": false
   },
   "outputs": [
    {
     "data": {
      "text/html": [
       "<div>\n",
       "<style scoped>\n",
       "    .dataframe tbody tr th:only-of-type {\n",
       "        vertical-align: middle;\n",
       "    }\n",
       "\n",
       "    .dataframe tbody tr th {\n",
       "        vertical-align: top;\n",
       "    }\n",
       "\n",
       "    .dataframe thead th {\n",
       "        text-align: right;\n",
       "    }\n",
       "</style>\n",
       "<table border=\"1\" class=\"dataframe\">\n",
       "  <thead>\n",
       "    <tr style=\"text-align: right;\">\n",
       "      <th></th>\n",
       "      <th>precipitation</th>\n",
       "      <th>temp_max</th>\n",
       "      <th>temp_min</th>\n",
       "      <th>wind</th>\n",
       "    </tr>\n",
       "  </thead>\n",
       "  <tbody>\n",
       "    <tr>\n",
       "      <th>0</th>\n",
       "      <td>0.0</td>\n",
       "      <td>16.1</td>\n",
       "      <td>8.9</td>\n",
       "      <td>1.6</td>\n",
       "    </tr>\n",
       "    <tr>\n",
       "      <th>1</th>\n",
       "      <td>0.8</td>\n",
       "      <td>7.8</td>\n",
       "      <td>3.9</td>\n",
       "      <td>1.6</td>\n",
       "    </tr>\n",
       "    <tr>\n",
       "      <th>2</th>\n",
       "      <td>0.0</td>\n",
       "      <td>16.7</td>\n",
       "      <td>4.4</td>\n",
       "      <td>2.8</td>\n",
       "    </tr>\n",
       "    <tr>\n",
       "      <th>3</th>\n",
       "      <td>5.6</td>\n",
       "      <td>15.0</td>\n",
       "      <td>10.6</td>\n",
       "      <td>1.0</td>\n",
       "    </tr>\n",
       "    <tr>\n",
       "      <th>4</th>\n",
       "      <td>0.0</td>\n",
       "      <td>23.9</td>\n",
       "      <td>16.1</td>\n",
       "      <td>2.8</td>\n",
       "    </tr>\n",
       "  </tbody>\n",
       "</table>\n",
       "</div>"
      ],
      "text/plain": [
       "   precipitation  temp_max  temp_min  wind\n",
       "0            0.0      16.1       8.9   1.6\n",
       "1            0.8       7.8       3.9   1.6\n",
       "2            0.0      16.7       4.4   2.8\n",
       "3            5.6      15.0      10.6   1.0\n",
       "4            0.0      23.9      16.1   2.8"
      ]
     },
     "execution_count": 111,
     "metadata": {},
     "output_type": "execute_result"
    }
   ],
   "source": [
    "x = dataset[['precipitation','temp_max','temp_min','wind']]\n",
    "x.head()"
   ]
  },
  {
   "cell_type": "code",
   "execution_count": 112,
   "metadata": {
    "collapsed": false
   },
   "outputs": [
    {
     "data": {
      "text/plain": [
       "0    drizzle\n",
       "1       rain\n",
       "2        sun\n",
       "3       rain\n",
       "4        sun\n",
       "Name: weather, dtype: object"
      ]
     },
     "execution_count": 112,
     "metadata": {},
     "output_type": "execute_result"
    }
   ],
   "source": [
    "y=dataset['weather']\n",
    "y.head()"
   ]
  },
  {
   "cell_type": "code",
   "execution_count": 113,
   "metadata": {
    "collapsed": false
   },
   "outputs": [
    {
     "data": {
      "image/png": "[encoded data removed]",
      "text/plain": [
       "<Figure size 640x480 with 4 Axes>"
      ]
     },
     "metadata": {},
     "output_type": "display_data"
    }
   ],
   "source": [
    "x.hist(bins=20)\n",
    "plt.show()"
   ]
  },
  {
   "cell_type": "code",
   "execution_count": 114,
   "metadata": {
    "collapsed": false
   },
   "outputs": [
    {
     "name": "stdout",
     "output_type": "stream",
     "text": [
      "(1461, 4)\n",
      "(1461,)\n"
     ]
    }
   ],
   "source": [
    "print(x.shape)\n",
    "print(y.shape)"
   ]
  },
  {
   "cell_type": "markdown",
   "metadata": {
    "collapsed": false
   },
   "source": [
    "Data cleaning done"
   ]
  },
  {
   "cell_type": "code",
   "execution_count": 115,
   "metadata": {
    "collapsed": false
   },
   "outputs": [
    {
     "data": {
      "image/png": "[encoded data removed]",
      "text/plain": [
       "<Figure size 640x480 with 2 Axes>"
      ]
     },
     "metadata": {},
     "output_type": "display_data"
    }
   ],
   "source": [
    "corrMatrix = x.corr()\n",
    "sns.heatmap(corrMatrix, annot=True)\n",
    "plt.show()"
   ]
  },
  {
   "cell_type": "code",
   "execution_count": 116,
   "metadata": {
    "collapsed": false
   },
   "outputs": [],
   "source": [
    "from sklearn.model_selection import train_test_split\n",
    "\n",
    "x_train, x_test, y_train, y_test = train_test_split(x, y, test_size = 0.25, random_state =42)"
   ]
  },
  {
   "cell_type": "code",
   "execution_count": 117,
   "metadata": {
    "collapsed": false
   },
   "outputs": [
    {
     "name": "stdout",
     "output_type": "stream",
     "text": [
      "Shape of x training data :  (1095, 4)\n",
      "Shape of y training data :  (1095,)\n",
      "Shape of x testing data :  (366, 4)\n",
      "Shape of y testing data :  (366,)\n"
     ]
    }
   ],
   "source": [
    "print(\"Shape of x training data : \",x_train.shape)\n",
    "print(\"Shape of y training data : \",y_train.shape)\n",
    "print(\"Shape of x testing data : \",x_test.shape)\n",
    "print(\"Shape of y testing data : \",y_test.shape)"
   ]
  },
  {
   "cell_type": "code",
   "execution_count": 118,
   "metadata": {
    "collapsed": false
   },
   "outputs": [],
   "source": [
    "from sklearn.preprocessing import StandardScaler\n",
    "\n",
    "sc = StandardScaler()\n",
    "x_train = sc.fit_transform(x_train)\n",
    "x_test = sc.transform(x_test)"
   ]
  },
  {
   "cell_type": "code",
   "execution_count": 119,
   "metadata": {
    "collapsed": false
   },
   "outputs": [],
   "source": [
    "from sklearn.ensemble import RandomForestClassifier\n",
    "rf_model=RandomForestClassifier(n_estimators=10, criterion='entropy', random_state=0)\n",
    "rf_model.fit(x_train, y_train,sample_weight=None)\n",
    "y_pred = rf_model.predict(x_test)"
   ]
  },
  {
   "cell_type": "code",
   "execution_count": 120,
   "metadata": {
    "collapsed": false
   },
   "outputs": [
    {
     "name": "stdout",
     "output_type": "stream",
     "text": [
      "\n",
      "82.24043715846994\n",
      "\n"
     ]
    }
   ],
   "source": [
    "correct=0\n",
    "total=len(y_pred)\n",
    "for i,j in zip(y_pred, y_test):\n",
    "    if i==j:\n",
    "        correct+=1\n",
    "acc=(correct/total)*100\n",
    "print(\"\\n\"+str(acc)+\"\\n\")"
   ]
  },
  {
   "cell_type": "code",
   "execution_count": 121,
   "metadata": {
    "collapsed": false
   },
   "outputs": [
    {
     "data": {
      "text/plain": [
       "0.8224043715846995"
      ]
     },
     "execution_count": 121,
     "metadata": {},
     "output_type": "execute_result"
    }
   ],
   "source": [
    "from sklearn.metrics import accuracy_score\n",
    "accuracy_score(y_test, y_pred)"
   ]
  },
  {
   "cell_type": "code",
   "execution_count": 129,
   "metadata": {
    "collapsed": false
   },
   "outputs": [
    {
     "name": "stdout",
     "output_type": "stream",
     "text": [
      "              precision    recall  f1-score   support\n",
      "\n",
      "     drizzle       0.38      0.15      0.21        20\n",
      "         fog       0.17      0.10      0.12        21\n",
      "        rain       0.94      0.93      0.94       162\n",
      "        snow       1.00      0.43      0.60         7\n",
      "         sun       0.78      0.91      0.84       156\n",
      "\n",
      "    accuracy                           0.82       366\n",
      "   macro avg       0.65      0.50      0.54       366\n",
      "weighted avg       0.80      0.82      0.80       366\n",
      "\n",
      "[[  3   3   0   0  14]\n",
      " [  0   2   1   0  18]\n",
      " [  1   1 151   0   9]\n",
      " [  0   0   4   3   0]\n",
      " [  4   6   4   0 142]]\n"
     ]
    },
    {
     "data": {
      "image/png": "[encoded data removed]",
      "text/plain": [
       "<Figure size 640x480 with 2 Axes>"
      ]
     },
     "metadata": {},
     "output_type": "display_data"
    }
   ],
   "source": [
    "from sklearn.metrics import classification_report, confusion_matrix\n",
    "\n",
    "print((classification_report(y_test, y_pred)))\n",
    "print(confusion_matrix(y_test, y_pred))\n",
    "confusion = confusion_matrix(y_test,y_pred)\n",
    "sns.heatmap(confusion, annot=True)\n",
    "plt.show()"
   ]
  },
  {
   "cell_type": "code",
   "execution_count": 123,
   "metadata": {
    "collapsed": false
   },
   "outputs": [
    {
     "data": {
      "text/plain": [
       "array(['rain'], dtype=object)"
      ]
     },
     "execution_count": 123,
     "metadata": {},
     "output_type": "execute_result"
    }
   ],
   "source": [
    "rf_model.predict([[10.9,10.6,2.8,4.5]])"
   ]
  },
  {
   "cell_type": "code",
   "execution_count": 124,
   "metadata": {
    "collapsed": false
   },
   "outputs": [],
   "source": [
    "from sklearn.neighbors import KNeighborsClassifier\n",
    "knn=KNeighborsClassifier(n_neighbors = 5)\n",
    "knn.fit(x_train,y_train)\n",
    "knnpredicted=knn.predict(x_test)"
   ]
  },
  {
   "cell_type": "code",
   "execution_count": 125,
   "metadata": {
    "collapsed": false
   },
   "outputs": [
    {
     "data": {
      "text/plain": [
       "0.7240437158469946"
      ]
     },
     "execution_count": 125,
     "metadata": {},
     "output_type": "execute_result"
    }
   ],
   "source": [
    "accuracy_score(y_test, knnpredicted)"
   ]
  },
  {
   "cell_type": "code",
   "execution_count": 126,
   "metadata": {
    "collapsed": false
   },
   "outputs": [
    {
     "data": {
      "text/plain": [
       "array(['rain'], dtype=object)"
      ]
     },
     "execution_count": 126,
     "metadata": {},
     "output_type": "execute_result"
    }
   ],
   "source": [
    "knn.predict([[10.9,10.6,2.8,4.5]])"
   ]
  },
  {
   "cell_type": "code",
   "execution_count": 126,
   "metadata": {
    "collapsed": false
   },
   "outputs": [],
   "source": []
  },
  {
   "cell_type": "code",
   "execution_count": null,
   "metadata": {
    "collapsed": false
   },
   "outputs": [],
   "source": []
  }
 ],
 "metadata": {
  "kernelspec": {
   "display_name": "Python 3",
   "language": "python",
   "name": "python3"
  },
  "language_info": {
   "codemirror_mode": {
    "name": "ipython",
    "version": 2
   },
   "file_extension": ".py",
   "mimetype": "text/x-python",
   "name": "python",
   "nbconvert_exporter": "python",
   "pygments_lexer": "ipython2",
   "version": "2.7.6"
  }
 },
 "nbformat": 4,
 "nbformat_minor": 0
}
